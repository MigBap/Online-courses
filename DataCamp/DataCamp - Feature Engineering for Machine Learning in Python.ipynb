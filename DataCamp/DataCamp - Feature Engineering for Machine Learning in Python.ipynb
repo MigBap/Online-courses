{
 "cells": [
  {
   "cell_type": "markdown",
   "metadata": {},
   "source": [
    "# DataCamp (Python)"
   ]
  },
  {
   "cell_type": "markdown",
   "metadata": {},
   "source": [
    "##  Feature Engineering for Machine Learning in Python                 \n"
   ]
  },
  {
   "cell_type": "code",
   "execution_count": 1,
   "metadata": {},
   "outputs": [],
   "source": [
    "data_folder = \"C:/Users/Admin/Dropbox/Python/ficheiros/DataCamp/DataCamp - Feature Engineering for Machine Learning in Python/\""
   ]
  },
  {
   "cell_type": "code",
   "execution_count": 2,
   "metadata": {},
   "outputs": [],
   "source": [
    "%matplotlib inline\n",
    "import pandas as pd\n",
    "import numpy as np\n",
    "import matplotlib.pyplot as plt\n",
    "import seaborn as sns\n",
    "sns.set()"
   ]
  },
  {
   "cell_type": "code",
   "execution_count": 3,
   "metadata": {},
   "outputs": [],
   "source": [
    "from sklearn.preprocessing import MinMaxScaler\n",
    "from sklearn.preprocessing import StandardScaler\n",
    "from sklearn.preprocessing import PowerTransformer\n",
    "\n",
    "from sklearn.feature_extraction.text import CountVectorizer\n",
    "from sklearn.feature_extraction.text import TfidfVectorizer"
   ]
  },
  {
   "cell_type": "markdown",
   "metadata": {},
   "source": [
    "##    CHAPTER 1  - Creating Features\n"
   ]
  },
  {
   "cell_type": "markdown",
   "metadata": {},
   "source": [
    "#### Exercício 1 - Why generate features?"
   ]
  },
  {
   "cell_type": "code",
   "execution_count": 4,
   "metadata": {},
   "outputs": [
    {
     "name": "stdout",
     "output_type": "stream",
     "text": [
      "Index(['Age', 'Years Experience'], dtype='object')\n"
     ]
    }
   ],
   "source": [
    "# %%script false\n",
    "#vídeo\n",
    "\n",
    "df = pd.read_csv(data_folder + \"Combined_DS_v10.csv\")\n",
    "\n",
    "# Feature Engineering\n",
    "\n",
    "# Different types of data\n",
    "#  - Continuous: either integers (or whole numbers) or oats (decimals)\n",
    "#  - Categorical: one of a limited set of values, e.g. gender, country of birth\n",
    "#  - Ordinal: ranked values, often with no detail of distance between them\n",
    "#  - Boolean: True/False values\n",
    "#  - Datetime: dates and times\n",
    "\n",
    "# Pandas\n",
    "\n",
    "# Dataset\n",
    "\n",
    "# Column names\n",
    "df.columns\n",
    "\n",
    "# Column types\n",
    "df.dtypes\n",
    "\n",
    "# Selecting specic data types\n",
    "only_ints = df.select_dtypes(include=['int64'])  # tem que se pôr 64 senão n dá\n",
    "print(only_ints.columns)\n"
   ]
  },
  {
   "cell_type": "markdown",
   "metadata": {},
   "source": [
    "Exercício 2"
   ]
  },
  {
   "cell_type": "code",
   "execution_count": 5,
   "metadata": {},
   "outputs": [
    {
     "name": "stdout",
     "output_type": "stream",
     "text": [
      "SurveyDate                     object\n",
      "FormalEducation                object\n",
      "ConvertedSalary               float64\n",
      "Hobby                          object\n",
      "Country                        object\n",
      "StackOverflowJobsRecommend    float64\n",
      "VersionControl                 object\n",
      "Age                             int64\n",
      "Years Experience                int64\n",
      "Gender                         object\n",
      "RawSalary                      object\n",
      "dtype: object\n"
     ]
    },
    {
     "data": {
      "text/html": [
       "<div>\n",
       "<style scoped>\n",
       "    .dataframe tbody tr th:only-of-type {\n",
       "        vertical-align: middle;\n",
       "    }\n",
       "\n",
       "    .dataframe tbody tr th {\n",
       "        vertical-align: top;\n",
       "    }\n",
       "\n",
       "    .dataframe thead th {\n",
       "        text-align: right;\n",
       "    }\n",
       "</style>\n",
       "<table border=\"1\" class=\"dataframe\">\n",
       "  <thead>\n",
       "    <tr style=\"text-align: right;\">\n",
       "      <th></th>\n",
       "      <th>SurveyDate</th>\n",
       "      <th>FormalEducation</th>\n",
       "      <th>ConvertedSalary</th>\n",
       "      <th>Hobby</th>\n",
       "      <th>Country</th>\n",
       "      <th>StackOverflowJobsRecommend</th>\n",
       "      <th>VersionControl</th>\n",
       "      <th>Age</th>\n",
       "      <th>Years Experience</th>\n",
       "      <th>Gender</th>\n",
       "      <th>RawSalary</th>\n",
       "    </tr>\n",
       "  </thead>\n",
       "  <tbody>\n",
       "    <tr>\n",
       "      <th>0</th>\n",
       "      <td>2/28/18 20:20</td>\n",
       "      <td>Bachelor's degree (BA. BS. B.Eng.. etc.)</td>\n",
       "      <td>NaN</td>\n",
       "      <td>Yes</td>\n",
       "      <td>South Africa</td>\n",
       "      <td>NaN</td>\n",
       "      <td>Git</td>\n",
       "      <td>21</td>\n",
       "      <td>13</td>\n",
       "      <td>Male</td>\n",
       "      <td>NaN</td>\n",
       "    </tr>\n",
       "    <tr>\n",
       "      <th>1</th>\n",
       "      <td>6/28/18 13:26</td>\n",
       "      <td>Bachelor's degree (BA. BS. B.Eng.. etc.)</td>\n",
       "      <td>70841.0</td>\n",
       "      <td>Yes</td>\n",
       "      <td>Sweeden</td>\n",
       "      <td>7.0</td>\n",
       "      <td>Git;Subversion</td>\n",
       "      <td>38</td>\n",
       "      <td>9</td>\n",
       "      <td>Male</td>\n",
       "      <td>70,841.00</td>\n",
       "    </tr>\n",
       "    <tr>\n",
       "      <th>2</th>\n",
       "      <td>6/6/18 3:37</td>\n",
       "      <td>Bachelor's degree (BA. BS. B.Eng.. etc.)</td>\n",
       "      <td>NaN</td>\n",
       "      <td>No</td>\n",
       "      <td>Sweeden</td>\n",
       "      <td>8.0</td>\n",
       "      <td>Git</td>\n",
       "      <td>45</td>\n",
       "      <td>11</td>\n",
       "      <td>NaN</td>\n",
       "      <td>NaN</td>\n",
       "    </tr>\n",
       "    <tr>\n",
       "      <th>3</th>\n",
       "      <td>5/9/18 1:06</td>\n",
       "      <td>Some college/university study without earning ...</td>\n",
       "      <td>21426.0</td>\n",
       "      <td>Yes</td>\n",
       "      <td>Sweeden</td>\n",
       "      <td>NaN</td>\n",
       "      <td>Zip file back-ups</td>\n",
       "      <td>46</td>\n",
       "      <td>12</td>\n",
       "      <td>Male</td>\n",
       "      <td>21,426.00</td>\n",
       "    </tr>\n",
       "    <tr>\n",
       "      <th>4</th>\n",
       "      <td>4/12/18 22:41</td>\n",
       "      <td>Bachelor's degree (BA. BS. B.Eng.. etc.)</td>\n",
       "      <td>41671.0</td>\n",
       "      <td>Yes</td>\n",
       "      <td>UK</td>\n",
       "      <td>8.0</td>\n",
       "      <td>Git</td>\n",
       "      <td>39</td>\n",
       "      <td>7</td>\n",
       "      <td>Male</td>\n",
       "      <td>£41,671.00</td>\n",
       "    </tr>\n",
       "  </tbody>\n",
       "</table>\n",
       "</div>"
      ],
      "text/plain": [
       "      SurveyDate                                    FormalEducation  \\\n",
       "0  2/28/18 20:20           Bachelor's degree (BA. BS. B.Eng.. etc.)   \n",
       "1  6/28/18 13:26           Bachelor's degree (BA. BS. B.Eng.. etc.)   \n",
       "2    6/6/18 3:37           Bachelor's degree (BA. BS. B.Eng.. etc.)   \n",
       "3    5/9/18 1:06  Some college/university study without earning ...   \n",
       "4  4/12/18 22:41           Bachelor's degree (BA. BS. B.Eng.. etc.)   \n",
       "\n",
       "   ConvertedSalary Hobby       Country  StackOverflowJobsRecommend  \\\n",
       "0              NaN   Yes  South Africa                         NaN   \n",
       "1          70841.0   Yes       Sweeden                         7.0   \n",
       "2              NaN    No       Sweeden                         8.0   \n",
       "3          21426.0   Yes       Sweeden                         NaN   \n",
       "4          41671.0   Yes            UK                         8.0   \n",
       "\n",
       "      VersionControl  Age  Years Experience Gender   RawSalary  \n",
       "0                Git   21                13   Male         NaN  \n",
       "1     Git;Subversion   38                 9   Male   70,841.00  \n",
       "2                Git   45                11    NaN         NaN  \n",
       "3  Zip file back-ups   46                12   Male   21,426.00  \n",
       "4                Git   39                 7   Male  £41,671.00  "
      ]
     },
     "execution_count": 5,
     "metadata": {},
     "output_type": "execute_result"
    }
   ],
   "source": [
    "# Getting to know your data\n",
    "\n",
    "# Import so_survey_csv into so_survey_df\n",
    "so_survey_df = pd.read_csv(data_folder + \"Combined_DS_v10.csv\")\n",
    "\n",
    "# Print the data type of each column\n",
    "print(so_survey_df.dtypes)\n",
    "\n",
    "# Print the first five rows of the DataFrame\n",
    "so_survey_df.head()\n",
    "\n",
    "# Question - What type of data is the ConvertedSalary column? --> float64, numeric"
   ]
  },
  {
   "cell_type": "markdown",
   "metadata": {},
   "source": [
    "Exercício 3"
   ]
  },
  {
   "cell_type": "code",
   "execution_count": 6,
   "metadata": {},
   "outputs": [
    {
     "name": "stdout",
     "output_type": "stream",
     "text": [
      "Index(['ConvertedSalary', 'StackOverflowJobsRecommend', 'Age',\n",
      "       'Years Experience'],\n",
      "      dtype='object')\n"
     ]
    }
   ],
   "source": [
    "# Selecting specific data types\n",
    "\n",
    "# Create subset of only the numeric columns\n",
    "so_numeric_df = so_survey_df.select_dtypes(include=['int64', 'float'])\n",
    "\n",
    "# Print the column names contained in so_survey_df_num\n",
    "print(so_numeric_df.columns)\n"
   ]
  },
  {
   "cell_type": "markdown",
   "metadata": {},
   "source": [
    "#### Exercício 4 - Dealing with categorical variables"
   ]
  },
  {
   "cell_type": "code",
   "execution_count": 7,
   "metadata": {},
   "outputs": [
    {
     "name": "stdout",
     "output_type": "stream",
     "text": [
      "South Africa    166\n",
      "USA             164\n",
      "Spain           134\n",
      "Sweeden         119\n",
      "France          115\n",
      "Russia           97\n",
      "India            95\n",
      "UK               95\n",
      "Ukraine           9\n",
      "Ireland           5\n",
      "Name: Country, dtype: int64 \n",
      "\n",
      "95     2\n",
      "119    1\n",
      "9      1\n",
      "134    1\n",
      "166    1\n",
      "5      1\n",
      "164    1\n",
      "115    1\n",
      "97     1\n",
      "Name: Country, dtype: int64\n"
     ]
    },
    {
     "name": "stderr",
     "output_type": "stream",
     "text": [
      "C:\\Users\\Admin\\Anaconda3\\lib\\site-packages\\ipykernel_launcher.py:23: SettingWithCopyWarning: \n",
      "A value is trying to be set on a copy of a slice from a DataFrame\n",
      "\n",
      "See the caveats in the documentation: http://pandas.pydata.org/pandas-docs/stable/indexing.html#indexing-view-versus-copy\n"
     ]
    }
   ],
   "source": [
    "#vídeo\n",
    "\n",
    "# Encoding categorical features\n",
    "#  - One-hot encoding\n",
    "#  - Dummy encoding\n",
    "\n",
    "# One-hot encoding\n",
    "pd.get_dummies(df, columns=['Country'], prefix='C')\n",
    "\n",
    "# Dummy encoding\n",
    "pd.get_dummies(df, columns=['Country'], drop_first=True, prefix='C').head()\n",
    "\n",
    "# One-hot vs. dummies\n",
    "#  - One-hot encoding: Explainable features\n",
    "#  - Dummy encoding: Necessary information without duplication\n",
    "\n",
    "# Limiting your columns\n",
    "counts = df['Country'].value_counts()\n",
    "print(counts, \"\\n\")\n",
    "\n",
    "mask = df['Country'].isin(counts[counts < 5].index)\n",
    "\n",
    "df['Country'][mask] = 'Other'\n",
    "\n",
    "print(pd.value_counts(counts))\n"
   ]
  },
  {
   "cell_type": "markdown",
   "metadata": {},
   "source": [
    "Exercício 5"
   ]
  },
  {
   "cell_type": "code",
   "execution_count": 8,
   "metadata": {},
   "outputs": [
    {
     "name": "stdout",
     "output_type": "stream",
     "text": [
      "Index(['SurveyDate', 'FormalEducation', 'ConvertedSalary', 'Hobby',\n",
      "       'StackOverflowJobsRecommend', 'VersionControl', 'Age',\n",
      "       'Years Experience', 'Gender', 'RawSalary', 'OH_France', 'OH_India',\n",
      "       'OH_Ireland', 'OH_Russia', 'OH_South Africa', 'OH_Spain', 'OH_Sweeden',\n",
      "       'OH_UK', 'OH_USA', 'OH_Ukraine'],\n",
      "      dtype='object')\n",
      "\n",
      " Index(['SurveyDate', 'FormalEducation', 'ConvertedSalary', 'Hobby',\n",
      "       'StackOverflowJobsRecommend', 'VersionControl', 'Age',\n",
      "       'Years Experience', 'Gender', 'RawSalary', 'DM_India', 'DM_Ireland',\n",
      "       'DM_Russia', 'DM_South Africa', 'DM_Spain', 'DM_Sweeden', 'DM_UK',\n",
      "       'DM_USA', 'DM_Ukraine'],\n",
      "      dtype='object')\n"
     ]
    }
   ],
   "source": [
    "# One-hot encoding and dummy variables\n",
    "\n",
    "# Convert the Country column to a one hot encoded Data Frame\n",
    "one_hot_encoded = pd.get_dummies(so_survey_df, columns=['Country'], prefix='OH')\n",
    "\n",
    "# Print the columns names\n",
    "print(one_hot_encoded.columns)\n",
    "\n",
    "# Create dummy variables for the Country column\n",
    "dummy = pd.get_dummies(so_survey_df, columns=['Country'], drop_first=True, prefix='DM')\n",
    "\n",
    "# Print the columns names\n",
    "print(\"\\n\", dummy.columns)\n"
   ]
  },
  {
   "cell_type": "markdown",
   "metadata": {},
   "source": [
    "Exercício 6"
   ]
  },
  {
   "cell_type": "code",
   "execution_count": 9,
   "metadata": {},
   "outputs": [
    {
     "name": "stdout",
     "output_type": "stream",
     "text": [
      "South Africa    166\n",
      "USA             164\n",
      "Spain           134\n",
      "Sweeden         119\n",
      "France          115\n",
      "Russia           97\n",
      "India            95\n",
      "UK               95\n",
      "Ukraine           9\n",
      "Ireland           5\n",
      "Name: Country, dtype: int64 \n",
      "\n",
      "0    False\n",
      "1    False\n",
      "2    False\n",
      "3    False\n",
      "4    False\n",
      "Name: Country, dtype: bool \n",
      "\n",
      "South Africa    166\n",
      "USA             164\n",
      "Spain           134\n",
      "Sweeden         119\n",
      "France          115\n",
      "Russia           97\n",
      "India            95\n",
      "UK               95\n",
      "Other            14\n",
      "Name: Country, dtype: int64\n"
     ]
    },
    {
     "name": "stderr",
     "output_type": "stream",
     "text": [
      "C:\\Users\\Admin\\Anaconda3\\lib\\site-packages\\ipykernel_launcher.py:19: SettingWithCopyWarning: \n",
      "A value is trying to be set on a copy of a slice from a DataFrame\n",
      "\n",
      "See the caveats in the documentation: http://pandas.pydata.org/pandas-docs/stable/indexing.html#indexing-view-versus-copy\n"
     ]
    }
   ],
   "source": [
    "# Dealing with uncommon categories\n",
    "\n",
    "# Create a series out of the Country column\n",
    "countries = so_survey_df.Country\n",
    "\n",
    "# Get the counts of each category\n",
    "country_counts = countries.value_counts()\n",
    "\n",
    "# Print the count values for each category\n",
    "print(country_counts, \"\\n\")\n",
    "\n",
    "# Create a mask for only categories that occur less than 10 times\n",
    "mask = countries.isin(country_counts[country_counts < 10].index)\n",
    "\n",
    "# Print the top 5 rows in the mask series\n",
    "print(mask.head(), \"\\n\")\n",
    "\n",
    "# Label all other categories as Other\n",
    "countries[mask] = 'Other'\n",
    "\n",
    "# Print the updated category counts\n",
    "print(countries.value_counts())\n"
   ]
  },
  {
   "cell_type": "markdown",
   "metadata": {},
   "source": [
    "#### Exercício 7 - Numeric variables"
   ]
  },
  {
   "cell_type": "code",
   "execution_count": 10,
   "metadata": {},
   "outputs": [
    {
     "name": "stdout",
     "output_type": "stream",
     "text": [
      "Couldn't find program: 'false'\n"
     ]
    }
   ],
   "source": [
    "%%script false\n",
    "#vídeo\n",
    "\n",
    "# Types of numeric features\n",
    "\n",
    "# Does size matter?\n",
    "\n",
    "# Binarizing numeric variables\n",
    "df['Binary_Violation'] = 0\n",
    "\n",
    "df.loc[df['Number_of_Violations'] > 0, 'Binary_Violation'] = 1\n",
    "\n",
    "\n",
    "# --> Binning numeric variables\n",
    "import numpy as np\n",
    "\n",
    "df['Binned_Group'] = pd.cut(df['Number_of_Violations'], bins=[-np.inf, 0, 2, np.inf], labels=[1, 2, 3]\n",
    "                            \n",
    "                            # all values between -infinity and 0 are labeled as 1\n",
    "                            # all values 1 and 2 are labeled as 2\n",
    "                            # all values between 3 and +infinity are labeled as 3\n"
   ]
  },
  {
   "cell_type": "markdown",
   "metadata": {},
   "source": [
    "Exercício 8"
   ]
  },
  {
   "cell_type": "code",
   "execution_count": 11,
   "metadata": {},
   "outputs": [
    {
     "data": {
      "text/html": [
       "<div>\n",
       "<style scoped>\n",
       "    .dataframe tbody tr th:only-of-type {\n",
       "        vertical-align: middle;\n",
       "    }\n",
       "\n",
       "    .dataframe tbody tr th {\n",
       "        vertical-align: top;\n",
       "    }\n",
       "\n",
       "    .dataframe thead th {\n",
       "        text-align: right;\n",
       "    }\n",
       "</style>\n",
       "<table border=\"1\" class=\"dataframe\">\n",
       "  <thead>\n",
       "    <tr style=\"text-align: right;\">\n",
       "      <th></th>\n",
       "      <th>Paid_Job</th>\n",
       "      <th>ConvertedSalary</th>\n",
       "    </tr>\n",
       "  </thead>\n",
       "  <tbody>\n",
       "    <tr>\n",
       "      <th>0</th>\n",
       "      <td>0</td>\n",
       "      <td>NaN</td>\n",
       "    </tr>\n",
       "    <tr>\n",
       "      <th>1</th>\n",
       "      <td>1</td>\n",
       "      <td>70841.0</td>\n",
       "    </tr>\n",
       "    <tr>\n",
       "      <th>2</th>\n",
       "      <td>0</td>\n",
       "      <td>NaN</td>\n",
       "    </tr>\n",
       "    <tr>\n",
       "      <th>3</th>\n",
       "      <td>1</td>\n",
       "      <td>21426.0</td>\n",
       "    </tr>\n",
       "    <tr>\n",
       "      <th>4</th>\n",
       "      <td>1</td>\n",
       "      <td>41671.0</td>\n",
       "    </tr>\n",
       "  </tbody>\n",
       "</table>\n",
       "</div>"
      ],
      "text/plain": [
       "   Paid_Job  ConvertedSalary\n",
       "0         0              NaN\n",
       "1         1          70841.0\n",
       "2         0              NaN\n",
       "3         1          21426.0\n",
       "4         1          41671.0"
      ]
     },
     "execution_count": 11,
     "metadata": {},
     "output_type": "execute_result"
    }
   ],
   "source": [
    "# Binarizing columns\n",
    "\n",
    "# Create the Paid_Job column filled with zeros\n",
    "so_survey_df['Paid_Job'] = 0\n",
    "\n",
    "# Replace all the Paid_Job values where ConvertedSalary is > 0\n",
    "so_survey_df.loc[so_survey_df['ConvertedSalary'] > 0, 'Paid_Job'] = 1\n",
    "\n",
    "# Print the first five rows of the columns\n",
    "so_survey_df[['Paid_Job', 'ConvertedSalary']].head()\n",
    "\n",
    "\n",
    "# Binarizing columns can also be useful for your target variables."
   ]
  },
  {
   "cell_type": "markdown",
   "metadata": {},
   "source": [
    "Exercício 9"
   ]
  },
  {
   "cell_type": "code",
   "execution_count": 12,
   "metadata": {},
   "outputs": [
    {
     "name": "stdout",
     "output_type": "stream",
     "text": [
      "          equal_binned  ConvertedSalary\n",
      "0                  NaN              NaN\n",
      "1  (-2000.0, 400000.0]          70841.0\n",
      "2                  NaN              NaN\n",
      "3  (-2000.0, 400000.0]          21426.0\n",
      "4  (-2000.0, 400000.0]          41671.0 \n",
      "\n",
      "====================================================================================\n"
     ]
    },
    {
     "data": {
      "text/html": [
       "<div>\n",
       "<style scoped>\n",
       "    .dataframe tbody tr th:only-of-type {\n",
       "        vertical-align: middle;\n",
       "    }\n",
       "\n",
       "    .dataframe tbody tr th {\n",
       "        vertical-align: top;\n",
       "    }\n",
       "\n",
       "    .dataframe thead th {\n",
       "        text-align: right;\n",
       "    }\n",
       "</style>\n",
       "<table border=\"1\" class=\"dataframe\">\n",
       "  <thead>\n",
       "    <tr style=\"text-align: right;\">\n",
       "      <th></th>\n",
       "      <th>boundary_binned</th>\n",
       "      <th>ConvertedSalary</th>\n",
       "    </tr>\n",
       "  </thead>\n",
       "  <tbody>\n",
       "    <tr>\n",
       "      <th>0</th>\n",
       "      <td>NaN</td>\n",
       "      <td>NaN</td>\n",
       "    </tr>\n",
       "    <tr>\n",
       "      <th>1</th>\n",
       "      <td>Medium</td>\n",
       "      <td>70841.0</td>\n",
       "    </tr>\n",
       "    <tr>\n",
       "      <th>2</th>\n",
       "      <td>NaN</td>\n",
       "      <td>NaN</td>\n",
       "    </tr>\n",
       "    <tr>\n",
       "      <th>3</th>\n",
       "      <td>Low</td>\n",
       "      <td>21426.0</td>\n",
       "    </tr>\n",
       "    <tr>\n",
       "      <th>4</th>\n",
       "      <td>Low</td>\n",
       "      <td>41671.0</td>\n",
       "    </tr>\n",
       "    <tr>\n",
       "      <th>5</th>\n",
       "      <td>High</td>\n",
       "      <td>120000.0</td>\n",
       "    </tr>\n",
       "    <tr>\n",
       "      <th>6</th>\n",
       "      <td>NaN</td>\n",
       "      <td>NaN</td>\n",
       "    </tr>\n",
       "    <tr>\n",
       "      <th>7</th>\n",
       "      <td>Very high</td>\n",
       "      <td>250000.0</td>\n",
       "    </tr>\n",
       "  </tbody>\n",
       "</table>\n",
       "</div>"
      ],
      "text/plain": [
       "  boundary_binned  ConvertedSalary\n",
       "0             NaN              NaN\n",
       "1          Medium          70841.0\n",
       "2             NaN              NaN\n",
       "3             Low          21426.0\n",
       "4             Low          41671.0\n",
       "5            High         120000.0\n",
       "6             NaN              NaN\n",
       "7       Very high         250000.0"
      ]
     },
     "execution_count": 12,
     "metadata": {},
     "output_type": "execute_result"
    }
   ],
   "source": [
    "# Binning values\n",
    "\n",
    "# Bin the continuous variable ConvertedSalary into 5 bins\n",
    "so_survey_df['equal_binned'] = pd.cut(so_survey_df['ConvertedSalary'], bins=5)\n",
    "\n",
    "# Print the first 5 rows of the equal_binned column\n",
    "print(so_survey_df[['equal_binned', 'ConvertedSalary']].head(), \"\\n\")\n",
    "\n",
    "###################################################################################\n",
    "print(\"====================================================================================\")\n",
    "\n",
    "# Import numpy\n",
    "import numpy as np\n",
    "\n",
    "# Specify the boundaries of the bins\n",
    "bins = [-np.inf, 10000, 50000, 100000, 150000, np.inf]\n",
    "\n",
    "# Bin labels\n",
    "labels = ['Very low', 'Low', 'Medium', 'High', 'Very high']\n",
    "\n",
    "# Bin the continuous variable ConvertedSalary using these boundaries\n",
    "so_survey_df['boundary_binned'] = pd.cut(so_survey_df['ConvertedSalary'], bins=bins, labels=labels)\n",
    "\n",
    "# Print the first 5 rows of the boundary_binned column\n",
    "so_survey_df[['boundary_binned', 'ConvertedSalary']].head(8)\n"
   ]
  },
  {
   "cell_type": "markdown",
   "metadata": {},
   "source": [
    "# CHAPTER 2 - Dealing with Messy Data"
   ]
  },
  {
   "cell_type": "markdown",
   "metadata": {},
   "source": [
    "#### Exercício 1 - Why do missing values exist"
   ]
  },
  {
   "cell_type": "code",
   "execution_count": 13,
   "metadata": {},
   "outputs": [
    {
     "name": "stdout",
     "output_type": "stream",
     "text": [
      "<class 'pandas.core.frame.DataFrame'>\n",
      "RangeIndex: 999 entries, 0 to 998\n",
      "Data columns (total 11 columns):\n",
      "SurveyDate                    999 non-null object\n",
      "FormalEducation               999 non-null object\n",
      "ConvertedSalary               665 non-null float64\n",
      "Hobby                         999 non-null object\n",
      "Country                       999 non-null object\n",
      "StackOverflowJobsRecommend    487 non-null float64\n",
      "VersionControl                999 non-null object\n",
      "Age                           999 non-null int64\n",
      "Years Experience              999 non-null int64\n",
      "Gender                        693 non-null object\n",
      "RawSalary                     665 non-null object\n",
      "dtypes: float64(2), int64(2), object(7)\n",
      "memory usage: 85.9+ KB\n"
     ]
    },
    {
     "data": {
      "text/html": [
       "<div>\n",
       "<style scoped>\n",
       "    .dataframe tbody tr th:only-of-type {\n",
       "        vertical-align: middle;\n",
       "    }\n",
       "\n",
       "    .dataframe tbody tr th {\n",
       "        vertical-align: top;\n",
       "    }\n",
       "\n",
       "    .dataframe thead th {\n",
       "        text-align: right;\n",
       "    }\n",
       "</style>\n",
       "<table border=\"1\" class=\"dataframe\">\n",
       "  <thead>\n",
       "    <tr style=\"text-align: right;\">\n",
       "      <th></th>\n",
       "      <th>SurveyDate</th>\n",
       "      <th>FormalEducation</th>\n",
       "      <th>ConvertedSalary</th>\n",
       "      <th>Hobby</th>\n",
       "      <th>Country</th>\n",
       "      <th>StackOverflowJobsRecommend</th>\n",
       "      <th>VersionControl</th>\n",
       "      <th>Age</th>\n",
       "      <th>Years Experience</th>\n",
       "      <th>Gender</th>\n",
       "      <th>RawSalary</th>\n",
       "    </tr>\n",
       "  </thead>\n",
       "  <tbody>\n",
       "    <tr>\n",
       "      <th>0</th>\n",
       "      <td>True</td>\n",
       "      <td>True</td>\n",
       "      <td>False</td>\n",
       "      <td>True</td>\n",
       "      <td>True</td>\n",
       "      <td>False</td>\n",
       "      <td>True</td>\n",
       "      <td>True</td>\n",
       "      <td>True</td>\n",
       "      <td>True</td>\n",
       "      <td>False</td>\n",
       "    </tr>\n",
       "    <tr>\n",
       "      <th>1</th>\n",
       "      <td>True</td>\n",
       "      <td>True</td>\n",
       "      <td>True</td>\n",
       "      <td>True</td>\n",
       "      <td>True</td>\n",
       "      <td>True</td>\n",
       "      <td>True</td>\n",
       "      <td>True</td>\n",
       "      <td>True</td>\n",
       "      <td>True</td>\n",
       "      <td>True</td>\n",
       "    </tr>\n",
       "    <tr>\n",
       "      <th>2</th>\n",
       "      <td>True</td>\n",
       "      <td>True</td>\n",
       "      <td>False</td>\n",
       "      <td>True</td>\n",
       "      <td>True</td>\n",
       "      <td>True</td>\n",
       "      <td>True</td>\n",
       "      <td>True</td>\n",
       "      <td>True</td>\n",
       "      <td>False</td>\n",
       "      <td>False</td>\n",
       "    </tr>\n",
       "    <tr>\n",
       "      <th>3</th>\n",
       "      <td>True</td>\n",
       "      <td>True</td>\n",
       "      <td>True</td>\n",
       "      <td>True</td>\n",
       "      <td>True</td>\n",
       "      <td>False</td>\n",
       "      <td>True</td>\n",
       "      <td>True</td>\n",
       "      <td>True</td>\n",
       "      <td>True</td>\n",
       "      <td>True</td>\n",
       "    </tr>\n",
       "    <tr>\n",
       "      <th>4</th>\n",
       "      <td>True</td>\n",
       "      <td>True</td>\n",
       "      <td>True</td>\n",
       "      <td>True</td>\n",
       "      <td>True</td>\n",
       "      <td>True</td>\n",
       "      <td>True</td>\n",
       "      <td>True</td>\n",
       "      <td>True</td>\n",
       "      <td>True</td>\n",
       "      <td>True</td>\n",
       "    </tr>\n",
       "  </tbody>\n",
       "</table>\n",
       "</div>"
      ],
      "text/plain": [
       "   SurveyDate  FormalEducation  ConvertedSalary  Hobby  Country  \\\n",
       "0        True             True            False   True     True   \n",
       "1        True             True             True   True     True   \n",
       "2        True             True            False   True     True   \n",
       "3        True             True             True   True     True   \n",
       "4        True             True             True   True     True   \n",
       "\n",
       "   StackOverflowJobsRecommend  VersionControl   Age  Years Experience  Gender  \\\n",
       "0                       False            True  True              True    True   \n",
       "1                        True            True  True              True    True   \n",
       "2                        True            True  True              True   False   \n",
       "3                       False            True  True              True    True   \n",
       "4                        True            True  True              True    True   \n",
       "\n",
       "   RawSalary  \n",
       "0      False  \n",
       "1       True  \n",
       "2      False  \n",
       "3       True  \n",
       "4       True  "
      ]
     },
     "execution_count": 13,
     "metadata": {},
     "output_type": "execute_result"
    }
   ],
   "source": [
    "#vídeo\n",
    "\n",
    "# How gaps in data occur\n",
    "#  - Data not being collected properly\n",
    "#  - Collection and management errors\n",
    "#  - Data intentionally being omitted\n",
    "#  - Could be created due to transformations ofthe data\n",
    "\n",
    "# Why we care?\n",
    "#  - Some models cannot work with missing data (Nulls/NaNs)\n",
    "#  - Missing data may be a sign of a wider data issue\n",
    "#  - Missing data can be a useful feature\n",
    "\n",
    "# Missing value discovery\n",
    "df.info()\n",
    "\n",
    "# Finding missing values\n",
    "df.isnull()\n",
    "df['StackOverflowJobsRecommend'].isnull().sum()\n",
    "\n",
    "# Finding non-missing values\n",
    "df.notnull().head()\n"
   ]
  },
  {
   "cell_type": "markdown",
   "metadata": {},
   "source": [
    "Exercício 2"
   ]
  },
  {
   "cell_type": "code",
   "execution_count": 14,
   "metadata": {},
   "outputs": [
    {
     "name": "stdout",
     "output_type": "stream",
     "text": [
      "<class 'pandas.core.frame.DataFrame'>\n",
      "RangeIndex: 999 entries, 0 to 998\n",
      "Data columns (total 2 columns):\n",
      "Age       999 non-null int64\n",
      "Gender    693 non-null object\n",
      "dtypes: int64(1), object(1)\n",
      "memory usage: 15.7+ KB\n",
      "None\n"
     ]
    }
   ],
   "source": [
    "# How sparse is my data?\n",
    "\n",
    "# Subset the DataFrame\n",
    "sub_df = so_survey_df[['Age', 'Gender']]\n",
    "\n",
    "# Print the number of non-missing values\n",
    "print(sub_df.info())\n",
    "\n",
    "# there are 693 non-missing entries in the Gender column\n"
   ]
  },
  {
   "cell_type": "markdown",
   "metadata": {},
   "source": [
    "Exercício 3"
   ]
  },
  {
   "cell_type": "code",
   "execution_count": 15,
   "metadata": {},
   "outputs": [
    {
     "name": "stdout",
     "output_type": "stream",
     "text": [
      "locations of the missing values:\n",
      "      Age  Gender\n",
      "0  False   False\n",
      "1  False   False\n",
      "2  False    True\n",
      "3  False   False\n",
      "4  False   False\n",
      "5  False   False\n",
      "6  False   False\n",
      "7  False   False\n",
      "8  False   False\n",
      "9  False    True\n",
      "===========================================\n",
      "locations of the non-missing values:\n",
      "     Age  Gender\n",
      "0  True    True\n",
      "1  True    True\n",
      "2  True   False\n",
      "3  True    True\n",
      "4  True    True\n",
      "5  True    True\n",
      "6  True    True\n",
      "7  True    True\n",
      "8  True    True\n",
      "9  True   False\n"
     ]
    }
   ],
   "source": [
    "# Finding the missing values\n",
    "\n",
    "# Print the locations of the missing values of the first 10 entries\n",
    "print(\"locations of the missing values:\\n\", sub_df.head(10).isnull())\n",
    "\n",
    "print(\"===========================================\")\n",
    "\n",
    "# Print the locations of the non-missing values\n",
    "print(\"locations of the non-missing values:\\n\", sub_df.head(10).notnull())\n"
   ]
  },
  {
   "cell_type": "markdown",
   "metadata": {},
   "source": [
    "#### Exercício 4 - Dealing with missing values (I)"
   ]
  },
  {
   "cell_type": "code",
   "execution_count": 16,
   "metadata": {},
   "outputs": [
    {
     "name": "stdout",
     "output_type": "stream",
     "text": [
      "\n"
     ]
    }
   ],
   "source": [
    "#vídeo\n",
    "\n",
    "# Listwise deletion\n",
    "\n",
    "# Drop all rows with at least one missing values\n",
    "df.dropna(how='any')\n",
    "\n",
    "# Drop rows with missing values in a specific column\n",
    "df.dropna(subset=['VersionControl'])\n",
    "\n",
    "# Issues with deletion\n",
    "#  - It deletes valid data points\n",
    "#  - Relies on randomness\n",
    "#  - Reduces information\n",
    "\n",
    "\n",
    "# Replacing with strings\n",
    "# Replace missing values in a specific column with a given string\n",
    "df['VersionControl'].fillna(value='None Given', inplace=True)\n",
    "\n",
    "\n",
    "# Recording missing values\n",
    "# Record where the values are not missing\n",
    "df['SalaryGiven'] = df['ConvertedSalary'].notnull()\n",
    "\n",
    "# Drop a specific column\n",
    "df.drop(columns=['ConvertedSalary'])\n",
    "\n",
    "print(\"\")\n"
   ]
  },
  {
   "cell_type": "markdown",
   "metadata": {},
   "source": [
    "Exercício 5"
   ]
  },
  {
   "cell_type": "code",
   "execution_count": 17,
   "metadata": {},
   "outputs": [
    {
     "name": "stdout",
     "output_type": "stream",
     "text": [
      "(999, 14)\n",
      "(264, 14)\n",
      "(999, 8)\n",
      "(693, 14)\n"
     ]
    }
   ],
   "source": [
    "# Listwise deletion\n",
    "\n",
    "# Print the number of rows and columns\n",
    "print(so_survey_df.shape)\n",
    "\n",
    "# Create a new DataFrame dropping all incomplete rows\n",
    "no_missing_values_rows = so_survey_df.dropna(how='any')\n",
    "\n",
    "# Print the shape of the new DataFrame\n",
    "print(no_missing_values_rows.shape)\n",
    "\n",
    "############################################\n",
    "\n",
    "# Create a new DataFrame dropping all columns with incomplete rows\n",
    "no_missing_values_cols = so_survey_df.dropna(how='any', axis=1)\n",
    "\n",
    "# Print the shape of the new DataFrame\n",
    "print(no_missing_values_cols.shape)\n",
    "\n",
    "##########################################\n",
    "\n",
    "# Drop all rows where Gender is missing\n",
    "no_gender = so_survey_df.dropna(subset=['Gender'])\n",
    "\n",
    "# Print the shape of the new DataFrame\n",
    "print(no_gender.shape)\n",
    "\n",
    "\n",
    "# dropping all rows that contain any missing values may greatly reduce the size of your dataset. So you need to think \n",
    "# carefully and consider several trade-offs when deleting missing values."
   ]
  },
  {
   "cell_type": "markdown",
   "metadata": {},
   "source": [
    "Exercício 6"
   ]
  },
  {
   "cell_type": "code",
   "execution_count": 18,
   "metadata": {},
   "outputs": [
    {
     "name": "stdout",
     "output_type": "stream",
     "text": [
      "Male                                                                         632\n",
      "Female                                                                        53\n",
      "Female;Male                                                                    2\n",
      "Transgender                                                                    2\n",
      "Female;Transgender                                                             1\n",
      "Male;Non-binary. genderqueer. or gender non-conforming                         1\n",
      "Female;Male;Transgender;Non-binary. genderqueer. or gender non-conforming      1\n",
      "Non-binary. genderqueer. or gender non-conforming                              1\n",
      "Name: Gender, dtype: int64 \n",
      "\n",
      "Male                                                                         632\n",
      "Not Given                                                                    306\n",
      "Female                                                                        53\n",
      "Female;Male                                                                    2\n",
      "Transgender                                                                    2\n",
      "Female;Transgender                                                             1\n",
      "Male;Non-binary. genderqueer. or gender non-conforming                         1\n",
      "Female;Male;Transgender;Non-binary. genderqueer. or gender non-conforming      1\n",
      "Non-binary. genderqueer. or gender non-conforming                              1\n",
      "Name: Gender, dtype: int64\n"
     ]
    }
   ],
   "source": [
    "# Replacing missing values with constants\n",
    "\n",
    "# Print the count of occurrences\n",
    "print(so_survey_df['Gender'].value_counts(), \"\\n\")\n",
    "\n",
    "##########\n",
    "\n",
    "# Replace missing values\n",
    "so_survey_df['Gender'].fillna('Not Given', inplace=True)\n",
    "\n",
    "# Print the count of each value\n",
    "print(so_survey_df['Gender'].value_counts())\n"
   ]
  },
  {
   "cell_type": "markdown",
   "metadata": {},
   "source": [
    "#### Exercício 7 - Dealing with missing values (II)"
   ]
  },
  {
   "cell_type": "code",
   "execution_count": 19,
   "metadata": {},
   "outputs": [],
   "source": [
    "#vídeo\n",
    "\n",
    "# Deleting missing values\n",
    "# Can't delete rows with missing values in the test set\n",
    "\n",
    "# What else can you do?\n",
    "#  - Categorical columns: Replace missing values with the most common occurring value or with a string that ags missing \n",
    "#    values such as 'None'.\n",
    "#  - Numeric columns: Replace missing values with a suitable value\n",
    "\n",
    "# Measures of central tendency - mean, median\n",
    "\n",
    "# Calculating the measures of central tendency\n",
    "df['ConvertedSalary'].mean()\n",
    "df['ConvertedSalary'].median()\n",
    "\n",
    "# Fill the missing values\n",
    "df['ConvertedSalary'] = df['ConvertedSalary'].fillna(df['ConvertedSalary'].mean())\n",
    "\n",
    "df['ConvertedSalary'] = df['ConvertedSalary'].astype('int64')\n",
    "\n",
    "\n",
    "# Rounding values\n",
    "df['ConvertedSalary'] = df['ConvertedSalary'].fillna(round(df['ConvertedSalary'].mean()))\n"
   ]
  },
  {
   "cell_type": "markdown",
   "metadata": {},
   "source": [
    "Exercício 8"
   ]
  },
  {
   "cell_type": "code",
   "execution_count": 20,
   "metadata": {},
   "outputs": [
    {
     "name": "stdout",
     "output_type": "stream",
     "text": [
      "0    NaN\n",
      "1    7.0\n",
      "2    8.0\n",
      "3    NaN\n",
      "4    8.0\n",
      "Name: StackOverflowJobsRecommend, dtype: float64 \n",
      "\n",
      "0    7.061602\n",
      "1    7.000000\n",
      "2    8.000000\n",
      "3    7.061602\n",
      "4    8.000000\n",
      "Name: StackOverflowJobsRecommend, dtype: float64\n"
     ]
    },
    {
     "data": {
      "text/plain": [
       "0    7.0\n",
       "1    7.0\n",
       "2    8.0\n",
       "3    7.0\n",
       "4    8.0\n",
       "Name: StackOverflowJobsRecommend, dtype: float64"
      ]
     },
     "execution_count": 20,
     "metadata": {},
     "output_type": "execute_result"
    }
   ],
   "source": [
    "# Filling continuous missing values\n",
    "\n",
    "# Print the first five rows of StackOverflowJobsRecommend column\n",
    "print(so_survey_df['StackOverflowJobsRecommend'].head(), \"\\n\")\n",
    "\n",
    "# Fill missing values with the mean\n",
    "so_survey_df['StackOverflowJobsRecommend'].fillna(so_survey_df['StackOverflowJobsRecommend'].mean(), inplace=True)\n",
    "\n",
    "# Print the first five rows of StackOverflowJobsRecommend column\n",
    "print(so_survey_df['StackOverflowJobsRecommend'].head())\n",
    "\n",
    "# Round the StackOverflowJobsRecommend values\n",
    "so_survey_df['StackOverflowJobsRecommend'] = round(so_survey_df['StackOverflowJobsRecommend'])\n",
    "\n",
    "# Print the top 5 rows\n",
    "so_survey_df['StackOverflowJobsRecommend'].head()\n"
   ]
  },
  {
   "cell_type": "markdown",
   "metadata": {},
   "source": [
    "Exercício 9"
   ]
  },
  {
   "cell_type": "code",
   "execution_count": 21,
   "metadata": {},
   "outputs": [
    {
     "name": "stdout",
     "output_type": "stream",
     "text": [
      "Apply the measures of central tendency (mean/median etc.) calculated on the train set to both the train and test \n",
      "sets.\n"
     ]
    }
   ],
   "source": [
    "# Imputing values in predictive models\n",
    "\n",
    "# When working with predictive models you will often have a separate train and test DataFrames. In these cases you want \n",
    "# to ensure no information from your test set leaks into your train set. When filling missing values in data to be used in\n",
    "# these situations how should approach the two data sets?\n",
    "\n",
    "print(\"\"\"Apply the measures of central tendency (mean/median etc.) calculated on the train set to both the train and test \n",
    "sets.\"\"\")"
   ]
  },
  {
   "cell_type": "markdown",
   "metadata": {},
   "source": [
    "#### Exercício 10 - Dealing with other data issues"
   ]
  },
  {
   "cell_type": "code",
   "execution_count": 22,
   "metadata": {},
   "outputs": [
    {
     "name": "stdout",
     "output_type": "stream",
     "text": [
      "object \n",
      "\n",
      "0           NaN\n",
      "1     70,841.00\n",
      "2           NaN\n",
      "3     21,426.00\n",
      "4    £41,671.00\n",
      "Name: RawSalary, dtype: object \n",
      "\n"
     ]
    },
    {
     "data": {
      "text/html": [
       "<div>\n",
       "<style scoped>\n",
       "    .dataframe tbody tr th:only-of-type {\n",
       "        vertical-align: middle;\n",
       "    }\n",
       "\n",
       "    .dataframe tbody tr th {\n",
       "        vertical-align: top;\n",
       "    }\n",
       "\n",
       "    .dataframe thead th {\n",
       "        text-align: right;\n",
       "    }\n",
       "</style>\n",
       "<table border=\"1\" class=\"dataframe\">\n",
       "  <thead>\n",
       "    <tr style=\"text-align: right;\">\n",
       "      <th></th>\n",
       "      <th>SurveyDate</th>\n",
       "      <th>FormalEducation</th>\n",
       "      <th>ConvertedSalary</th>\n",
       "      <th>Hobby</th>\n",
       "      <th>Country</th>\n",
       "      <th>StackOverflowJobsRecommend</th>\n",
       "      <th>VersionControl</th>\n",
       "      <th>Age</th>\n",
       "      <th>Years Experience</th>\n",
       "      <th>Gender</th>\n",
       "      <th>RawSalary</th>\n",
       "      <th>SalaryGiven</th>\n",
       "    </tr>\n",
       "  </thead>\n",
       "  <tbody>\n",
       "    <tr>\n",
       "      <th>0</th>\n",
       "      <td>2/28/18 20:20</td>\n",
       "      <td>Bachelor's degree (BA. BS. B.Eng.. etc.)</td>\n",
       "      <td>92565</td>\n",
       "      <td>Yes</td>\n",
       "      <td>South Africa</td>\n",
       "      <td>NaN</td>\n",
       "      <td>Git</td>\n",
       "      <td>21</td>\n",
       "      <td>13</td>\n",
       "      <td>Male</td>\n",
       "      <td>NaN</td>\n",
       "      <td>False</td>\n",
       "    </tr>\n",
       "    <tr>\n",
       "      <th>2</th>\n",
       "      <td>6/6/18 3:37</td>\n",
       "      <td>Bachelor's degree (BA. BS. B.Eng.. etc.)</td>\n",
       "      <td>92565</td>\n",
       "      <td>No</td>\n",
       "      <td>Sweeden</td>\n",
       "      <td>8.0</td>\n",
       "      <td>Git</td>\n",
       "      <td>45</td>\n",
       "      <td>11</td>\n",
       "      <td>NaN</td>\n",
       "      <td>NaN</td>\n",
       "      <td>False</td>\n",
       "    </tr>\n",
       "    <tr>\n",
       "      <th>4</th>\n",
       "      <td>4/12/18 22:41</td>\n",
       "      <td>Bachelor's degree (BA. BS. B.Eng.. etc.)</td>\n",
       "      <td>41671</td>\n",
       "      <td>Yes</td>\n",
       "      <td>UK</td>\n",
       "      <td>8.0</td>\n",
       "      <td>Git</td>\n",
       "      <td>39</td>\n",
       "      <td>7</td>\n",
       "      <td>Male</td>\n",
       "      <td>£41671.00</td>\n",
       "      <td>True</td>\n",
       "    </tr>\n",
       "    <tr>\n",
       "      <th>6</th>\n",
       "      <td>5/25/18 6:11</td>\n",
       "      <td>Bachelor's degree (BA. BS. B.Eng.. etc.)</td>\n",
       "      <td>92565</td>\n",
       "      <td>Yes</td>\n",
       "      <td>UK</td>\n",
       "      <td>NaN</td>\n",
       "      <td>Git</td>\n",
       "      <td>34</td>\n",
       "      <td>11</td>\n",
       "      <td>Male</td>\n",
       "      <td>NaN</td>\n",
       "      <td>False</td>\n",
       "    </tr>\n",
       "    <tr>\n",
       "      <th>8</th>\n",
       "      <td>10/7/18 22:14</td>\n",
       "      <td>Bachelor's degree (BA. BS. B.Eng.. etc.)</td>\n",
       "      <td>92565</td>\n",
       "      <td>No</td>\n",
       "      <td>South Africa</td>\n",
       "      <td>10.0</td>\n",
       "      <td>Git</td>\n",
       "      <td>23</td>\n",
       "      <td>17</td>\n",
       "      <td>Male</td>\n",
       "      <td>NaN</td>\n",
       "      <td>False</td>\n",
       "    </tr>\n",
       "  </tbody>\n",
       "</table>\n",
       "</div>"
      ],
      "text/plain": [
       "      SurveyDate                           FormalEducation  ConvertedSalary  \\\n",
       "0  2/28/18 20:20  Bachelor's degree (BA. BS. B.Eng.. etc.)            92565   \n",
       "2    6/6/18 3:37  Bachelor's degree (BA. BS. B.Eng.. etc.)            92565   \n",
       "4  4/12/18 22:41  Bachelor's degree (BA. BS. B.Eng.. etc.)            41671   \n",
       "6   5/25/18 6:11  Bachelor's degree (BA. BS. B.Eng.. etc.)            92565   \n",
       "8  10/7/18 22:14  Bachelor's degree (BA. BS. B.Eng.. etc.)            92565   \n",
       "\n",
       "  Hobby       Country  StackOverflowJobsRecommend VersionControl  Age  \\\n",
       "0   Yes  South Africa                         NaN            Git   21   \n",
       "2    No       Sweeden                         8.0            Git   45   \n",
       "4   Yes            UK                         8.0            Git   39   \n",
       "6   Yes            UK                         NaN            Git   34   \n",
       "8    No  South Africa                        10.0            Git   23   \n",
       "\n",
       "   Years Experience Gender  RawSalary  SalaryGiven  \n",
       "0                13   Male        NaN        False  \n",
       "2                11    NaN        NaN        False  \n",
       "4                 7   Male  £41671.00         True  \n",
       "6                11   Male        NaN        False  \n",
       "8                17   Male        NaN        False  "
      ]
     },
     "execution_count": 22,
     "metadata": {},
     "output_type": "execute_result"
    }
   ],
   "source": [
    "#vídeo\n",
    "\n",
    "# Bad characters\n",
    "print(df['RawSalary'].dtype, \"\\n\")\n",
    "\n",
    "print(df['RawSalary'].head(), \"\\n\")\n",
    "\n",
    "# Dealing with bad characters\n",
    "df['RawSalary'] = df['RawSalary'].str.replace(',', '')\n",
    "\n",
    "# df['RawSalary'] = df['RawSalary'].astype(float)  #n dá porque tem outros caracteres, como £. Tem que se fazer:\n",
    "\n",
    "# Finding other stray characters\n",
    "coerced_vals = pd.to_numeric(df['RawSalary'], errors='coerce')\n",
    "\n",
    "df[coerced_vals.isna()].head()\n",
    "\n",
    "####################################################\n",
    "\n",
    "# Chaining methods\n",
    "# df['column_name'] = df['column_name'].method1()\n",
    "# df['column_name'] = df['column_name'].method2()\n",
    "# df['column_name'] = df['column_name'].method3()\n",
    "\n",
    "# # Same as:\n",
    "# df['column_name'] = df['column_name'].method1().method2().method3()\n",
    "\n",
    "###################################"
   ]
  },
  {
   "cell_type": "markdown",
   "metadata": {},
   "source": [
    "Exercício 11"
   ]
  },
  {
   "cell_type": "code",
   "execution_count": 23,
   "metadata": {},
   "outputs": [],
   "source": [
    "# Dealing with stray characters (I)\n",
    "\n",
    "# Remove the commas in the column\n",
    "so_survey_df['RawSalary'] = so_survey_df['RawSalary'].str.replace(',', '')\n",
    "\n",
    "# Remove the dollar signs in the column \n",
    "so_survey_df['RawSalary'] = so_survey_df['RawSalary'].str.replace('$', '')\n"
   ]
  },
  {
   "cell_type": "markdown",
   "metadata": {},
   "source": [
    "Exercício 12"
   ]
  },
  {
   "cell_type": "code",
   "execution_count": 24,
   "metadata": {},
   "outputs": [
    {
     "data": {
      "text/plain": [
       "0        NaN\n",
       "1    70841.0\n",
       "2        NaN\n",
       "3    21426.0\n",
       "4    41671.0\n",
       "Name: RawSalary, dtype: float64"
      ]
     },
     "execution_count": 24,
     "metadata": {},
     "output_type": "execute_result"
    }
   ],
   "source": [
    "# Dealing with stray characters (II)\n",
    "\n",
    "# Attempt to convert the column to numeric values\n",
    "numeric_vals = pd.to_numeric(so_survey_df['RawSalary'], errors='coerce')\n",
    "\n",
    "# Find the indexes of missing values\n",
    "idx = numeric_vals.isna()\n",
    "\n",
    "# Print the relevant rows\n",
    "so_survey_df['RawSalary'].loc[idx]\n",
    "\n",
    "#####################\n",
    "\n",
    "# Replace the offending characters\n",
    "so_survey_df['RawSalary'] = so_survey_df['RawSalary'].str.replace('£', '')  # tb era preciso as £\n",
    "\n",
    "# Convert the column to float\n",
    "so_survey_df['RawSalary'] = so_survey_df['RawSalary'].astype(float)\n",
    "\n",
    "# Print the column\n",
    "so_survey_df['RawSalary'].head()\n"
   ]
  },
  {
   "cell_type": "markdown",
   "metadata": {},
   "source": [
    "Exercício 13"
   ]
  },
  {
   "cell_type": "code",
   "execution_count": 25,
   "metadata": {},
   "outputs": [
    {
     "name": "stdout",
     "output_type": "stream",
     "text": [
      "Couldn't find program: 'false'\n"
     ]
    }
   ],
   "source": [
    "%%script false\n",
    "# Method chaining\n",
    "\n",
    "# Use method chaining\n",
    "so_survey_df['RawSalary'] = so_survey_df['RawSalary'].str.replace(',', '').str.replace('$', '').str.replace('£', '')\n",
    "so_survey_df['RawSalary'] = so_survey_df['RawSalary'].astype(float)\n",
    "\n",
    "# Print the RawSalary column\n",
    "print(so_survey_df['RawSalary'])\n"
   ]
  },
  {
   "cell_type": "markdown",
   "metadata": {},
   "source": [
    "# Chapter 3 - Conforming to Statistical Assumptions"
   ]
  },
  {
   "cell_type": "markdown",
   "metadata": {},
   "source": [
    "#### Exercício 1 - Data distributions"
   ]
  },
  {
   "cell_type": "code",
   "execution_count": 60,
   "metadata": {},
   "outputs": [
    {
     "data": {
      "image/png": "[encoded data removed]",
      "text/plain": [
       "<Figure size 432x288 with 1 Axes>"
      ]
     },
     "metadata": {
      "needs_background": "light"
     },
     "output_type": "display_data"
    },
    {
     "data": {
      "image/png": "[encoded data removed]",
      "text/plain": [
       "<Figure size 432x288 with 1 Axes>"
      ]
     },
     "metadata": {
      "needs_background": "light"
     },
     "output_type": "display_data"
    },
    {
     "data": {
      "image/png": "[encoded data removed]",
      "text/plain": [
       "<Figure size 540x540 with 12 Axes>"
      ]
     },
     "metadata": {
      "needs_background": "light"
     },
     "output_type": "display_data"
    },
    {
     "data": {
      "text/html": [
       "<div>\n",
       "<style scoped>\n",
       "    .dataframe tbody tr th:only-of-type {\n",
       "        vertical-align: middle;\n",
       "    }\n",
       "\n",
       "    .dataframe tbody tr th {\n",
       "        vertical-align: top;\n",
       "    }\n",
       "\n",
       "    .dataframe thead th {\n",
       "        text-align: right;\n",
       "    }\n",
       "</style>\n",
       "<table border=\"1\" class=\"dataframe\">\n",
       "  <thead>\n",
       "    <tr style=\"text-align: right;\">\n",
       "      <th></th>\n",
       "      <th>ConvertedSalary</th>\n",
       "      <th>StackOverflowJobsRecommend</th>\n",
       "      <th>Age</th>\n",
       "      <th>Years Experience</th>\n",
       "      <th>normalized_age</th>\n",
       "      <th>standardized_col</th>\n",
       "      <th>log_ConvertedSalary</th>\n",
       "    </tr>\n",
       "  </thead>\n",
       "  <tbody>\n",
       "    <tr>\n",
       "      <th>count</th>\n",
       "      <td>9.990000e+02</td>\n",
       "      <td>487.000000</td>\n",
       "      <td>999.000000</td>\n",
       "      <td>999.000000</td>\n",
       "      <td>999.000000</td>\n",
       "      <td>9.990000e+02</td>\n",
       "      <td>9.990000e+02</td>\n",
       "    </tr>\n",
       "    <tr>\n",
       "      <th>mean</th>\n",
       "      <td>9.256511e+04</td>\n",
       "      <td>7.061602</td>\n",
       "      <td>36.003003</td>\n",
       "      <td>9.961962</td>\n",
       "      <td>0.276969</td>\n",
       "      <td>9.935329e-17</td>\n",
       "      <td>4.698722e-16</td>\n",
       "    </tr>\n",
       "    <tr>\n",
       "      <th>std</th>\n",
       "      <td>1.705864e+05</td>\n",
       "      <td>2.621591</td>\n",
       "      <td>13.255127</td>\n",
       "      <td>4.878129</td>\n",
       "      <td>0.203925</td>\n",
       "      <td>1.000501e+00</td>\n",
       "      <td>1.000501e+00</td>\n",
       "    </tr>\n",
       "    <tr>\n",
       "      <th>min</th>\n",
       "      <td>0.000000e+00</td>\n",
       "      <td>0.000000</td>\n",
       "      <td>18.000000</td>\n",
       "      <td>0.000000</td>\n",
       "      <td>0.000000</td>\n",
       "      <td>-1.358872e+00</td>\n",
       "      <td>-4.499995e+00</td>\n",
       "    </tr>\n",
       "    <tr>\n",
       "      <th>25%</th>\n",
       "      <td>4.164150e+04</td>\n",
       "      <td>5.000000</td>\n",
       "      <td>25.000000</td>\n",
       "      <td>7.000000</td>\n",
       "      <td>0.107692</td>\n",
       "      <td>-8.305099e-01</td>\n",
       "      <td>-4.074688e-01</td>\n",
       "    </tr>\n",
       "    <tr>\n",
       "      <th>50%</th>\n",
       "      <td>9.000000e+04</td>\n",
       "      <td>7.000000</td>\n",
       "      <td>35.000000</td>\n",
       "      <td>10.000000</td>\n",
       "      <td>0.261538</td>\n",
       "      <td>-7.570696e-02</td>\n",
       "      <td>3.780847e-01</td>\n",
       "    </tr>\n",
       "    <tr>\n",
       "      <th>75%</th>\n",
       "      <td>9.256500e+04</td>\n",
       "      <td>10.000000</td>\n",
       "      <td>45.000000</td>\n",
       "      <td>13.000000</td>\n",
       "      <td>0.415385</td>\n",
       "      <td>6.790960e-01</td>\n",
       "      <td>4.091229e-01</td>\n",
       "    </tr>\n",
       "    <tr>\n",
       "      <th>max</th>\n",
       "      <td>2.000000e+06</td>\n",
       "      <td>10.000000</td>\n",
       "      <td>83.000000</td>\n",
       "      <td>27.000000</td>\n",
       "      <td>1.000000</td>\n",
       "      <td>3.547347e+00</td>\n",
       "      <td>5.139988e+00</td>\n",
       "    </tr>\n",
       "  </tbody>\n",
       "</table>\n",
       "</div>"
      ],
      "text/plain": [
       "       ConvertedSalary  StackOverflowJobsRecommend         Age  \\\n",
       "count     9.990000e+02                  487.000000  999.000000   \n",
       "mean      9.256511e+04                    7.061602   36.003003   \n",
       "std       1.705864e+05                    2.621591   13.255127   \n",
       "min       0.000000e+00                    0.000000   18.000000   \n",
       "25%       4.164150e+04                    5.000000   25.000000   \n",
       "50%       9.000000e+04                    7.000000   35.000000   \n",
       "75%       9.256500e+04                   10.000000   45.000000   \n",
       "max       2.000000e+06                   10.000000   83.000000   \n",
       "\n",
       "       Years Experience  normalized_age  standardized_col  log_ConvertedSalary  \n",
       "count        999.000000      999.000000      9.990000e+02         9.990000e+02  \n",
       "mean           9.961962        0.276969      9.935329e-17         4.698722e-16  \n",
       "std            4.878129        0.203925      1.000501e+00         1.000501e+00  \n",
       "min            0.000000        0.000000     -1.358872e+00        -4.499995e+00  \n",
       "25%            7.000000        0.107692     -8.305099e-01        -4.074688e-01  \n",
       "50%           10.000000        0.261538     -7.570696e-02         3.780847e-01  \n",
       "75%           13.000000        0.415385      6.790960e-01         4.091229e-01  \n",
       "max           27.000000        1.000000      3.547347e+00         5.139988e+00  "
      ]
     },
     "execution_count": 60,
     "metadata": {},
     "output_type": "execute_result"
    }
   ],
   "source": [
    "#vídeo\n",
    "\n",
    "# Distribution assumptions\n",
    "\n",
    "# Observing your data\n",
    "import matplotlib.pyplot as plt\n",
    "sns.distplot(df.Age)\n",
    "plt.title(\"age histogram\")\n",
    "plt.show()\n",
    "\n",
    "# Delving deeper with box plots\n",
    "image = plt.imread(data_folder + \"boxplot.jpg\")\n",
    "plt.axis('off')\n",
    "plt.imshow(image)\n",
    "plt.title(\"boxplot\", fontsize=16)\n",
    "plt.subplots_adjust(left=0, bottom=-0.2, right=1, top=1, wspace=0, hspace=0)\n",
    "plt.show()\n",
    "\n",
    "# Box plots in pandas\n",
    "\n",
    "# Paring distributions\n",
    "import seaborn as sns\n",
    "sns.pairplot(df[['ConvertedSalary', 'Age', 'Years Experience']])\n",
    "plt.title(\"pairplot with some numeric variables\")\n",
    "plt.show()\n",
    "\n",
    "# Further details on your distributions\n",
    "df.describe()\n"
   ]
  },
  {
   "cell_type": "markdown",
   "metadata": {},
   "source": [
    "Exercício 2"
   ]
  },
  {
   "cell_type": "code",
   "execution_count": 27,
   "metadata": {},
   "outputs": [],
   "source": [
    "so_numeric_df = so_numeric_df.drop('StackOverflowJobsRecommend', axis=1)"
   ]
  },
  {
   "cell_type": "code",
   "execution_count": 28,
   "metadata": {},
   "outputs": [
    {
     "data": {
      "image/png": "[encoded data removed]",
      "text/plain": [
       "<Figure size 432x288 with 4 Axes>"
      ]
     },
     "metadata": {
      "needs_background": "light"
     },
     "output_type": "display_data"
    },
    {
     "data": {
      "image/png": "[encoded data removed]",
      "text/plain": [
       "<Figure size 432x288 with 1 Axes>"
      ]
     },
     "metadata": {
      "needs_background": "light"
     },
     "output_type": "display_data"
    },
    {
     "data": {
      "image/png": "[encoded data removed]",
      "text/plain": [
       "<Figure size 432x288 with 1 Axes>"
      ]
     },
     "metadata": {
      "needs_background": "light"
     },
     "output_type": "display_data"
    }
   ],
   "source": [
    "# What does your data look like? (I)\n",
    "\n",
    "# Create a histogram\n",
    "so_numeric_df.hist()\n",
    "plt.title(\"histogram\")\n",
    "\n",
    "plt.show()\n",
    "\n",
    "# Create a boxplot of two columns\n",
    "so_numeric_df[['Age', 'Years Experience']].boxplot()\n",
    "plt.title(\"boxplot age & years experience\")\n",
    "plt.show()\n",
    "\n",
    "# Create a boxplot of ConvertedSalary\n",
    "so_numeric_df[['ConvertedSalary']].boxplot()\n",
    "plt.title(\"converted salary\")\n",
    "plt.show()\n"
   ]
  },
  {
   "cell_type": "markdown",
   "metadata": {},
   "source": [
    "Exercício 3"
   ]
  },
  {
   "cell_type": "code",
   "execution_count": 29,
   "metadata": {},
   "outputs": [
    {
     "name": "stderr",
     "output_type": "stream",
     "text": [
      "C:\\Users\\Admin\\Anaconda3\\lib\\site-packages\\numpy\\lib\\histograms.py:754: RuntimeWarning: invalid value encountered in greater_equal\n",
      "  keep = (tmp_a >= first_edge)\n",
      "C:\\Users\\Admin\\Anaconda3\\lib\\site-packages\\numpy\\lib\\histograms.py:755: RuntimeWarning: invalid value encountered in less_equal\n",
      "  keep &= (tmp_a <= last_edge)\n"
     ]
    },
    {
     "data": {
      "image/png": "[encoded data removed]",
      "text/plain": [
       "<Figure size 540x540 with 12 Axes>"
      ]
     },
     "metadata": {
      "needs_background": "light"
     },
     "output_type": "display_data"
    },
    {
     "data": {
      "text/html": [
       "<div>\n",
       "<style scoped>\n",
       "    .dataframe tbody tr th:only-of-type {\n",
       "        vertical-align: middle;\n",
       "    }\n",
       "\n",
       "    .dataframe tbody tr th {\n",
       "        vertical-align: top;\n",
       "    }\n",
       "\n",
       "    .dataframe thead th {\n",
       "        text-align: right;\n",
       "    }\n",
       "</style>\n",
       "<table border=\"1\" class=\"dataframe\">\n",
       "  <thead>\n",
       "    <tr style=\"text-align: right;\">\n",
       "      <th></th>\n",
       "      <th>ConvertedSalary</th>\n",
       "      <th>Age</th>\n",
       "      <th>Years Experience</th>\n",
       "    </tr>\n",
       "  </thead>\n",
       "  <tbody>\n",
       "    <tr>\n",
       "      <th>count</th>\n",
       "      <td>6.650000e+02</td>\n",
       "      <td>999.000000</td>\n",
       "      <td>999.000000</td>\n",
       "    </tr>\n",
       "    <tr>\n",
       "      <th>mean</th>\n",
       "      <td>9.256517e+04</td>\n",
       "      <td>36.003003</td>\n",
       "      <td>9.961962</td>\n",
       "    </tr>\n",
       "    <tr>\n",
       "      <th>std</th>\n",
       "      <td>2.091344e+05</td>\n",
       "      <td>13.255127</td>\n",
       "      <td>4.878129</td>\n",
       "    </tr>\n",
       "    <tr>\n",
       "      <th>min</th>\n",
       "      <td>0.000000e+00</td>\n",
       "      <td>18.000000</td>\n",
       "      <td>0.000000</td>\n",
       "    </tr>\n",
       "    <tr>\n",
       "      <th>25%</th>\n",
       "      <td>2.755000e+04</td>\n",
       "      <td>25.000000</td>\n",
       "      <td>7.000000</td>\n",
       "    </tr>\n",
       "    <tr>\n",
       "      <th>50%</th>\n",
       "      <td>5.556200e+04</td>\n",
       "      <td>35.000000</td>\n",
       "      <td>10.000000</td>\n",
       "    </tr>\n",
       "    <tr>\n",
       "      <th>75%</th>\n",
       "      <td>8.823800e+04</td>\n",
       "      <td>45.000000</td>\n",
       "      <td>13.000000</td>\n",
       "    </tr>\n",
       "    <tr>\n",
       "      <th>max</th>\n",
       "      <td>2.000000e+06</td>\n",
       "      <td>83.000000</td>\n",
       "      <td>27.000000</td>\n",
       "    </tr>\n",
       "  </tbody>\n",
       "</table>\n",
       "</div>"
      ],
      "text/plain": [
       "       ConvertedSalary         Age  Years Experience\n",
       "count     6.650000e+02  999.000000        999.000000\n",
       "mean      9.256517e+04   36.003003          9.961962\n",
       "std       2.091344e+05   13.255127          4.878129\n",
       "min       0.000000e+00   18.000000          0.000000\n",
       "25%       2.755000e+04   25.000000          7.000000\n",
       "50%       5.556200e+04   35.000000         10.000000\n",
       "75%       8.823800e+04   45.000000         13.000000\n",
       "max       2.000000e+06   83.000000         27.000000"
      ]
     },
     "execution_count": 29,
     "metadata": {},
     "output_type": "execute_result"
    }
   ],
   "source": [
    "# What does your data look like? (II)\n",
    "\n",
    "# Import packages\n",
    "import matplotlib.pyplot as plt\n",
    "import seaborn as sns\n",
    "\n",
    "# Plot pairwise relationships\n",
    "sns.pairplot(so_numeric_df)\n",
    "\n",
    "# Show plot\n",
    "plt.show()\n",
    "\n",
    "# Print summary statistics\n",
    "so_numeric_df.describe()\n"
   ]
  },
  {
   "cell_type": "markdown",
   "metadata": {},
   "source": [
    "Exercício 4"
   ]
  },
  {
   "cell_type": "code",
   "execution_count": 30,
   "metadata": {},
   "outputs": [
    {
     "name": "stdout",
     "output_type": "stream",
     "text": [
      "decision trees\n"
     ]
    }
   ],
   "source": [
    "# When don't you have to transform your data?\n",
    "\n",
    "# While making sure that all of your data is on the same scale is advisable for most analyses, for which of the following\n",
    "# machine learning models is normalizing data not always necessary?\n",
    "\n",
    "print(\"decision trees\")"
   ]
  },
  {
   "cell_type": "markdown",
   "metadata": {},
   "source": [
    "#### Exercício 5 - Scaling and transformation"
   ]
  },
  {
   "cell_type": "code",
   "execution_count": 31,
   "metadata": {},
   "outputs": [
    {
     "name": "stderr",
     "output_type": "stream",
     "text": [
      "C:\\Users\\Admin\\Anaconda3\\lib\\site-packages\\sklearn\\preprocessing\\data.py:323: DataConversionWarning: Data with input dtype int64 were all converted to float64 by MinMaxScaler.\n",
      "  return self.partial_fit(X, y)\n",
      "C:\\Users\\Admin\\Anaconda3\\lib\\site-packages\\sklearn\\preprocessing\\data.py:625: DataConversionWarning: Data with input dtype int64 were all converted to float64 by StandardScaler.\n",
      "  return self.partial_fit(X, y)\n",
      "C:\\Users\\Admin\\Anaconda3\\lib\\site-packages\\ipykernel_launcher.py:25: DataConversionWarning: Data with input dtype int64 were all converted to float64 by StandardScaler.\n"
     ]
    }
   ],
   "source": [
    "#vídeo\n",
    "\n",
    "# Scaling data\n",
    "\n",
    "# Min-Max scaling\n",
    "\n",
    "# Min-Max scaling in Python\n",
    "from sklearn.preprocessing import MinMaxScaler   # scaled linearly between a minimum (0) and a maximum value (1)\n",
    "\n",
    "scaler = MinMaxScaler()\n",
    "\n",
    "scaler.fit(df[['Age']])\n",
    "\n",
    "df['normalized_age'] = scaler.transform(df[['Age']])\n",
    "\n",
    "########################################################################################\n",
    "\n",
    "# Standardization\n",
    "from sklearn.preprocessing import StandardScaler\n",
    "\n",
    "scaler = StandardScaler()\n",
    "\n",
    "scaler.fit(df[['Age']])\n",
    "\n",
    "df['standardized_col'] = scaler.transform(df[['Age']])\n",
    "\n",
    "########################################################################################\n",
    "\n",
    "# Log Transformation\n",
    "from sklearn.preprocessing import PowerTransformer\n",
    "\n",
    "log = PowerTransformer()\n",
    "\n",
    "log.fit(df[['ConvertedSalary']])\n",
    "\n",
    "df['log_ConvertedSalary'] = log.transform(df[['ConvertedSalary']])\n"
   ]
  },
  {
   "cell_type": "markdown",
   "metadata": {},
   "source": [
    "Exercício 6"
   ]
  },
  {
   "cell_type": "code",
   "execution_count": 32,
   "metadata": {},
   "outputs": [
    {
     "name": "stdout",
     "output_type": "stream",
     "text": [
      "     Age_MM  Age\n",
      "0  0.046154   21\n",
      "1  0.307692   38\n",
      "2  0.415385   45\n",
      "3  0.430769   46\n",
      "4  0.323077   39\n",
      "5  0.323077   39\n",
      "6  0.246154   34\n",
      "\n",
      "MinMaxScaler: All values have been scaled between 0 and 1\n"
     ]
    },
    {
     "name": "stderr",
     "output_type": "stream",
     "text": [
      "C:\\Users\\Admin\\Anaconda3\\lib\\site-packages\\sklearn\\preprocessing\\data.py:323: DataConversionWarning: Data with input dtype int64 were all converted to float64 by MinMaxScaler.\n",
      "  return self.partial_fit(X, y)\n"
     ]
    }
   ],
   "source": [
    "# Normalization\n",
    "\n",
    "# Import MinMaxScaler\n",
    "from sklearn.preprocessing import MinMaxScaler\n",
    "\n",
    "# Instantiate MinMaxScaler\n",
    "MM_scaler = MinMaxScaler()\n",
    "\n",
    "# Fit MM_scaler to the data\n",
    "MM_scaler.fit(so_numeric_df[['Age']])\n",
    "\n",
    "# Transform the data using the fitted scaler\n",
    "so_numeric_df['Age_MM'] = MM_scaler.transform(so_numeric_df[['Age']])\n",
    "\n",
    "# Compare the origional and transformed column\n",
    "print(so_numeric_df[['Age_MM', 'Age']].head(7))\n",
    "\n",
    "print(\"\\nMinMaxScaler: All values have been scaled between 0 and 1\")"
   ]
  },
  {
   "cell_type": "markdown",
   "metadata": {},
   "source": [
    "Exercício 7"
   ]
  },
  {
   "cell_type": "code",
   "execution_count": 33,
   "metadata": {},
   "outputs": [
    {
     "name": "stdout",
     "output_type": "stream",
     "text": [
      "     Age_SS  Age\n",
      "0 -1.132431   21\n",
      "1  0.150734   38\n",
      "2  0.679096   45\n",
      "3  0.754576   46\n",
      "4  0.226214   39\n",
      "5  0.226214   39\n",
      "6 -0.151187   34\n",
      "\n",
      "StandardScaler: The values have been scaled linearly, but not between set values.\n"
     ]
    },
    {
     "name": "stderr",
     "output_type": "stream",
     "text": [
      "C:\\Users\\Admin\\Anaconda3\\lib\\site-packages\\sklearn\\preprocessing\\data.py:625: DataConversionWarning: Data with input dtype int64 were all converted to float64 by StandardScaler.\n",
      "  return self.partial_fit(X, y)\n",
      "C:\\Users\\Admin\\Anaconda3\\lib\\site-packages\\ipykernel_launcher.py:13: DataConversionWarning: Data with input dtype int64 were all converted to float64 by StandardScaler.\n",
      "  del sys.path[0]\n"
     ]
    }
   ],
   "source": [
    "# Standardization\n",
    "\n",
    "# Import StandardScaler\n",
    "from sklearn.preprocessing import StandardScaler\n",
    "\n",
    "# Instantiate StandardScaler\n",
    "SS_scaler = StandardScaler()\n",
    "\n",
    "# Fit SS_scaler to the data\n",
    "SS_scaler.fit(so_numeric_df[['Age']])\n",
    "\n",
    "# Transform the data using the fitted scaler\n",
    "so_numeric_df['Age_SS'] = SS_scaler.transform(so_numeric_df[['Age']])\n",
    "\n",
    "# Compare the origional and transformed column\n",
    "print(so_numeric_df[['Age_SS', 'Age']].head(7))\n",
    "\n",
    "print(\"\\nStandardScaler: The values have been scaled linearly, but not between set values.\")"
   ]
  },
  {
   "cell_type": "markdown",
   "metadata": {},
   "source": [
    "Exercício 8"
   ]
  },
  {
   "cell_type": "code",
   "execution_count": 34,
   "metadata": {},
   "outputs": [
    {
     "data": {
      "image/png": "[encoded data removed]",
      "text/plain": [
       "<Figure size 432x288 with 2 Axes>"
      ]
     },
     "metadata": {
      "needs_background": "light"
     },
     "output_type": "display_data"
    },
    {
     "name": "stdout",
     "output_type": "stream",
     "text": [
      "PowerTransformer\n",
      "notice the change in the shape of the distribution. ConvertedSalary_LG column looks much more normal than the \n",
      "original ConvertedSalary column.\n"
     ]
    }
   ],
   "source": [
    "# Log transformation\n",
    "\n",
    "# Import PowerTransformer\n",
    "from sklearn.preprocessing import PowerTransformer\n",
    "\n",
    "# Instantiate PowerTransformer\n",
    "pow_trans = PowerTransformer()\n",
    "\n",
    "# Train the transform on the data\n",
    "pow_trans.fit(so_numeric_df[['ConvertedSalary']])\n",
    "\n",
    "# Apply the power transform to the data\n",
    "so_numeric_df['ConvertedSalary_LG'] = pow_trans.transform(so_numeric_df[['ConvertedSalary']])\n",
    "\n",
    "# Plot the data before and after the transformation\n",
    "so_numeric_df[['ConvertedSalary', 'ConvertedSalary_LG']].hist()\n",
    "\n",
    "plt.subplots_adjust(left=0, bottom=0, right=2, top=1, wspace=0.5, hspace=0)\n",
    "plt.show()\n",
    "\n",
    "print(\"PowerTransformer\")\n",
    "print(\"\"\"notice the change in the shape of the distribution. ConvertedSalary_LG column looks much more normal than the \n",
    "original ConvertedSalary column.\"\"\")"
   ]
  },
  {
   "cell_type": "markdown",
   "metadata": {},
   "source": [
    "Exercício 9"
   ]
  },
  {
   "cell_type": "code",
   "execution_count": 35,
   "metadata": {},
   "outputs": [
    {
     "name": "stdout",
     "output_type": "stream",
     "text": [
      "When you know the the data has a strict upper and lower bound.\n"
     ]
    }
   ],
   "source": [
    "# When can you use normalization?\n",
    "\n",
    "# When could you use normalization (MinMaxScaler) when working with a dataset?\n",
    "\n",
    "print(\"When you know the the data has a strict upper and lower bound.\")\n"
   ]
  },
  {
   "cell_type": "markdown",
   "metadata": {},
   "source": [
    "#### Exercício 10 - Removing outliers"
   ]
  },
  {
   "cell_type": "code",
   "execution_count": 36,
   "metadata": {},
   "outputs": [
    {
     "name": "stdout",
     "output_type": "stream",
     "text": [
      "Couldn't find program: 'false'\n"
     ]
    }
   ],
   "source": [
    "%%script false\n",
    "#vídeo\n",
    "\n",
    "# What are outliers?\n",
    "\n",
    "# Quantile based detection (beyond 95% of the data distribution)\n",
    "# Quantiles in Python\n",
    "q_cutoff = df['col_name'].quantile(0.95)\n",
    "\n",
    "mask = df['col_name'] < q_cutoff\n",
    "\n",
    "trimmed_df = df[mask]\n",
    "\n",
    "####################\n",
    "\n",
    "# Standard deviation based detection (3 standard deviations from the mean)\n",
    "# Standard deviation detection in Python\n",
    "\n",
    "mean = df['col_name'].mean()\n",
    "std = df['col_name'].std()\n",
    "cut_off = std * 3            # 99%, se for normal\n",
    "\n",
    "lower, upper = mean - cut_off, mean + cut_off\n",
    "\n",
    "new_df = df[(df['col_name'] < upper) & (df['col_name'] > lower)]\n"
   ]
  },
  {
   "cell_type": "markdown",
   "metadata": {},
   "source": [
    "Exercício 11"
   ]
  },
  {
   "cell_type": "code",
   "execution_count": 37,
   "metadata": {},
   "outputs": [
    {
     "data": {
      "image/png": "[encoded data removed]",
      "text/plain": [
       "<Figure size 432x288 with 1 Axes>"
      ]
     },
     "metadata": {
      "needs_background": "light"
     },
     "output_type": "display_data"
    },
    {
     "data": {
      "image/png": "[encoded data removed]",
      "text/plain": [
       "<Figure size 432x288 with 1 Axes>"
      ]
     },
     "metadata": {
      "needs_background": "light"
     },
     "output_type": "display_data"
    }
   ],
   "source": [
    "# Percentage based outlier removal\n",
    "\n",
    "# Find the 95th quantile\n",
    "quantile = so_numeric_df['ConvertedSalary'].quantile(0.95)\n",
    "\n",
    "# Trim the outliers\n",
    "trimmed_df = so_numeric_df[so_numeric_df['ConvertedSalary'] < quantile]\n",
    "\n",
    "# The original histogram\n",
    "so_numeric_df[['ConvertedSalary']].hist()\n",
    "plt.title(\"ConvertedSalary\")\n",
    "plt.show()\n",
    "\n",
    "# The trimmed histogram\n",
    "trimmed_df[['ConvertedSalary']].hist()\n",
    "plt.title(\"ConvertedSalary - up until the 95th quantile\")\n",
    "\n",
    "plt.subplots_adjust(left=0, bottom=0, right=1, top=1, wspace=0.5, hspace=0)\n",
    "plt.show()"
   ]
  },
  {
   "cell_type": "markdown",
   "metadata": {},
   "source": [
    "Exercício 12"
   ]
  },
  {
   "cell_type": "code",
   "execution_count": 38,
   "metadata": {},
   "outputs": [
    {
     "data": {
      "image/png": "[encoded data removed]",
      "text/plain": [
       "<Figure size 432x288 with 1 Axes>"
      ]
     },
     "metadata": {
      "needs_background": "light"
     },
     "output_type": "display_data"
    }
   ],
   "source": [
    "# Statistical outlier removal\n",
    "\n",
    "# Find the mean and standard dev\n",
    "std = so_numeric_df['ConvertedSalary'].std()\n",
    "mean = so_numeric_df['ConvertedSalary'].mean()\n",
    "\n",
    "# Calculate the cutoff\n",
    "cut_off = std * 3\n",
    "lower, upper = mean - cut_off, mean + cut_off\n",
    "\n",
    "# Trim the outliers\n",
    "trimmed_df = so_numeric_df[(so_numeric_df['ConvertedSalary'] < upper) & (so_numeric_df['ConvertedSalary'] > lower)]\n",
    "\n",
    "# The trimmed box plot\n",
    "trimmed_df[['ConvertedSalary']].boxplot()\n",
    "plt.show()\n"
   ]
  },
  {
   "cell_type": "markdown",
   "metadata": {},
   "source": [
    "#### Exercício 13 - Scaling and transforming data"
   ]
  },
  {
   "cell_type": "code",
   "execution_count": 39,
   "metadata": {},
   "outputs": [
    {
     "name": "stdout",
     "output_type": "stream",
     "text": [
      "Couldn't find program: 'false'\n"
     ]
    }
   ],
   "source": [
    "%%script false\n",
    "#vídeo\n",
    "\n",
    "# Reuse training scalers\n",
    "scaler = StandardScaler()\n",
    "\n",
    "scaler.fit(train[['col']])\n",
    "\n",
    "train['scaled_col'] = scaler.transform(train[['col']])\n",
    "\n",
    "# FIT SOME MODEL\n",
    "# ....\n",
    "\n",
    "test = pd.read_csv('test_csv')\n",
    "test['scaled_col'] = scaler.transform(test[['col']])\n",
    "\n",
    "#########\n",
    "\n",
    "# Training transformations for reuse\n",
    "\n",
    "train_mean = train[['col']].mean()\n",
    "train_std = train[['col']].std()\n",
    "cut_off = train_std * 3\n",
    "train_lower = train_mean - cut_off\n",
    "train_upper = train_mean + cut_off\n",
    "\n",
    "# Subset train data\n",
    "test = pd.read_csv('test_csv')\n",
    "\n",
    "# Subset test data\n",
    "test = test[(test[['col']] < train_upper) & (test[['col']] > train_lower)]\n",
    "\n",
    "############################\n",
    "\n",
    "# Why only use training data?\n",
    "#  - Data leakage: Using data that you won't have access to when assessing the performance of your model\n",
    "\n",
    "\n",
    "# Avoid data leakage"
   ]
  },
  {
   "cell_type": "markdown",
   "metadata": {},
   "source": [
    "Exercício 14"
   ]
  },
  {
   "cell_type": "code",
   "execution_count": 40,
   "metadata": {},
   "outputs": [
    {
     "data": {
      "text/html": [
       "<div>\n",
       "<style scoped>\n",
       "    .dataframe tbody tr th:only-of-type {\n",
       "        vertical-align: middle;\n",
       "    }\n",
       "\n",
       "    .dataframe tbody tr th {\n",
       "        vertical-align: top;\n",
       "    }\n",
       "\n",
       "    .dataframe thead th {\n",
       "        text-align: right;\n",
       "    }\n",
       "</style>\n",
       "<table border=\"1\" class=\"dataframe\">\n",
       "  <thead>\n",
       "    <tr style=\"text-align: right;\">\n",
       "      <th></th>\n",
       "      <th>Age</th>\n",
       "      <th>Age_ss</th>\n",
       "    </tr>\n",
       "  </thead>\n",
       "  <tbody>\n",
       "    <tr>\n",
       "      <th>700</th>\n",
       "      <td>35.0</td>\n",
       "      <td>-0.069265</td>\n",
       "    </tr>\n",
       "    <tr>\n",
       "      <th>701</th>\n",
       "      <td>18.0</td>\n",
       "      <td>-1.343218</td>\n",
       "    </tr>\n",
       "    <tr>\n",
       "      <th>702</th>\n",
       "      <td>47.0</td>\n",
       "      <td>0.829997</td>\n",
       "    </tr>\n",
       "    <tr>\n",
       "      <th>703</th>\n",
       "      <td>57.0</td>\n",
       "      <td>1.579381</td>\n",
       "    </tr>\n",
       "    <tr>\n",
       "      <th>704</th>\n",
       "      <td>41.0</td>\n",
       "      <td>0.380366</td>\n",
       "    </tr>\n",
       "  </tbody>\n",
       "</table>\n",
       "</div>"
      ],
      "text/plain": [
       "      Age    Age_ss\n",
       "700  35.0 -0.069265\n",
       "701  18.0 -1.343218\n",
       "702  47.0  0.829997\n",
       "703  57.0  1.579381\n",
       "704  41.0  0.380366"
      ]
     },
     "execution_count": 40,
     "metadata": {},
     "output_type": "execute_result"
    }
   ],
   "source": [
    "# Train and testing transformations (I)\n",
    "\n",
    "# So far you have created scalers based on a column, and then applied the scaler to the same data that it was trained on. \n",
    "# When creating machine learning models you will generally build your models on historic data (train set) and apply your \n",
    "# model to new unseen data (test set). In these cases you will need to ensure that the same scaling is being applied to both\n",
    "# the training and test data.\n",
    "# To do this in practice you train the scaler on the train set, and keep the trained scaler to apply it to the test set.\n",
    "# ---> You should never retrain a scaler on the test set.\n",
    "\n",
    "#####################\n",
    "\n",
    "# For this exercise and the next, we split the so_numeric_df DataFrame into train (so_train_numeric) and test \n",
    "# (so_test_numeric) sets.\n",
    "\n",
    "so_train_numeric = so_numeric_df.drop(['Age_MM', 'Age_SS', 'ConvertedSalary_LG'], axis=1)[:700].astype(float)\n",
    "so_test_numeric = so_numeric_df.drop(['Age_MM', 'Age_SS', 'ConvertedSalary_LG'], axis=1)[700:].astype(float)\n",
    "\n",
    "#####################\n",
    "\n",
    "# Import StandardScaler\n",
    "from sklearn.preprocessing import StandardScaler\n",
    "\n",
    "# Apply a standard scaler to the data\n",
    "SS_scaler = StandardScaler()\n",
    "\n",
    "# Fit the standard scaler to the data\n",
    "SS_scaler.fit(so_train_numeric[['Age']]) \n",
    "\n",
    "# Transform the test data using the fitted scaler\n",
    "so_test_numeric['Age_ss'] = SS_scaler.transform(so_test_numeric[['Age']])  \n",
    "so_test_numeric[['Age', 'Age_ss']].head()\n"
   ]
  },
  {
   "cell_type": "code",
   "execution_count": 41,
   "metadata": {},
   "outputs": [
    {
     "name": "stdout",
     "output_type": "stream",
     "text": [
      "Data leakage is one of the most common mistakes data scientists tend to make, and I hope that you won't\n"
     ]
    }
   ],
   "source": [
    "print(\"Data leakage is one of the most common mistakes data scientists tend to make, and I hope that you won't\")"
   ]
  },
  {
   "cell_type": "markdown",
   "metadata": {},
   "source": [
    "Exercício 15"
   ]
  },
  {
   "cell_type": "code",
   "execution_count": 42,
   "metadata": {},
   "outputs": [
    {
     "data": {
      "text/html": [
       "<div>\n",
       "<style scoped>\n",
       "    .dataframe tbody tr th:only-of-type {\n",
       "        vertical-align: middle;\n",
       "    }\n",
       "\n",
       "    .dataframe tbody tr th {\n",
       "        vertical-align: top;\n",
       "    }\n",
       "\n",
       "    .dataframe thead th {\n",
       "        text-align: right;\n",
       "    }\n",
       "</style>\n",
       "<table border=\"1\" class=\"dataframe\">\n",
       "  <thead>\n",
       "    <tr style=\"text-align: right;\">\n",
       "      <th></th>\n",
       "      <th>ConvertedSalary</th>\n",
       "      <th>Age</th>\n",
       "      <th>Years Experience</th>\n",
       "      <th>Age_ss</th>\n",
       "    </tr>\n",
       "  </thead>\n",
       "  <tbody>\n",
       "    <tr>\n",
       "      <th>700</th>\n",
       "      <td>36716.0</td>\n",
       "      <td>35.0</td>\n",
       "      <td>13.0</td>\n",
       "      <td>-0.069265</td>\n",
       "    </tr>\n",
       "    <tr>\n",
       "      <th>701</th>\n",
       "      <td>200000.0</td>\n",
       "      <td>18.0</td>\n",
       "      <td>20.0</td>\n",
       "      <td>-1.343218</td>\n",
       "    </tr>\n",
       "    <tr>\n",
       "      <th>703</th>\n",
       "      <td>10476.0</td>\n",
       "      <td>57.0</td>\n",
       "      <td>19.0</td>\n",
       "      <td>1.579381</td>\n",
       "    </tr>\n",
       "    <tr>\n",
       "      <th>707</th>\n",
       "      <td>42672.0</td>\n",
       "      <td>29.0</td>\n",
       "      <td>9.0</td>\n",
       "      <td>-0.518895</td>\n",
       "    </tr>\n",
       "    <tr>\n",
       "      <th>708</th>\n",
       "      <td>23614.0</td>\n",
       "      <td>46.0</td>\n",
       "      <td>15.0</td>\n",
       "      <td>0.755058</td>\n",
       "    </tr>\n",
       "  </tbody>\n",
       "</table>\n",
       "</div>"
      ],
      "text/plain": [
       "     ConvertedSalary   Age  Years Experience    Age_ss\n",
       "700          36716.0  35.0              13.0 -0.069265\n",
       "701         200000.0  18.0              20.0 -1.343218\n",
       "703          10476.0  57.0              19.0  1.579381\n",
       "707          42672.0  29.0               9.0 -0.518895\n",
       "708          23614.0  46.0              15.0  0.755058"
      ]
     },
     "execution_count": 42,
     "metadata": {},
     "output_type": "execute_result"
    }
   ],
   "source": [
    "# Train and testing transformations (II)\n",
    "\n",
    "train_std = so_train_numeric['ConvertedSalary'].std()\n",
    "train_mean = so_train_numeric['ConvertedSalary'].mean()\n",
    "\n",
    "cut_off = train_std * 3\n",
    "train_lower, train_upper = train_mean - cut_off, train_mean + cut_off\n",
    "\n",
    "# Trim the test DataFrame\n",
    "trimmed_df = so_test_numeric[(so_test_numeric['ConvertedSalary'] < train_upper) \n",
    "                             &\n",
    "                             (so_test_numeric['ConvertedSalary'] > train_lower)]\n",
    "\n",
    "trimmed_df.head()"
   ]
  },
  {
   "cell_type": "markdown",
   "metadata": {},
   "source": [
    "# Chapter 4 - Dealing with Text Data"
   ]
  },
  {
   "cell_type": "markdown",
   "metadata": {},
   "source": [
    "#### Exercício 1 - Encoding text"
   ]
  },
  {
   "cell_type": "code",
   "execution_count": 43,
   "metadata": {},
   "outputs": [
    {
     "data": {
      "image/png": "[encoded data removed]",
      "text/plain": [
       "<Figure size 432x288 with 1 Axes>"
      ]
     },
     "metadata": {
      "needs_background": "light"
     },
     "output_type": "display_data"
    },
    {
     "data": {
      "text/plain": [
       "0    1432\n",
       "1     135\n",
       "2    2323\n",
       "3    1736\n",
       "4    2169\n",
       "Name: word_counts, dtype: int64"
      ]
     },
     "execution_count": 43,
     "metadata": {},
     "output_type": "execute_result"
    }
   ],
   "source": [
    "#vídeo\n",
    "\n",
    "# Standardizing your text\n",
    "# Example of free text:\n",
    "# Fellow-Citizens ofthe Senate and of the House of Representatives:\n",
    "# AMONG the vicissitudes incident to life no event could have filled me with greater anxieties than that of which the \n",
    "# notication was transmitted by your order, and received on the th day of the present month.\n",
    "\n",
    "speech_df = pd.read_csv(data_folder + \"inaugural_speeches.csv\")\n",
    "\n",
    "# Dataset\n",
    "speech_df.head()\n",
    "\n",
    "# Removing unwanted characters\n",
    "#  - [a-zA-Z] : All letter characters\n",
    "#  - [^a-zA-Z] : All non letter characters\n",
    "\n",
    "speech_df['text'] = speech_df['text'].str.replace('[^a-zA-Z]', ' ')\n",
    "\n",
    "image = plt.imread(data_folder + \"removing_unwanted_characters.jpg\")\n",
    "plt.axis('off')\n",
    "plt.imshow(image)\n",
    "plt.subplots_adjust(left=0, bottom=-0.2, right=1, top=1, wspace=0, hspace=0)\n",
    "plt.show()\n",
    "\n",
    "\n",
    "# Standardize the case\n",
    "speech_df['text'] = speech_df['text'].str.lower()\n",
    "speech_df['text'][0] # fica tudo com letras minúsculas\n",
    "\n",
    "# Length of text\n",
    "speech_df['char_cnt'] = speech_df['text'].str.len()\n",
    "speech_df['char_cnt'].head()\n",
    "\n",
    "# Word counts\n",
    "speech_df['word_cnt'] = speech_df['text'].str.split()\n",
    "speech_df['word_cnt'].head(1)\n",
    "\n",
    "speech_df['word_counts'] = speech_df['text'].str.split().str.len()\n",
    "speech_df['word_counts'].head()\n",
    "\n",
    "##############\n",
    "\n",
    "# Average length of word\n",
    "# speech_df['avg_word_len'] = speech_df['char_cnt'] / speech_df['word_cnt']\n",
    "\n"
   ]
  },
  {
   "cell_type": "markdown",
   "metadata": {},
   "source": [
    "Exercício 2"
   ]
  },
  {
   "cell_type": "code",
   "execution_count": 44,
   "metadata": {},
   "outputs": [
    {
     "name": "stdout",
     "output_type": "stream",
     "text": [
      "0    fellow citizens of the senate and of the house...\n",
      "1    fellow citizens   i am again called upon by th...\n",
      "2    when it was first perceived  in early times  t...\n",
      "3    friends and fellow citizens   called upon to u...\n",
      "4    proceeding  fellow citizens  to that qualifica...\n",
      "Name: text, dtype: object \n",
      "\n",
      "0    fellow citizens of the senate and of the house...\n",
      "1    fellow citizens   i am again called upon by th...\n",
      "2    when it was first perceived  in early times  t...\n",
      "3    friends and fellow citizens   called upon to u...\n",
      "4    proceeding  fellow citizens  to that qualifica...\n",
      "Name: text_clean, dtype: object\n"
     ]
    }
   ],
   "source": [
    "# Cleaning up your text\n",
    "\n",
    "# Print the first 5 rows of the text column (speech_df --> inaugural speeches of the presidents of the United States)\n",
    "print(speech_df['text'].head(), \"\\n\")\n",
    "\n",
    "# Replace all non letter characters with a whitespace\n",
    "speech_df['text_clean'] = speech_df['text'].str.replace('[^a-zA-Z]', ' ')\n",
    "\n",
    "# Change to lower case\n",
    "speech_df['text_clean'] = speech_df['text_clean'].str.lower()\n",
    "\n",
    "# Print the first 5 rows of the text_clean column\n",
    "print(speech_df['text_clean'].head())\n"
   ]
  },
  {
   "cell_type": "markdown",
   "metadata": {},
   "source": [
    "Exercício 3"
   ]
  },
  {
   "cell_type": "code",
   "execution_count": 45,
   "metadata": {},
   "outputs": [
    {
     "data": {
      "text/html": [
       "<div>\n",
       "<style scoped>\n",
       "    .dataframe tbody tr th:only-of-type {\n",
       "        vertical-align: middle;\n",
       "    }\n",
       "\n",
       "    .dataframe tbody tr th {\n",
       "        vertical-align: top;\n",
       "    }\n",
       "\n",
       "    .dataframe thead th {\n",
       "        text-align: right;\n",
       "    }\n",
       "</style>\n",
       "<table border=\"1\" class=\"dataframe\">\n",
       "  <thead>\n",
       "    <tr style=\"text-align: right;\">\n",
       "      <th></th>\n",
       "      <th>text_clean</th>\n",
       "      <th>char_cnt</th>\n",
       "      <th>word_cnt</th>\n",
       "      <th>avg_word_length</th>\n",
       "    </tr>\n",
       "  </thead>\n",
       "  <tbody>\n",
       "    <tr>\n",
       "      <th>0</th>\n",
       "      <td>fellow citizens of the senate and of the house...</td>\n",
       "      <td>8616</td>\n",
       "      <td>1432</td>\n",
       "      <td>6.016760</td>\n",
       "    </tr>\n",
       "    <tr>\n",
       "      <th>1</th>\n",
       "      <td>fellow citizens   i am again called upon by th...</td>\n",
       "      <td>787</td>\n",
       "      <td>135</td>\n",
       "      <td>5.829630</td>\n",
       "    </tr>\n",
       "    <tr>\n",
       "      <th>2</th>\n",
       "      <td>when it was first perceived  in early times  t...</td>\n",
       "      <td>13871</td>\n",
       "      <td>2323</td>\n",
       "      <td>5.971158</td>\n",
       "    </tr>\n",
       "    <tr>\n",
       "      <th>3</th>\n",
       "      <td>friends and fellow citizens   called upon to u...</td>\n",
       "      <td>10144</td>\n",
       "      <td>1736</td>\n",
       "      <td>5.843318</td>\n",
       "    </tr>\n",
       "    <tr>\n",
       "      <th>4</th>\n",
       "      <td>proceeding  fellow citizens  to that qualifica...</td>\n",
       "      <td>12902</td>\n",
       "      <td>2169</td>\n",
       "      <td>5.948363</td>\n",
       "    </tr>\n",
       "  </tbody>\n",
       "</table>\n",
       "</div>"
      ],
      "text/plain": [
       "                                          text_clean  char_cnt  word_cnt  \\\n",
       "0  fellow citizens of the senate and of the house...      8616      1432   \n",
       "1  fellow citizens   i am again called upon by th...       787       135   \n",
       "2  when it was first perceived  in early times  t...     13871      2323   \n",
       "3  friends and fellow citizens   called upon to u...     10144      1736   \n",
       "4  proceeding  fellow citizens  to that qualifica...     12902      2169   \n",
       "\n",
       "   avg_word_length  \n",
       "0         6.016760  \n",
       "1         5.829630  \n",
       "2         5.971158  \n",
       "3         5.843318  \n",
       "4         5.948363  "
      ]
     },
     "execution_count": 45,
     "metadata": {},
     "output_type": "execute_result"
    }
   ],
   "source": [
    "# High level text features\n",
    "\n",
    "# Find the length of each text\n",
    "speech_df['char_cnt'] = speech_df['text_clean'].str.len()\n",
    "\n",
    "# Count the number of words in each text\n",
    "speech_df['word_cnt'] = speech_df['text_clean'].str.split().str.len()\n",
    "\n",
    "# Find the average length of word\n",
    "speech_df['avg_word_length'] = speech_df['char_cnt'] / speech_df['word_cnt']\n",
    "\n",
    "###########################################################################################\n",
    "\n",
    "# Print the first 5 rows of these columns\n",
    "speech_df[['text_clean', 'char_cnt', 'word_cnt', 'avg_word_length']].head()\n"
   ]
  },
  {
   "cell_type": "markdown",
   "metadata": {},
   "source": [
    "#### Exercício 4 - Word counts"
   ]
  },
  {
   "cell_type": "code",
   "execution_count": 46,
   "metadata": {},
   "outputs": [
    {
     "name": "stdout",
     "output_type": "stream",
     "text": [
      "CountVectorizer(analyzer='word', binary=False, decode_error='strict',\n",
      "        dtype=<class 'numpy.int64'>, encoding='utf-8', input='content',\n",
      "        lowercase=True, max_df=1.0, max_features=None, min_df=1,\n",
      "        ngram_range=(1, 1), preprocessor=None, stop_words=None,\n",
      "        strip_accents=None, token_pattern='(?u)\\\\b\\\\w\\\\w+\\\\b',\n",
      "        tokenizer=None, vocabulary=None) \n",
      "\n",
      "['abandon', 'abiding', 'ability', 'able', 'about'] ...\n",
      "\n",
      "(58, 1939)\n"
     ]
    },
    {
     "data": {
      "text/html": [
       "<div>\n",
       "<style scoped>\n",
       "    .dataframe tbody tr th:only-of-type {\n",
       "        vertical-align: middle;\n",
       "    }\n",
       "\n",
       "    .dataframe tbody tr th {\n",
       "        vertical-align: top;\n",
       "    }\n",
       "\n",
       "    .dataframe thead th {\n",
       "        text-align: right;\n",
       "    }\n",
       "</style>\n",
       "<table border=\"1\" class=\"dataframe\">\n",
       "  <thead>\n",
       "    <tr style=\"text-align: right;\">\n",
       "      <th></th>\n",
       "      <th>Counts_abandon</th>\n",
       "      <th>Counts_abiding</th>\n",
       "      <th>Counts_ability</th>\n",
       "      <th>Counts_able</th>\n",
       "      <th>Counts_about</th>\n",
       "      <th>Counts_above</th>\n",
       "      <th>Counts_abroad</th>\n",
       "      <th>Counts_absolute</th>\n",
       "      <th>Counts_abuse</th>\n",
       "      <th>Counts_abuses</th>\n",
       "      <th>...</th>\n",
       "      <th>Counts_year</th>\n",
       "      <th>Counts_years</th>\n",
       "      <th>Counts_yes</th>\n",
       "      <th>Counts_yet</th>\n",
       "      <th>Counts_yield</th>\n",
       "      <th>Counts_you</th>\n",
       "      <th>Counts_young</th>\n",
       "      <th>Counts_your</th>\n",
       "      <th>Counts_zeal</th>\n",
       "      <th>Counts_zealously</th>\n",
       "    </tr>\n",
       "  </thead>\n",
       "  <tbody>\n",
       "    <tr>\n",
       "      <th>0</th>\n",
       "      <td>0</td>\n",
       "      <td>0</td>\n",
       "      <td>0</td>\n",
       "      <td>0</td>\n",
       "      <td>0</td>\n",
       "      <td>0</td>\n",
       "      <td>0</td>\n",
       "      <td>0</td>\n",
       "      <td>0</td>\n",
       "      <td>0</td>\n",
       "      <td>...</td>\n",
       "      <td>0</td>\n",
       "      <td>1</td>\n",
       "      <td>0</td>\n",
       "      <td>0</td>\n",
       "      <td>0</td>\n",
       "      <td>5</td>\n",
       "      <td>0</td>\n",
       "      <td>9</td>\n",
       "      <td>0</td>\n",
       "      <td>0</td>\n",
       "    </tr>\n",
       "    <tr>\n",
       "      <th>1</th>\n",
       "      <td>0</td>\n",
       "      <td>0</td>\n",
       "      <td>0</td>\n",
       "      <td>0</td>\n",
       "      <td>1</td>\n",
       "      <td>0</td>\n",
       "      <td>0</td>\n",
       "      <td>0</td>\n",
       "      <td>0</td>\n",
       "      <td>0</td>\n",
       "      <td>...</td>\n",
       "      <td>0</td>\n",
       "      <td>0</td>\n",
       "      <td>0</td>\n",
       "      <td>0</td>\n",
       "      <td>0</td>\n",
       "      <td>0</td>\n",
       "      <td>0</td>\n",
       "      <td>1</td>\n",
       "      <td>0</td>\n",
       "      <td>0</td>\n",
       "    </tr>\n",
       "    <tr>\n",
       "      <th>2</th>\n",
       "      <td>0</td>\n",
       "      <td>0</td>\n",
       "      <td>0</td>\n",
       "      <td>0</td>\n",
       "      <td>0</td>\n",
       "      <td>0</td>\n",
       "      <td>1</td>\n",
       "      <td>0</td>\n",
       "      <td>0</td>\n",
       "      <td>1</td>\n",
       "      <td>...</td>\n",
       "      <td>2</td>\n",
       "      <td>3</td>\n",
       "      <td>0</td>\n",
       "      <td>0</td>\n",
       "      <td>0</td>\n",
       "      <td>0</td>\n",
       "      <td>0</td>\n",
       "      <td>1</td>\n",
       "      <td>1</td>\n",
       "      <td>0</td>\n",
       "    </tr>\n",
       "    <tr>\n",
       "      <th>3</th>\n",
       "      <td>1</td>\n",
       "      <td>0</td>\n",
       "      <td>0</td>\n",
       "      <td>0</td>\n",
       "      <td>1</td>\n",
       "      <td>1</td>\n",
       "      <td>1</td>\n",
       "      <td>1</td>\n",
       "      <td>0</td>\n",
       "      <td>2</td>\n",
       "      <td>...</td>\n",
       "      <td>0</td>\n",
       "      <td>0</td>\n",
       "      <td>0</td>\n",
       "      <td>2</td>\n",
       "      <td>0</td>\n",
       "      <td>7</td>\n",
       "      <td>0</td>\n",
       "      <td>7</td>\n",
       "      <td>1</td>\n",
       "      <td>0</td>\n",
       "    </tr>\n",
       "    <tr>\n",
       "      <th>4</th>\n",
       "      <td>0</td>\n",
       "      <td>0</td>\n",
       "      <td>0</td>\n",
       "      <td>1</td>\n",
       "      <td>0</td>\n",
       "      <td>0</td>\n",
       "      <td>0</td>\n",
       "      <td>0</td>\n",
       "      <td>0</td>\n",
       "      <td>2</td>\n",
       "      <td>...</td>\n",
       "      <td>2</td>\n",
       "      <td>2</td>\n",
       "      <td>0</td>\n",
       "      <td>2</td>\n",
       "      <td>0</td>\n",
       "      <td>4</td>\n",
       "      <td>0</td>\n",
       "      <td>4</td>\n",
       "      <td>3</td>\n",
       "      <td>0</td>\n",
       "    </tr>\n",
       "  </tbody>\n",
       "</table>\n",
       "<p>5 rows × 1930 columns</p>\n",
       "</div>"
      ],
      "text/plain": [
       "   Counts_abandon  Counts_abiding  Counts_ability  Counts_able  Counts_about  \\\n",
       "0               0               0               0            0             0   \n",
       "1               0               0               0            0             1   \n",
       "2               0               0               0            0             0   \n",
       "3               1               0               0            0             1   \n",
       "4               0               0               0            1             0   \n",
       "\n",
       "   Counts_above  Counts_abroad  Counts_absolute  Counts_abuse  Counts_abuses  \\\n",
       "0             0              0                0             0              0   \n",
       "1             0              0                0             0              0   \n",
       "2             0              1                0             0              1   \n",
       "3             1              1                1             0              2   \n",
       "4             0              0                0             0              2   \n",
       "\n",
       "         ...         Counts_year  Counts_years  Counts_yes  Counts_yet  \\\n",
       "0        ...                   0             1           0           0   \n",
       "1        ...                   0             0           0           0   \n",
       "2        ...                   2             3           0           0   \n",
       "3        ...                   0             0           0           2   \n",
       "4        ...                   2             2           0           2   \n",
       "\n",
       "   Counts_yield  Counts_you  Counts_young  Counts_your  Counts_zeal  \\\n",
       "0             0           5             0            9            0   \n",
       "1             0           0             0            1            0   \n",
       "2             0           0             0            1            1   \n",
       "3             0           7             0            7            1   \n",
       "4             0           4             0            4            3   \n",
       "\n",
       "   Counts_zealously  \n",
       "0                 0  \n",
       "1                 0  \n",
       "2                 0  \n",
       "3                 0  \n",
       "4                 0  \n",
       "\n",
       "[5 rows x 1930 columns]"
      ]
     },
     "execution_count": 46,
     "metadata": {},
     "output_type": "execute_result"
    }
   ],
   "source": [
    "#vídeo\n",
    "\n",
    "# Text to columns\n",
    "\n",
    "# Initializing the vectorizer\n",
    "from sklearn.feature_extraction.text import CountVectorizer\n",
    "\n",
    "cv = CountVectorizer()\n",
    "print(cv, \"\\n\")\n",
    "\n",
    "\n",
    "# Specifying the vectorizer\n",
    "from sklearn.feature_extraction.text import CountVectorizer\n",
    "\n",
    "cv = CountVectorizer(min_df=0.1, max_df=0.9)\n",
    "\n",
    "# min_df : minimum fraction of documents the **word** must occur in\n",
    "# max_df : maximum fraction of documents the **word** can occur in\n",
    "\n",
    "# Fit the vectorizer\n",
    "cv.fit(speech_df['text_clean'])\n",
    "\n",
    "# Transforming your text\n",
    "cv_transformed = cv.transform(speech_df['text_clean'])   # <58x1930 sparse matrix of type '<class 'numpy.int64'>'\n",
    "cv_transformed\n",
    "\n",
    "# cv_transformed.toarray()    ou    print(cv_transformed)\n",
    "\n",
    "\n",
    "# Getting the features\n",
    "feature_names = cv.get_feature_names()\n",
    "print(feature_names[:5], \"...\\n\")\n",
    "\n",
    "\n",
    "# Fitting and transforming   (de uma vez só)\n",
    "cv_transformed = cv.fit_transform(speech_df['text_clean'])  # <58x8839 sparse matrix of type '<type 'numpy.int64'>'\n",
    "cv_transformed\n",
    "\n",
    "####################################################################################\n",
    "\n",
    "# Putting it all together\n",
    "cv_df = pd.DataFrame(cv_transformed.toarray(), columns=cv.get_feature_names()).add_prefix('Counts_')\n",
    "\n",
    "# Updating your DataFrame\n",
    "speech_df = pd.concat([speech_df, cv_df], axis=1, sort=False)\n",
    "print(speech_df.shape)\n",
    "\n",
    "cv_df.head()"
   ]
  },
  {
   "cell_type": "markdown",
   "metadata": {},
   "source": [
    "Exercício 5"
   ]
  },
  {
   "cell_type": "code",
   "execution_count": 47,
   "metadata": {},
   "outputs": [
    {
     "name": "stdout",
     "output_type": "stream",
     "text": [
      "First 100 feature names:\n",
      " \n",
      " ['abandon', 'abandoned', 'abandonment', 'abate', 'abdicated', 'abeyance', 'abhorring', 'abide', 'abiding', 'abilities', 'ability', 'abject', 'able', 'ably', 'abnormal', 'abode', 'abolish', 'abolished', 'abolishing', 'aboriginal', 'aborigines', 'abound', 'abounding', 'abounds', 'about', 'above', 'abraham', 'abreast', 'abridging', 'abroad', 'absence', 'absent', 'absolute', 'absolutely', 'absolutism', 'absorb', 'absorbed', 'absorbing', 'absorbs', 'abstain', 'abstaining', 'abstract', 'abstractions', 'absurd', 'abundance', 'abundant', 'abundantly', 'abuse', 'abused', 'abuses', 'academies', 'accept', 'acceptance', 'accepted', 'accepting', 'accepts', 'access', 'accessible', 'accession', 'accident', 'accidental', 'accidents', 'acclaim', 'accommodation', 'accommodations', 'accompanied', 'accompany', 'accomplish', 'accomplished', 'accomplishing', 'accomplishment', 'accomplishments', 'accord', 'accordance', 'accorded', 'according', 'accordingly', 'accords', 'account', 'accountability', 'accountable', 'accounted', 'accrue', 'accrued', 'accruing', 'accumulate', 'accumulated', 'accumulation', 'accurately', 'accustom', 'achieve', 'achieved', 'achievement', 'achievements', 'achieving', 'acknowledge', 'acknowledged', 'acknowledging', 'acknowledgment', 'acquaintance'] ...\n"
     ]
    }
   ],
   "source": [
    "# Counting words (I)\n",
    "\n",
    "# Import CountVectorizer\n",
    "from sklearn.feature_extraction.text import CountVectorizer\n",
    "\n",
    "# Instantiate CountVectorizer\n",
    "cv = CountVectorizer()\n",
    "\n",
    "# Fit the vectorizer\n",
    "cv.fit(speech_df['text_clean'])\n",
    "\n",
    "# Print feature names\n",
    "print(\"First 100 feature names:\\n \\n\", cv.get_feature_names()[:100], \"...\")\n",
    "\n",
    "# this vectorizer can be applied to both the text it was trained on, and new texts."
   ]
  },
  {
   "cell_type": "markdown",
   "metadata": {},
   "source": [
    "Exercício 6"
   ]
  },
  {
   "cell_type": "code",
   "execution_count": 48,
   "metadata": {},
   "outputs": [
    {
     "name": "stdout",
     "output_type": "stream",
     "text": [
      "[[0 0 0 ... 0 0 0]\n",
      " [0 0 0 ... 0 0 0]\n",
      " [0 1 0 ... 0 0 0]\n",
      " ...\n",
      " [0 1 0 ... 0 0 0]\n",
      " [0 0 0 ... 0 0 0]\n",
      " [0 0 0 ... 0 0 0]] \n",
      "\n",
      "(58, 9043)\n",
      "The speeches have 9043 unique words\n"
     ]
    }
   ],
   "source": [
    "# Counting words (II)\n",
    "\n",
    "# Once the vectorizer has been fit to the data, it can be used to transform the text to an array representing the word \n",
    "# counts. This array will have a row per block of text and a column for each of the features generated by the vectorizer \n",
    "# that you observed in the last exercise.\n",
    "\n",
    "\n",
    "# Apply the vectorizer\n",
    "cv_transformed = cv.transform(speech_df['text_clean'])\n",
    "\n",
    "# Print the full array\n",
    "cv_array = cv_transformed.toarray()\n",
    "print(cv_array, \"\\n\")\n",
    "\n",
    "\n",
    "# Print the shape of cv_array\n",
    "print(cv_array.shape)\n",
    "print(\"The speeches have 9043 unique words\")"
   ]
  },
  {
   "cell_type": "markdown",
   "metadata": {},
   "source": [
    "Exercício 7"
   ]
  },
  {
   "cell_type": "code",
   "execution_count": 49,
   "metadata": {},
   "outputs": [
    {
     "name": "stdout",
     "output_type": "stream",
     "text": [
      "(58, 818)\n",
      "the number of features (unique words) greatly reduced from 9043 to 818 with the setting of min_df and max_df\n"
     ]
    }
   ],
   "source": [
    "# Import CountVectorizer\n",
    "from sklearn.feature_extraction.text import CountVectorizer\n",
    "\n",
    "# Specify arguements to limit the number of features generated\n",
    "cv = CountVectorizer(min_df=0.2, max_df=0.8)\n",
    "\n",
    "# Fit, transform, and convert into array\n",
    "cv_transformed = cv.fit_transform(speech_df['text_clean'])\n",
    "cv_array = cv_transformed.toarray()\n",
    "\n",
    "# Print the array shape\n",
    "print(cv_array.shape)\n",
    "print(\"the number of features (unique words) greatly reduced from 9043 to 818 with the setting of min_df and max_df\")"
   ]
  },
  {
   "cell_type": "markdown",
   "metadata": {},
   "source": [
    "Exercício 8"
   ]
  },
  {
   "cell_type": "code",
   "execution_count": 50,
   "metadata": {},
   "outputs": [
    {
     "name": "stdout",
     "output_type": "stream",
     "text": [
      "With the new features combined with the orginial DataFrame they can be now used for ML models or analysis:\n"
     ]
    },
    {
     "data": {
      "text/html": [
       "<div>\n",
       "<style scoped>\n",
       "    .dataframe tbody tr th:only-of-type {\n",
       "        vertical-align: middle;\n",
       "    }\n",
       "\n",
       "    .dataframe tbody tr th {\n",
       "        vertical-align: top;\n",
       "    }\n",
       "\n",
       "    .dataframe thead th {\n",
       "        text-align: right;\n",
       "    }\n",
       "</style>\n",
       "<table border=\"1\" class=\"dataframe\">\n",
       "  <thead>\n",
       "    <tr style=\"text-align: right;\">\n",
       "      <th></th>\n",
       "      <th>Name</th>\n",
       "      <th>Inaugural Address</th>\n",
       "      <th>Date</th>\n",
       "      <th>text</th>\n",
       "      <th>char_cnt</th>\n",
       "      <th>word_cnt</th>\n",
       "      <th>word_counts</th>\n",
       "      <th>text_clean</th>\n",
       "      <th>avg_word_length</th>\n",
       "      <th>Counts_abandon</th>\n",
       "      <th>...</th>\n",
       "      <th>Counts_women</th>\n",
       "      <th>Counts_words</th>\n",
       "      <th>Counts_work</th>\n",
       "      <th>Counts_wrong</th>\n",
       "      <th>Counts_year</th>\n",
       "      <th>Counts_years</th>\n",
       "      <th>Counts_yet</th>\n",
       "      <th>Counts_you</th>\n",
       "      <th>Counts_young</th>\n",
       "      <th>Counts_your</th>\n",
       "    </tr>\n",
       "  </thead>\n",
       "  <tbody>\n",
       "    <tr>\n",
       "      <th>0</th>\n",
       "      <td>George Washington</td>\n",
       "      <td>First Inaugural Address</td>\n",
       "      <td>Thursday, April 30, 1789</td>\n",
       "      <td>fellow citizens of the senate and of the house...</td>\n",
       "      <td>8616</td>\n",
       "      <td>1432</td>\n",
       "      <td>1432</td>\n",
       "      <td>fellow citizens of the senate and of the house...</td>\n",
       "      <td>6.016760</td>\n",
       "      <td>0</td>\n",
       "      <td>...</td>\n",
       "      <td>0</td>\n",
       "      <td>0</td>\n",
       "      <td>0</td>\n",
       "      <td>0</td>\n",
       "      <td>0</td>\n",
       "      <td>1</td>\n",
       "      <td>0</td>\n",
       "      <td>5</td>\n",
       "      <td>0</td>\n",
       "      <td>9</td>\n",
       "    </tr>\n",
       "    <tr>\n",
       "      <th>1</th>\n",
       "      <td>George Washington</td>\n",
       "      <td>Second Inaugural Address</td>\n",
       "      <td>Monday, March 4, 1793</td>\n",
       "      <td>fellow citizens   i am again called upon by th...</td>\n",
       "      <td>787</td>\n",
       "      <td>135</td>\n",
       "      <td>135</td>\n",
       "      <td>fellow citizens   i am again called upon by th...</td>\n",
       "      <td>5.829630</td>\n",
       "      <td>0</td>\n",
       "      <td>...</td>\n",
       "      <td>0</td>\n",
       "      <td>0</td>\n",
       "      <td>0</td>\n",
       "      <td>0</td>\n",
       "      <td>0</td>\n",
       "      <td>0</td>\n",
       "      <td>0</td>\n",
       "      <td>0</td>\n",
       "      <td>0</td>\n",
       "      <td>1</td>\n",
       "    </tr>\n",
       "    <tr>\n",
       "      <th>2</th>\n",
       "      <td>John Adams</td>\n",
       "      <td>Inaugural Address</td>\n",
       "      <td>Saturday, March 4, 1797</td>\n",
       "      <td>when it was first perceived  in early times  t...</td>\n",
       "      <td>13871</td>\n",
       "      <td>2323</td>\n",
       "      <td>2323</td>\n",
       "      <td>when it was first perceived  in early times  t...</td>\n",
       "      <td>5.971158</td>\n",
       "      <td>0</td>\n",
       "      <td>...</td>\n",
       "      <td>0</td>\n",
       "      <td>0</td>\n",
       "      <td>0</td>\n",
       "      <td>0</td>\n",
       "      <td>2</td>\n",
       "      <td>3</td>\n",
       "      <td>0</td>\n",
       "      <td>0</td>\n",
       "      <td>0</td>\n",
       "      <td>1</td>\n",
       "    </tr>\n",
       "  </tbody>\n",
       "</table>\n",
       "<p>3 rows × 2757 columns</p>\n",
       "</div>"
      ],
      "text/plain": [
       "                Name         Inaugural Address                      Date  \\\n",
       "0  George Washington   First Inaugural Address  Thursday, April 30, 1789   \n",
       "1  George Washington  Second Inaugural Address     Monday, March 4, 1793   \n",
       "2         John Adams         Inaugural Address   Saturday, March 4, 1797   \n",
       "\n",
       "                                                text  char_cnt  word_cnt  \\\n",
       "0  fellow citizens of the senate and of the house...      8616      1432   \n",
       "1  fellow citizens   i am again called upon by th...       787       135   \n",
       "2  when it was first perceived  in early times  t...     13871      2323   \n",
       "\n",
       "   word_counts                                         text_clean  \\\n",
       "0         1432  fellow citizens of the senate and of the house...   \n",
       "1          135  fellow citizens   i am again called upon by th...   \n",
       "2         2323  when it was first perceived  in early times  t...   \n",
       "\n",
       "   avg_word_length  Counts_abandon     ...       Counts_women  Counts_words  \\\n",
       "0         6.016760               0     ...                  0             0   \n",
       "1         5.829630               0     ...                  0             0   \n",
       "2         5.971158               0     ...                  0             0   \n",
       "\n",
       "   Counts_work  Counts_wrong  Counts_year  Counts_years  Counts_yet  \\\n",
       "0            0             0            0             1           0   \n",
       "1            0             0            0             0           0   \n",
       "2            0             0            2             3           0   \n",
       "\n",
       "   Counts_you  Counts_young  Counts_your  \n",
       "0           5             0            9  \n",
       "1           0             0            1  \n",
       "2           0             0            1  \n",
       "\n",
       "[3 rows x 2757 columns]"
      ]
     },
     "execution_count": 50,
     "metadata": {},
     "output_type": "execute_result"
    }
   ],
   "source": [
    "# Text to DataFrame\n",
    "\n",
    "# Create a DataFrame with these features\n",
    "cv_df = pd.DataFrame(cv_array, columns=cv.get_feature_names()).add_prefix('Counts_')\n",
    "\n",
    "# Add the new columns to the original DataFrame\n",
    "speech_df_new = pd.concat([speech_df, cv_df], axis=1, sort=False)\n",
    "\n",
    "print(\"With the new features combined with the orginial DataFrame they can be now used for ML models or analysis:\")\n",
    "\n",
    "speech_df_new.head(3)"
   ]
  },
  {
   "cell_type": "markdown",
   "metadata": {},
   "source": [
    "#### Exercício 9 - Term frequency-inverse document frequency"
   ]
  },
  {
   "cell_type": "code",
   "execution_count": 51,
   "metadata": {},
   "outputs": [
    {
     "data": {
      "image/png": "[encoded data removed]",
      "text/plain": [
       "<Figure size 432x288 with 1 Axes>"
      ]
     },
     "metadata": {
      "needs_background": "light"
     },
     "output_type": "display_data"
    },
    {
     "name": "stdout",
     "output_type": "stream",
     "text": [
      "TfidfVectorizer(analyzer='word', binary=False, decode_error='strict',\n",
      "        dtype=<class 'numpy.float64'>, encoding='utf-8', input='content',\n",
      "        lowercase=True, max_df=1.0, max_features=None, min_df=1,\n",
      "        ngram_range=(1, 1), norm='l2', preprocessor=None, smooth_idf=True,\n",
      "        stop_words=None, strip_accents=None, sublinear_tf=False,\n",
      "        token_pattern='(?u)\\\\b\\\\w\\\\w+\\\\b', tokenizer=None, use_idf=True,\n",
      "        vocabulary=None) \n",
      "\n"
     ]
    },
    {
     "data": {
      "text/html": [
       "<div>\n",
       "<style scoped>\n",
       "    .dataframe tbody tr th:only-of-type {\n",
       "        vertical-align: middle;\n",
       "    }\n",
       "\n",
       "    .dataframe tbody tr th {\n",
       "        vertical-align: top;\n",
       "    }\n",
       "\n",
       "    .dataframe thead th {\n",
       "        text-align: right;\n",
       "    }\n",
       "</style>\n",
       "<table border=\"1\" class=\"dataframe\">\n",
       "  <thead>\n",
       "    <tr style=\"text-align: right;\">\n",
       "      <th></th>\n",
       "      <th>Name</th>\n",
       "      <th>Inaugural Address</th>\n",
       "      <th>Date</th>\n",
       "      <th>text</th>\n",
       "      <th>char_cnt</th>\n",
       "      <th>word_cnt</th>\n",
       "      <th>word_counts</th>\n",
       "      <th>text_clean</th>\n",
       "      <th>avg_word_length</th>\n",
       "      <th>Counts_abandon</th>\n",
       "      <th>...</th>\n",
       "      <th>TFIDF_subject</th>\n",
       "      <th>TFIDF_support</th>\n",
       "      <th>TFIDF_time</th>\n",
       "      <th>TFIDF_trust</th>\n",
       "      <th>TFIDF_union</th>\n",
       "      <th>TFIDF_united</th>\n",
       "      <th>TFIDF_war</th>\n",
       "      <th>TFIDF_way</th>\n",
       "      <th>TFIDF_world</th>\n",
       "      <th>TFIDF_years</th>\n",
       "    </tr>\n",
       "  </thead>\n",
       "  <tbody>\n",
       "    <tr>\n",
       "      <th>0</th>\n",
       "      <td>NaN</td>\n",
       "      <td>NaN</td>\n",
       "      <td>NaN</td>\n",
       "      <td>NaN</td>\n",
       "      <td>NaN</td>\n",
       "      <td>NaN</td>\n",
       "      <td>NaN</td>\n",
       "      <td>NaN</td>\n",
       "      <td>NaN</td>\n",
       "      <td>NaN</td>\n",
       "      <td>...</td>\n",
       "      <td>0.0</td>\n",
       "      <td>0.045837</td>\n",
       "      <td>0.076951</td>\n",
       "      <td>0.000000</td>\n",
       "      <td>0.0</td>\n",
       "      <td>0.202108</td>\n",
       "      <td>0.044683</td>\n",
       "      <td>0.000000</td>\n",
       "      <td>0.442467</td>\n",
       "      <td>0.021783</td>\n",
       "    </tr>\n",
       "    <tr>\n",
       "      <th>1</th>\n",
       "      <td>NaN</td>\n",
       "      <td>NaN</td>\n",
       "      <td>NaN</td>\n",
       "      <td>NaN</td>\n",
       "      <td>NaN</td>\n",
       "      <td>NaN</td>\n",
       "      <td>NaN</td>\n",
       "      <td>NaN</td>\n",
       "      <td>NaN</td>\n",
       "      <td>NaN</td>\n",
       "      <td>...</td>\n",
       "      <td>0.0</td>\n",
       "      <td>0.000000</td>\n",
       "      <td>0.084762</td>\n",
       "      <td>0.054585</td>\n",
       "      <td>0.0</td>\n",
       "      <td>0.066787</td>\n",
       "      <td>0.098437</td>\n",
       "      <td>0.118367</td>\n",
       "      <td>0.339047</td>\n",
       "      <td>0.000000</td>\n",
       "    </tr>\n",
       "    <tr>\n",
       "      <th>2</th>\n",
       "      <td>NaN</td>\n",
       "      <td>NaN</td>\n",
       "      <td>NaN</td>\n",
       "      <td>NaN</td>\n",
       "      <td>NaN</td>\n",
       "      <td>NaN</td>\n",
       "      <td>NaN</td>\n",
       "      <td>NaN</td>\n",
       "      <td>NaN</td>\n",
       "      <td>NaN</td>\n",
       "      <td>...</td>\n",
       "      <td>0.0</td>\n",
       "      <td>0.000000</td>\n",
       "      <td>0.129754</td>\n",
       "      <td>0.000000</td>\n",
       "      <td>0.0</td>\n",
       "      <td>0.027263</td>\n",
       "      <td>0.030138</td>\n",
       "      <td>0.000000</td>\n",
       "      <td>0.415213</td>\n",
       "      <td>0.029385</td>\n",
       "    </tr>\n",
       "  </tbody>\n",
       "</table>\n",
       "<p>3 rows × 2039 columns</p>\n",
       "</div>"
      ],
      "text/plain": [
       "  Name Inaugural Address Date text  char_cnt  word_cnt  word_counts  \\\n",
       "0  NaN               NaN  NaN  NaN       NaN       NaN          NaN   \n",
       "1  NaN               NaN  NaN  NaN       NaN       NaN          NaN   \n",
       "2  NaN               NaN  NaN  NaN       NaN       NaN          NaN   \n",
       "\n",
       "  text_clean  avg_word_length  Counts_abandon     ...       TFIDF_subject  \\\n",
       "0        NaN              NaN             NaN     ...                 0.0   \n",
       "1        NaN              NaN             NaN     ...                 0.0   \n",
       "2        NaN              NaN             NaN     ...                 0.0   \n",
       "\n",
       "   TFIDF_support  TFIDF_time  TFIDF_trust  TFIDF_union  TFIDF_united  \\\n",
       "0       0.045837    0.076951     0.000000          0.0      0.202108   \n",
       "1       0.000000    0.084762     0.054585          0.0      0.066787   \n",
       "2       0.000000    0.129754     0.000000          0.0      0.027263   \n",
       "\n",
       "   TFIDF_war  TFIDF_way  TFIDF_world  TFIDF_years  \n",
       "0   0.044683   0.000000     0.442467     0.021783  \n",
       "1   0.098437   0.118367     0.339047     0.000000  \n",
       "2   0.030138   0.000000     0.415213     0.029385  \n",
       "\n",
       "[3 rows x 2039 columns]"
      ]
     },
     "execution_count": 51,
     "metadata": {},
     "output_type": "execute_result"
    }
   ],
   "source": [
    "#vídeo\n",
    "\n",
    "# Introducing TF-IDF\n",
    "image = plt.imread(data_folder + \"tf_idf.jpg\")\n",
    "plt.axis('off')\n",
    "plt.imshow(image)\n",
    "plt.subplots_adjust(left=0, bottom=-0.4, right=1.1, top=1, wspace=0, hspace=0)\n",
    "plt.show()\n",
    "\n",
    "# Importing the vectorizer\n",
    "from sklearn.feature_extraction.text import TfidfVectorizer\n",
    "\n",
    "tv = TfidfVectorizer()\n",
    "print(tv, \"\\n\")\n",
    "\n",
    "# Max features and stopwords\n",
    "tv = TfidfVectorizer(max_features=100, stop_words='english')  # show only the top 100 most common words\n",
    "\n",
    "# max_features : Maximum number of columns created from TF-IDF\n",
    "# stop_words : List of common words to omit e.g.\"and\", \"the\", etc.  ---> tb podemos adicionar as nossas próprias listas\n",
    "\n",
    "########################################\n",
    "\n",
    "#definição minha\n",
    "train_speech_df = speech_df[:40]   \n",
    "test_speech_df = speech_df[40:]  \n",
    "\n",
    "\n",
    "# Fitting your text\n",
    "tv.fit(train_speech_df['text'])\n",
    "\n",
    "train_tv_transformed = tv.transform(train_speech_df['text'])   # <40x100 sparse matrix of type '<class 'numpy.float64'>'\n",
    "\n",
    "##################################\n",
    "\n",
    "# Putting it all together\n",
    "\n",
    "train_tv_df = pd.DataFrame(train_tv_transformed.toarray(), columns=tv.get_feature_names()).add_prefix('TFIDF_')\n",
    "\n",
    "train_speech_df = pd.concat([train_speech_df, train_tv_df], axis=1, sort=False)\n",
    "train_speech_df.head(3)\n",
    "\n",
    "##########\n",
    "\n",
    "# Inspecting your transforms\n",
    "examine_row = train_tv_df.iloc[0]\n",
    "examine_row.sort_values(ascending=False)   # vê as palavas mais frequentes, por ordem\n",
    "\n",
    "#########\n",
    "\n",
    "# Applying the vectorizer to new data\n",
    "test_tv_transformed = tv.transform(test_speech_df['text_clean'])\n",
    "\n",
    "test_tv_df = pd.DataFrame(test_tv_transformed.toarray(), columns=tv.get_feature_names()).add_prefix('TFIDF_')\n",
    "\n",
    "test_speech_df = pd.concat([test_speech_df, test_tv_df], axis=1, sort=False)\n",
    "\n",
    "test_speech_df.head(3)"
   ]
  },
  {
   "cell_type": "markdown",
   "metadata": {},
   "source": [
    "Exercício 10"
   ]
  },
  {
   "cell_type": "code",
   "execution_count": 52,
   "metadata": {},
   "outputs": [
    {
     "name": "stdout",
     "output_type": "stream",
     "text": [
      "notice that counting the word occurences and calculating the Tf-idf weights are very similar? This is one of the\n",
      "reasons scikit-learn is very popular, a consistent API.\n"
     ]
    },
    {
     "data": {
      "text/html": [
       "<div>\n",
       "<style scoped>\n",
       "    .dataframe tbody tr th:only-of-type {\n",
       "        vertical-align: middle;\n",
       "    }\n",
       "\n",
       "    .dataframe tbody tr th {\n",
       "        vertical-align: top;\n",
       "    }\n",
       "\n",
       "    .dataframe thead th {\n",
       "        text-align: right;\n",
       "    }\n",
       "</style>\n",
       "<table border=\"1\" class=\"dataframe\">\n",
       "  <thead>\n",
       "    <tr style=\"text-align: right;\">\n",
       "      <th></th>\n",
       "      <th>TFIDF_action</th>\n",
       "      <th>TFIDF_administration</th>\n",
       "      <th>TFIDF_america</th>\n",
       "      <th>TFIDF_american</th>\n",
       "      <th>TFIDF_americans</th>\n",
       "      <th>TFIDF_believe</th>\n",
       "      <th>TFIDF_best</th>\n",
       "      <th>TFIDF_better</th>\n",
       "      <th>TFIDF_change</th>\n",
       "      <th>TFIDF_citizens</th>\n",
       "      <th>...</th>\n",
       "      <th>TFIDF_things</th>\n",
       "      <th>TFIDF_time</th>\n",
       "      <th>TFIDF_today</th>\n",
       "      <th>TFIDF_union</th>\n",
       "      <th>TFIDF_united</th>\n",
       "      <th>TFIDF_war</th>\n",
       "      <th>TFIDF_way</th>\n",
       "      <th>TFIDF_work</th>\n",
       "      <th>TFIDF_world</th>\n",
       "      <th>TFIDF_years</th>\n",
       "    </tr>\n",
       "  </thead>\n",
       "  <tbody>\n",
       "    <tr>\n",
       "      <th>0</th>\n",
       "      <td>0.000000</td>\n",
       "      <td>0.133415</td>\n",
       "      <td>0.000000</td>\n",
       "      <td>0.105388</td>\n",
       "      <td>0.0</td>\n",
       "      <td>0.000000</td>\n",
       "      <td>0.000000</td>\n",
       "      <td>0.000000</td>\n",
       "      <td>0.000000</td>\n",
       "      <td>0.229644</td>\n",
       "      <td>...</td>\n",
       "      <td>0.000000</td>\n",
       "      <td>0.045929</td>\n",
       "      <td>0.0</td>\n",
       "      <td>0.136012</td>\n",
       "      <td>0.203593</td>\n",
       "      <td>0.000000</td>\n",
       "      <td>0.060755</td>\n",
       "      <td>0.000000</td>\n",
       "      <td>0.045929</td>\n",
       "      <td>0.052694</td>\n",
       "    </tr>\n",
       "    <tr>\n",
       "      <th>1</th>\n",
       "      <td>0.000000</td>\n",
       "      <td>0.261016</td>\n",
       "      <td>0.266097</td>\n",
       "      <td>0.000000</td>\n",
       "      <td>0.0</td>\n",
       "      <td>0.000000</td>\n",
       "      <td>0.000000</td>\n",
       "      <td>0.000000</td>\n",
       "      <td>0.000000</td>\n",
       "      <td>0.179712</td>\n",
       "      <td>...</td>\n",
       "      <td>0.000000</td>\n",
       "      <td>0.000000</td>\n",
       "      <td>0.0</td>\n",
       "      <td>0.000000</td>\n",
       "      <td>0.199157</td>\n",
       "      <td>0.000000</td>\n",
       "      <td>0.000000</td>\n",
       "      <td>0.000000</td>\n",
       "      <td>0.000000</td>\n",
       "      <td>0.000000</td>\n",
       "    </tr>\n",
       "    <tr>\n",
       "      <th>2</th>\n",
       "      <td>0.000000</td>\n",
       "      <td>0.092436</td>\n",
       "      <td>0.157058</td>\n",
       "      <td>0.073018</td>\n",
       "      <td>0.0</td>\n",
       "      <td>0.000000</td>\n",
       "      <td>0.026112</td>\n",
       "      <td>0.060460</td>\n",
       "      <td>0.000000</td>\n",
       "      <td>0.106072</td>\n",
       "      <td>...</td>\n",
       "      <td>0.032030</td>\n",
       "      <td>0.021214</td>\n",
       "      <td>0.0</td>\n",
       "      <td>0.062823</td>\n",
       "      <td>0.070529</td>\n",
       "      <td>0.024339</td>\n",
       "      <td>0.000000</td>\n",
       "      <td>0.000000</td>\n",
       "      <td>0.063643</td>\n",
       "      <td>0.073018</td>\n",
       "    </tr>\n",
       "    <tr>\n",
       "      <th>3</th>\n",
       "      <td>0.000000</td>\n",
       "      <td>0.092693</td>\n",
       "      <td>0.000000</td>\n",
       "      <td>0.000000</td>\n",
       "      <td>0.0</td>\n",
       "      <td>0.090942</td>\n",
       "      <td>0.117831</td>\n",
       "      <td>0.045471</td>\n",
       "      <td>0.053335</td>\n",
       "      <td>0.223369</td>\n",
       "      <td>...</td>\n",
       "      <td>0.048179</td>\n",
       "      <td>0.000000</td>\n",
       "      <td>0.0</td>\n",
       "      <td>0.094497</td>\n",
       "      <td>0.000000</td>\n",
       "      <td>0.036610</td>\n",
       "      <td>0.000000</td>\n",
       "      <td>0.039277</td>\n",
       "      <td>0.095729</td>\n",
       "      <td>0.000000</td>\n",
       "    </tr>\n",
       "    <tr>\n",
       "      <th>4</th>\n",
       "      <td>0.041334</td>\n",
       "      <td>0.039761</td>\n",
       "      <td>0.000000</td>\n",
       "      <td>0.031408</td>\n",
       "      <td>0.0</td>\n",
       "      <td>0.000000</td>\n",
       "      <td>0.067393</td>\n",
       "      <td>0.039011</td>\n",
       "      <td>0.091514</td>\n",
       "      <td>0.273760</td>\n",
       "      <td>...</td>\n",
       "      <td>0.082667</td>\n",
       "      <td>0.164256</td>\n",
       "      <td>0.0</td>\n",
       "      <td>0.121605</td>\n",
       "      <td>0.030338</td>\n",
       "      <td>0.094225</td>\n",
       "      <td>0.000000</td>\n",
       "      <td>0.000000</td>\n",
       "      <td>0.054752</td>\n",
       "      <td>0.062817</td>\n",
       "    </tr>\n",
       "  </tbody>\n",
       "</table>\n",
       "<p>5 rows × 100 columns</p>\n",
       "</div>"
      ],
      "text/plain": [
       "   TFIDF_action  TFIDF_administration  TFIDF_america  TFIDF_american  \\\n",
       "0      0.000000              0.133415       0.000000        0.105388   \n",
       "1      0.000000              0.261016       0.266097        0.000000   \n",
       "2      0.000000              0.092436       0.157058        0.073018   \n",
       "3      0.000000              0.092693       0.000000        0.000000   \n",
       "4      0.041334              0.039761       0.000000        0.031408   \n",
       "\n",
       "   TFIDF_americans  TFIDF_believe  TFIDF_best  TFIDF_better  TFIDF_change  \\\n",
       "0              0.0       0.000000    0.000000      0.000000      0.000000   \n",
       "1              0.0       0.000000    0.000000      0.000000      0.000000   \n",
       "2              0.0       0.000000    0.026112      0.060460      0.000000   \n",
       "3              0.0       0.090942    0.117831      0.045471      0.053335   \n",
       "4              0.0       0.000000    0.067393      0.039011      0.091514   \n",
       "\n",
       "   TFIDF_citizens     ...       TFIDF_things  TFIDF_time  TFIDF_today  \\\n",
       "0        0.229644     ...           0.000000    0.045929          0.0   \n",
       "1        0.179712     ...           0.000000    0.000000          0.0   \n",
       "2        0.106072     ...           0.032030    0.021214          0.0   \n",
       "3        0.223369     ...           0.048179    0.000000          0.0   \n",
       "4        0.273760     ...           0.082667    0.164256          0.0   \n",
       "\n",
       "   TFIDF_union  TFIDF_united  TFIDF_war  TFIDF_way  TFIDF_work  TFIDF_world  \\\n",
       "0     0.136012      0.203593   0.000000   0.060755    0.000000     0.045929   \n",
       "1     0.000000      0.199157   0.000000   0.000000    0.000000     0.000000   \n",
       "2     0.062823      0.070529   0.024339   0.000000    0.000000     0.063643   \n",
       "3     0.094497      0.000000   0.036610   0.000000    0.039277     0.095729   \n",
       "4     0.121605      0.030338   0.094225   0.000000    0.000000     0.054752   \n",
       "\n",
       "   TFIDF_years  \n",
       "0     0.052694  \n",
       "1     0.000000  \n",
       "2     0.073018  \n",
       "3     0.000000  \n",
       "4     0.062817  \n",
       "\n",
       "[5 rows x 100 columns]"
      ]
     },
     "execution_count": 52,
     "metadata": {},
     "output_type": "execute_result"
    }
   ],
   "source": [
    "# Tf-idf\n",
    "\n",
    "# While counts of occurrences of words can be useful to build models, words that occur many times may skew the results\n",
    "# undesirably. To limit these common words from overpowering your model a form of normalization can be used. In this lesson\n",
    "# you will be using Term frequency-inverse document frequency (Tf-idf) as was discussed in the video. Tf-idf has the effect\n",
    "# of reducing the value of common words, while increasing the weight of words that do not occur in many documents.\n",
    "\n",
    "# Import TfidfVectorizer\n",
    "from sklearn.feature_extraction.text import TfidfVectorizer\n",
    "\n",
    "# Instantiate TfidfVectorizer\n",
    "tv = TfidfVectorizer(max_features=100, stop_words='english')\n",
    "\n",
    "# Fit the vectorizer and transform the data\n",
    "tv_transformed = tv.fit_transform(speech_df['text_clean'])\n",
    "\n",
    "# Create a DataFrame with these features\n",
    "tv_df = pd.DataFrame(tv_transformed.toarray(), columns=tv.get_feature_names()).add_prefix('TFIDF_')\n",
    "\n",
    "print(\"\"\"notice that counting the word occurences and calculating the Tf-idf weights are very similar? This is one of the\n",
    "reasons scikit-learn is very popular, a consistent API.\"\"\")\n",
    "\n",
    "tv_df.head()\n"
   ]
  },
  {
   "cell_type": "markdown",
   "metadata": {},
   "source": [
    "Exercício 11"
   ]
  },
  {
   "cell_type": "code",
   "execution_count": 53,
   "metadata": {},
   "outputs": [
    {
     "name": "stdout",
     "output_type": "stream",
     "text": [
      "TFIDF_government    0.367430\n",
      "TFIDF_public        0.333237\n",
      "TFIDF_present       0.315182\n",
      "TFIDF_duty          0.238637\n",
      "TFIDF_citizens      0.229644\n",
      "Name: 0, dtype: float64\n",
      "\n",
      "the scores make sense for the corresponding words. São discursos de tomada de posse de presidentes.\n"
     ]
    }
   ],
   "source": [
    "# Inspecting Tf-idf values\n",
    "\n",
    "# After creating Tf-idf features you will often want to understand what are the most highest scored words for each corpus.\n",
    "# This can be achieved by isolating the row you want to examine and then sorting the the scores from high to low.\n",
    "\n",
    "# Isolate the row to be examined\n",
    "sample_row = tv_df.iloc[0]\n",
    "\n",
    "# Print the top 5 words of the sorted output\n",
    "print(sample_row.sort_values(ascending=False).head())\n",
    "\n",
    "print(\"\\nthe scores make sense for the corresponding words. São discursos de tomada de posse de presidentes.\")"
   ]
  },
  {
   "cell_type": "markdown",
   "metadata": {},
   "source": [
    "Exercício 12"
   ]
  },
  {
   "cell_type": "code",
   "execution_count": 54,
   "metadata": {},
   "outputs": [
    {
     "data": {
      "text/html": [
       "<div>\n",
       "<style scoped>\n",
       "    .dataframe tbody tr th:only-of-type {\n",
       "        vertical-align: middle;\n",
       "    }\n",
       "\n",
       "    .dataframe tbody tr th {\n",
       "        vertical-align: top;\n",
       "    }\n",
       "\n",
       "    .dataframe thead th {\n",
       "        text-align: right;\n",
       "    }\n",
       "</style>\n",
       "<table border=\"1\" class=\"dataframe\">\n",
       "  <thead>\n",
       "    <tr style=\"text-align: right;\">\n",
       "      <th></th>\n",
       "      <th>TFIDF_action</th>\n",
       "      <th>TFIDF_administration</th>\n",
       "      <th>TFIDF_america</th>\n",
       "      <th>TFIDF_american</th>\n",
       "      <th>TFIDF_authority</th>\n",
       "      <th>TFIDF_best</th>\n",
       "      <th>TFIDF_business</th>\n",
       "      <th>TFIDF_citizens</th>\n",
       "      <th>TFIDF_commerce</th>\n",
       "      <th>TFIDF_common</th>\n",
       "      <th>...</th>\n",
       "      <th>TFIDF_subject</th>\n",
       "      <th>TFIDF_support</th>\n",
       "      <th>TFIDF_time</th>\n",
       "      <th>TFIDF_union</th>\n",
       "      <th>TFIDF_united</th>\n",
       "      <th>TFIDF_war</th>\n",
       "      <th>TFIDF_way</th>\n",
       "      <th>TFIDF_work</th>\n",
       "      <th>TFIDF_world</th>\n",
       "      <th>TFIDF_years</th>\n",
       "    </tr>\n",
       "  </thead>\n",
       "  <tbody>\n",
       "    <tr>\n",
       "      <th>0</th>\n",
       "      <td>0.000000</td>\n",
       "      <td>0.029540</td>\n",
       "      <td>0.233954</td>\n",
       "      <td>0.082703</td>\n",
       "      <td>0.000000</td>\n",
       "      <td>0.000000</td>\n",
       "      <td>0.000000</td>\n",
       "      <td>0.022577</td>\n",
       "      <td>0.0</td>\n",
       "      <td>0.000000</td>\n",
       "      <td>...</td>\n",
       "      <td>0.0</td>\n",
       "      <td>0.000000</td>\n",
       "      <td>0.115378</td>\n",
       "      <td>0.000000</td>\n",
       "      <td>0.024648</td>\n",
       "      <td>0.079050</td>\n",
       "      <td>0.033313</td>\n",
       "      <td>0.000000</td>\n",
       "      <td>0.299983</td>\n",
       "      <td>0.134749</td>\n",
       "    </tr>\n",
       "    <tr>\n",
       "      <th>1</th>\n",
       "      <td>0.000000</td>\n",
       "      <td>0.000000</td>\n",
       "      <td>0.547457</td>\n",
       "      <td>0.036862</td>\n",
       "      <td>0.000000</td>\n",
       "      <td>0.036036</td>\n",
       "      <td>0.000000</td>\n",
       "      <td>0.015094</td>\n",
       "      <td>0.0</td>\n",
       "      <td>0.000000</td>\n",
       "      <td>...</td>\n",
       "      <td>0.0</td>\n",
       "      <td>0.019296</td>\n",
       "      <td>0.092567</td>\n",
       "      <td>0.000000</td>\n",
       "      <td>0.000000</td>\n",
       "      <td>0.052851</td>\n",
       "      <td>0.066817</td>\n",
       "      <td>0.078999</td>\n",
       "      <td>0.277701</td>\n",
       "      <td>0.126126</td>\n",
       "    </tr>\n",
       "    <tr>\n",
       "      <th>2</th>\n",
       "      <td>0.000000</td>\n",
       "      <td>0.000000</td>\n",
       "      <td>0.126987</td>\n",
       "      <td>0.134669</td>\n",
       "      <td>0.000000</td>\n",
       "      <td>0.131652</td>\n",
       "      <td>0.000000</td>\n",
       "      <td>0.000000</td>\n",
       "      <td>0.0</td>\n",
       "      <td>0.046997</td>\n",
       "      <td>...</td>\n",
       "      <td>0.0</td>\n",
       "      <td>0.000000</td>\n",
       "      <td>0.075151</td>\n",
       "      <td>0.000000</td>\n",
       "      <td>0.080272</td>\n",
       "      <td>0.042907</td>\n",
       "      <td>0.054245</td>\n",
       "      <td>0.096203</td>\n",
       "      <td>0.225452</td>\n",
       "      <td>0.043884</td>\n",
       "    </tr>\n",
       "    <tr>\n",
       "      <th>3</th>\n",
       "      <td>0.037094</td>\n",
       "      <td>0.067428</td>\n",
       "      <td>0.267012</td>\n",
       "      <td>0.031463</td>\n",
       "      <td>0.039990</td>\n",
       "      <td>0.061516</td>\n",
       "      <td>0.050085</td>\n",
       "      <td>0.077301</td>\n",
       "      <td>0.0</td>\n",
       "      <td>0.000000</td>\n",
       "      <td>...</td>\n",
       "      <td>0.0</td>\n",
       "      <td>0.098819</td>\n",
       "      <td>0.210690</td>\n",
       "      <td>0.000000</td>\n",
       "      <td>0.056262</td>\n",
       "      <td>0.030073</td>\n",
       "      <td>0.038020</td>\n",
       "      <td>0.235998</td>\n",
       "      <td>0.237026</td>\n",
       "      <td>0.061516</td>\n",
       "    </tr>\n",
       "    <tr>\n",
       "      <th>4</th>\n",
       "      <td>0.000000</td>\n",
       "      <td>0.000000</td>\n",
       "      <td>0.221561</td>\n",
       "      <td>0.156644</td>\n",
       "      <td>0.028442</td>\n",
       "      <td>0.087505</td>\n",
       "      <td>0.000000</td>\n",
       "      <td>0.109959</td>\n",
       "      <td>0.0</td>\n",
       "      <td>0.023428</td>\n",
       "      <td>...</td>\n",
       "      <td>0.0</td>\n",
       "      <td>0.023428</td>\n",
       "      <td>0.187313</td>\n",
       "      <td>0.131913</td>\n",
       "      <td>0.040016</td>\n",
       "      <td>0.021389</td>\n",
       "      <td>0.081124</td>\n",
       "      <td>0.119894</td>\n",
       "      <td>0.299701</td>\n",
       "      <td>0.153133</td>\n",
       "    </tr>\n",
       "  </tbody>\n",
       "</table>\n",
       "<p>5 rows × 100 columns</p>\n",
       "</div>"
      ],
      "text/plain": [
       "   TFIDF_action  TFIDF_administration  TFIDF_america  TFIDF_american  \\\n",
       "0      0.000000              0.029540       0.233954        0.082703   \n",
       "1      0.000000              0.000000       0.547457        0.036862   \n",
       "2      0.000000              0.000000       0.126987        0.134669   \n",
       "3      0.037094              0.067428       0.267012        0.031463   \n",
       "4      0.000000              0.000000       0.221561        0.156644   \n",
       "\n",
       "   TFIDF_authority  TFIDF_best  TFIDF_business  TFIDF_citizens  \\\n",
       "0         0.000000    0.000000        0.000000        0.022577   \n",
       "1         0.000000    0.036036        0.000000        0.015094   \n",
       "2         0.000000    0.131652        0.000000        0.000000   \n",
       "3         0.039990    0.061516        0.050085        0.077301   \n",
       "4         0.028442    0.087505        0.000000        0.109959   \n",
       "\n",
       "   TFIDF_commerce  TFIDF_common     ...       TFIDF_subject  TFIDF_support  \\\n",
       "0             0.0      0.000000     ...                 0.0       0.000000   \n",
       "1             0.0      0.000000     ...                 0.0       0.019296   \n",
       "2             0.0      0.046997     ...                 0.0       0.000000   \n",
       "3             0.0      0.000000     ...                 0.0       0.098819   \n",
       "4             0.0      0.023428     ...                 0.0       0.023428   \n",
       "\n",
       "   TFIDF_time  TFIDF_union  TFIDF_united  TFIDF_war  TFIDF_way  TFIDF_work  \\\n",
       "0    0.115378     0.000000      0.024648   0.079050   0.033313    0.000000   \n",
       "1    0.092567     0.000000      0.000000   0.052851   0.066817    0.078999   \n",
       "2    0.075151     0.000000      0.080272   0.042907   0.054245    0.096203   \n",
       "3    0.210690     0.000000      0.056262   0.030073   0.038020    0.235998   \n",
       "4    0.187313     0.131913      0.040016   0.021389   0.081124    0.119894   \n",
       "\n",
       "   TFIDF_world  TFIDF_years  \n",
       "0     0.299983     0.134749  \n",
       "1     0.277701     0.126126  \n",
       "2     0.225452     0.043884  \n",
       "3     0.237026     0.061516  \n",
       "4     0.299701     0.153133  \n",
       "\n",
       "[5 rows x 100 columns]"
      ]
     },
     "execution_count": 54,
     "metadata": {},
     "output_type": "execute_result"
    }
   ],
   "source": [
    "# Transforming unseen data\n",
    "\n",
    "# When creating vectors from text, any transformations that you perform before training a machine learning model, you also\n",
    "# need to apply on the new unseen (test) data. To achieve this follow the same approach from the last chapter: fit the \n",
    "# vectorizer only on the training data, and apply it to the test data.\n",
    "\n",
    "train_speech_df = speech_df[:45]\n",
    "test_speech_df = speech_df[45:]\n",
    "\n",
    "# Instantiate TfidfVectorizer\n",
    "tv = TfidfVectorizer(max_features=100, stop_words='english')\n",
    "\n",
    "# Fit the vectroizer and transform the data\n",
    "tv_transformed = tv.fit_transform(train_speech_df['text_clean'])\n",
    "\n",
    "# Transform test data\n",
    "test_tv_transformed = tv.transform(test_speech_df['text_clean'])\n",
    "\n",
    "# Create new features for the test set\n",
    "test_tv_df = pd.DataFrame(test_tv_transformed.toarray(), columns=tv.get_feature_names()).add_prefix('TFIDF_')\n",
    "\n",
    "test_tv_df.head()\n"
   ]
  },
  {
   "cell_type": "markdown",
   "metadata": {},
   "source": [
    "#### Exercício 13 - N-grams"
   ]
  },
  {
   "cell_type": "code",
   "execution_count": 55,
   "metadata": {},
   "outputs": [
    {
     "name": "stdout",
     "output_type": "stream",
     "text": [
      "Counts_abandon all           0.047565\n",
      "Counts_abandon government    0.027832\n",
      "Counts_abandon mastery       0.029715\n",
      "Counts_abandon our           0.026602\n",
      "Counts_abandon their         0.022495\n",
      "Counts_abandon these         0.015440\n",
      "Counts_abandon they          0.015440\n",
      "dtype: float64 \n",
      "\n"
     ]
    },
    {
     "data": {
      "text/plain": [
       "Counts_of the     8.223005\n",
       "Counts_in the     3.998360\n",
       "Counts_to the     3.503714\n",
       "Counts_of our     3.117239\n",
       "Counts_and the    2.364961\n",
       "Counts_we have    1.772485\n",
       "Counts_by the     1.663386\n",
       "Counts_for the    1.649959\n",
       "dtype: float64"
      ]
     },
     "execution_count": 55,
     "metadata": {},
     "output_type": "execute_result"
    }
   ],
   "source": [
    "#vídeo\n",
    "\n",
    "# Issues with bag of words\n",
    "\n",
    "# Positive meaning\n",
    "#  - Single word: happy\n",
    "# Negative meaning\n",
    "#  - Bi-gram : not happy\n",
    "# Positive meaning\n",
    "#  - Trigram : never not happy\n",
    "\n",
    "# Using N-grams\n",
    "tv_bi_gram_vec = TfidfVectorizer(ngram_range = (2,2))\n",
    "\n",
    "# Fit and apply bigram vectorizer\n",
    "tv_bi_gram = tv_bi_gram_vec.fit_transform(speech_df['text'])\n",
    "\n",
    "# Print the bigram features\n",
    "tv_bi_gram_vec.get_feature_names()\n",
    "\n",
    "################################\n",
    "\n",
    "# Finding common words\n",
    "\n",
    "# Create a DataFrame with the Counts features\n",
    "tv_df = pd.DataFrame(tv_bi_gram.toarray(), columns=tv_bi_gram_vec.get_feature_names()).add_prefix('Counts_')\n",
    "\n",
    "tv_sums = tv_df.sum()\n",
    "\n",
    "print(tv_sums.head(7), \"\\n\")\n",
    "\n",
    "tv_sums.sort_values(ascending=False).head(8)\n"
   ]
  },
  {
   "cell_type": "markdown",
   "metadata": {},
   "source": [
    "Exercício 14"
   ]
  },
  {
   "cell_type": "code",
   "execution_count": 56,
   "metadata": {},
   "outputs": [
    {
     "name": "stdout",
     "output_type": "stream",
     "text": [
      "['ability preserve protect', 'agriculture commerce manufactures', 'america ideal freedom', 'amity mutual concession', 'anchor peace home', 'ask bow heads', 'best ability preserve', 'best interests country', 'bless god bless', 'bless united states', 'chief justice mr', 'children children children', 'citizens united states', 'civil religious liberty', 'civil service reform', 'commerce united states', 'confidence fellow citizens', 'congress extraordinary session', 'constitution does expressly', 'constitution united states', 'coordinate branches government', 'day task people', 'defend constitution united', 'distinction powers granted', 'distinguished guests fellow', 'does expressly say', 'equal exact justice', 'era good feeling', 'executive branch government', 'faithfully execute office', 'fellow citizens assembled', 'fellow citizens called', 'fellow citizens large', 'fellow citizens world', 'form perfect union', 'general welfare secure', 'god bless america', 'god bless god', 'good greatest number', 'government peace war', 'government united states', 'granted federal government', 'great body people', 'great political parties', 'greatest good greatest', 'guests fellow citizens', 'invasion wars powers', 'land new promise', 'laws faithfully executed', 'letter spirit constitution', 'liberty pursuit happiness', 'life liberty pursuit', 'local self government', 'make hard choices', 'men women children', 'mr chief justice', 'mr majority leader', 'mr president vice', 'mr speaker mr', 'mr vice president', 'nation like person', 'new breeze blowing', 'new states admitted', 'north south east', 'oath prescribed constitution', 'office president united', 'passed generation generation', 'peace shall strive', 'people united states', 'physical moral political', 'policy united states', 'power general government', 'preservation general government', 'preservation sacred liberty', 'preserve protect defend', 'president united states', 'president vice president', 'promote general welfare', 'proof confidence fellow', 'protect defend constitution', 'protection great interests', 'reform civil service', 'reserved states people', 'respect individual human', 'right self government', 'secure blessings liberty', 'south east west', 'sovereignty general government', 'states admitted union', 'territories united states', 'thank god bless', 'turning away old', 'united states america', 'united states best', 'united states government', 'united states great', 'united states maintain', 'united states territory', 'vice president mr', 'welfare secure blessings']\n"
     ]
    }
   ],
   "source": [
    "# Using longer n-grams\n",
    "\n",
    "# Import CountVectorizer\n",
    "from sklearn.feature_extraction.text import CountVectorizer\n",
    "\n",
    "# Instantiate a trigram vectorizer\n",
    "cv_trigram_vec = CountVectorizer(max_features=100, \n",
    "                                 stop_words='english', \n",
    "                                 ngram_range = (3,3))\n",
    "\n",
    "# Fit and apply trigram vectorizer\n",
    "cv_trigram = cv_trigram_vec.fit_transform(speech_df['text'])\n",
    "\n",
    "# Print the trigram features\n",
    "print(cv_trigram_vec.get_feature_names())\n"
   ]
  },
  {
   "cell_type": "markdown",
   "metadata": {},
   "source": [
    "Exercício 15"
   ]
  },
  {
   "cell_type": "code",
   "execution_count": 57,
   "metadata": {},
   "outputs": [
    {
     "name": "stdout",
     "output_type": "stream",
     "text": [
      "the most common trigram is constitution united states makes a lot of sense for US presidents speeches.\n"
     ]
    },
    {
     "data": {
      "text/plain": [
       "Counts_constitution united states    20\n",
       "Counts_people united states          13\n",
       "Counts_preserve protect defend       10\n",
       "Counts_mr chief justice              10\n",
       "Counts_president united states        8\n",
       "dtype: int64"
      ]
     },
     "execution_count": 57,
     "metadata": {},
     "output_type": "execute_result"
    }
   ],
   "source": [
    "# Finding the most common words\n",
    "\n",
    "# Create a DataFrame of the features\n",
    "cv_tri_df = pd.DataFrame(cv_trigram.toarray(), columns=cv_trigram_vec.get_feature_names()).add_prefix('Counts_')\n",
    "\n",
    "# Print the top 5 words in the sorted output\n",
    "print(\"the most common trigram is constitution united states makes a lot of sense for US presidents speeches.\")\n",
    "\n",
    "cv_tri_df.sum().sort_values(ascending=False).head()\n"
   ]
  },
  {
   "cell_type": "markdown",
   "metadata": {},
   "source": [
    "#### Exercício 16 - Wrap-up"
   ]
  },
  {
   "cell_type": "code",
   "execution_count": 58,
   "metadata": {},
   "outputs": [],
   "source": [
    "#vídeo"
   ]
  },
  {
   "cell_type": "markdown",
   "metadata": {},
   "source": [
    "# Fim"
   ]
  }
 ],
 "metadata": {
  "kernelspec": {
   "display_name": "Python 3",
   "language": "python",
   "name": "python3"
  },
  "language_info": {
   "codemirror_mode": {
    "name": "ipython",
    "version": 3
   },
   "file_extension": ".py",
   "mimetype": "text/x-python",
   "name": "python",
   "nbconvert_exporter": "python",
   "pygments_lexer": "ipython3",
   "version": "3.7.1"
  }
 },
 "nbformat": 4,
 "nbformat_minor": 2
}
