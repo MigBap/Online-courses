{
 "cells": [
  {
   "cell_type": "markdown",
   "metadata": {},
   "source": [
    "# DataCamp - Data Scientist Career Track (Python)"
   ]
  },
  {
   "cell_type": "markdown",
   "metadata": {},
   "source": [
    "## Python Data Science Toolbox (Part 2)    \n"
   ]
  },
  {
   "cell_type": "code",
   "execution_count": 1,
   "metadata": {},
   "outputs": [],
   "source": [
    "data_folder = \"C:/Users/Utilizador/Dropbox/Python/ficheiros/DataCamp/DataCamp - Python Data Science Toolbox (Part 2)/\""
   ]
  },
  {
   "cell_type": "code",
   "execution_count": 2,
   "metadata": {},
   "outputs": [],
   "source": [
    "import pandas as pd\n",
    "import matplotlib.pyplot as plt"
   ]
  },
  {
   "cell_type": "markdown",
   "metadata": {},
   "source": [
    "##    CHAPTER 1  - Using iterators in PythonLand\n"
   ]
  },
  {
   "cell_type": "markdown",
   "metadata": {},
   "source": [
    "#### Exercício 1 - Introduction to iterators"
   ]
  },
  {
   "cell_type": "code",
   "execution_count": 3,
   "metadata": {},
   "outputs": [],
   "source": [
    "#vídeo\n",
    "#Introduction to iterators\n",
    "\n",
    "# iter() and next()"
   ]
  },
  {
   "cell_type": "markdown",
   "metadata": {},
   "source": [
    "Exercício 2"
   ]
  },
  {
   "cell_type": "code",
   "execution_count": 4,
   "metadata": {},
   "outputs": [],
   "source": [
    "#difference between an iterable and an iterator"
   ]
  },
  {
   "cell_type": "markdown",
   "metadata": {},
   "source": [
    "Exercício 3"
   ]
  },
  {
   "cell_type": "code",
   "execution_count": 5,
   "metadata": {},
   "outputs": [
    {
     "name": "stdout",
     "output_type": "stream",
     "text": [
      "jay garrick\n",
      "barry allen\n",
      "wally west\n",
      "bart allen\n",
      "jay garrick\n",
      "barry allen\n",
      "wally west\n",
      "bart allen\n"
     ]
    }
   ],
   "source": [
    "#Iterating over iterables (1)\n",
    "\n",
    "flash = ['jay garrick', 'barry allen', 'wally west', 'bart allen']\n",
    "\n",
    "for item in flash:\n",
    "    print(item)\n",
    "\n",
    "superspeed = iter(flash)\n",
    "\n",
    "print(next(superspeed))\n",
    "print(next(superspeed))\n",
    "print(next(superspeed))\n",
    "print(next(superspeed))"
   ]
  },
  {
   "cell_type": "markdown",
   "metadata": {},
   "source": [
    "Exercício 4"
   ]
  },
  {
   "cell_type": "code",
   "execution_count": 6,
   "metadata": {},
   "outputs": [
    {
     "name": "stdout",
     "output_type": "stream",
     "text": [
      "0\n",
      "1\n",
      "2\n",
      "0\n",
      "1\n",
      "2\n",
      "======================================================\n",
      "0\n",
      "1\n",
      "2\n",
      "3\n",
      "4\n"
     ]
    }
   ],
   "source": [
    "small_value = iter(range(3))\n",
    "\n",
    "print(next(small_value))\n",
    "print(next(small_value))\n",
    "print(next(small_value))\n",
    "\n",
    "# Loop over range(3) and print the values\n",
    "for num in range(3):\n",
    "    print(num)\n",
    "\n",
    "print(\"======================================================\")\n",
    "\n",
    "googol = iter(range(10 ** 100))\n",
    "\n",
    "print(next(googol))\n",
    "print(next(googol))\n",
    "print(next(googol))\n",
    "print(next(googol))\n",
    "print(next(googol))  # the computer doesn't crash, we can go on"
   ]
  },
  {
   "cell_type": "markdown",
   "metadata": {},
   "source": [
    "Exercício 5"
   ]
  },
  {
   "cell_type": "code",
   "execution_count": 7,
   "metadata": {},
   "outputs": [
    {
     "name": "stdout",
     "output_type": "stream",
     "text": [
      "range(10, 21)\n",
      "=========================\n",
      "[10, 11, 12, 13, 14, 15, 16, 17, 18, 19, 20]\n",
      "=========================\n",
      "165\n"
     ]
    }
   ],
   "source": [
    "values = range(10, 21)\n",
    "print(values)\n",
    "\n",
    "print(\"=========================\")\n",
    "\n",
    "values_list = list(values)\n",
    "print(values_list)\n",
    "\n",
    "print(\"=========================\")\n",
    "\n",
    "values_sum = sum(values)\n",
    "print(values_sum)"
   ]
  },
  {
   "cell_type": "markdown",
   "metadata": {},
   "source": [
    "#### Exercício 6 - Playing with iterators"
   ]
  },
  {
   "cell_type": "code",
   "execution_count": 8,
   "metadata": {},
   "outputs": [],
   "source": [
    "#vídeo\n",
    "\n",
    "#Playing with iterators\n",
    "\n",
    "# enumerate(... , start=10)       zip()         \n"
   ]
  },
  {
   "cell_type": "markdown",
   "metadata": {},
   "source": [
    "Exercício 7"
   ]
  },
  {
   "cell_type": "code",
   "execution_count": 9,
   "metadata": {},
   "outputs": [
    {
     "name": "stdout",
     "output_type": "stream",
     "text": [
      "[(0, 'charles xavier'), (1, 'bobby drake'), (2, 'kurt wagner'), (3, 'max eisenhardt'), (4, 'kitty pryde')]\n",
      "=========================================\n",
      "0 charles xavier\n",
      "1 bobby drake\n",
      "2 kurt wagner\n",
      "3 max eisenhardt\n",
      "4 kitty pryde\n",
      "=========================================\n",
      "1 charles xavier\n",
      "2 bobby drake\n",
      "3 kurt wagner\n",
      "4 max eisenhardt\n",
      "5 kitty pryde\n"
     ]
    }
   ],
   "source": [
    "mutants = ['charles xavier', 'bobby drake', 'kurt wagner', 'max eisenhardt', 'kitty pryde']\n",
    "\n",
    "mutant_list = list(enumerate(mutants))\n",
    "print(mutant_list)\n",
    "\n",
    "print(\"=========================================\")\n",
    "\n",
    "for index1, value1 in enumerate(mutants):\n",
    "    print(index1, value1)\n",
    "\n",
    "print(\"=========================================\")\n",
    "    \n",
    "# Change the start index\n",
    "for index2, value2 in enumerate(mutants, start=1):  # para que n haja dúvidas, o charles xavier é o nº1 (telepathy)\n",
    "    print(index2, value2)"
   ]
  },
  {
   "cell_type": "markdown",
   "metadata": {},
   "source": [
    "Exercício 8"
   ]
  },
  {
   "cell_type": "code",
   "execution_count": 10,
   "metadata": {},
   "outputs": [
    {
     "name": "stdout",
     "output_type": "stream",
     "text": [
      "[('charles xavier', 'prof x', 'telepathy'), ('bobby drake', 'iceman', 'thermokinesis'), ('kurt wagner', 'nightcrawler', 'teleportation'), ('max eisenhardt', 'magneto', 'magnetokinesis'), ('kitty pryde', 'shadowcat', 'intangibility')]\n",
      "=========================================\n",
      "<zip object at 0x000002DF5CCF2088>\n",
      "=========================================\n",
      "charles xavier prof x telepathy\n",
      "bobby drake iceman thermokinesis\n",
      "kurt wagner nightcrawler teleportation\n",
      "max eisenhardt magneto magnetokinesis\n",
      "kitty pryde shadowcat intangibility\n"
     ]
    }
   ],
   "source": [
    "#não dá para printar um zip,tem que se fazer uma iteração/for loop, descompactando-o\n",
    "mutants = ['charles xavier', 'bobby drake', 'kurt wagner', 'max eisenhardt', 'kitty pryde']\n",
    "aliases = ['prof x', 'iceman', 'nightcrawler', 'magneto', 'shadowcat']\n",
    "powers = ['telepathy','thermokinesis', 'teleportation', 'magnetokinesis','intangibility']\n",
    "\n",
    "mutant_data = list(zip(mutants, aliases, powers))\n",
    "\n",
    "# Print the list of tuples\n",
    "print(mutant_data)\n",
    "\n",
    "print(\"=========================================\")\n",
    "# Create a zip object using the three lists: mutant_zip\n",
    "mutant_zip = zip(mutants, aliases, powers)\n",
    "print(mutant_zip)\n",
    "\n",
    "print(\"=========================================\")\n",
    "# Unpack the zip object and print the tuple values\n",
    "for value1, value2, value3 in mutant_data:\n",
    "    print(value1, value2, value3)"
   ]
  },
  {
   "cell_type": "markdown",
   "metadata": {},
   "source": [
    "##### Exercício 9 - \"unzip\", unpacking"
   ]
  },
  {
   "cell_type": "code",
   "execution_count": 11,
   "metadata": {},
   "outputs": [
    {
     "name": "stdout",
     "output_type": "stream",
     "text": [
      "('charles xavier', 'telepathy') ('bobby drake', 'thermokinesis') ('kurt wagner', 'teleportation') ('max eisenhardt', 'magnetokinesis') ('kitty pryde', 'intangibility')\n",
      "=========================================\n",
      "True\n",
      "True\n",
      "=========================================\n",
      "('charles xavier', 'bobby drake', 'kurt wagner', 'max eisenhardt', 'kitty pryde')\n",
      "['charles xavier', 'bobby drake', 'kurt wagner', 'max eisenhardt', 'kitty pryde']\n"
     ]
    }
   ],
   "source": [
    "# There is no unzip function for doing the reverse of what zip() does.\n",
    "# But, using *:\n",
    "\n",
    "# Create a zip object from mutants and powers: z1\n",
    "z1 = zip(mutants, powers)\n",
    "\n",
    "# Print the tuples in z1 by unpacking with *\n",
    "print(*z1)\n",
    "\n",
    "# Re-create a zip object from mutants and powers: z1  --> Because the previous print() call exhausted the elements in z1\n",
    "z1 = zip(mutants, powers)\n",
    "\n",
    "# \"Unzip\" the tuples in z1 by unpacking with * and zip(): result1, result2\n",
    "result1, result2 = zip(*z1)\n",
    "\n",
    "print(\"=========================================\")\n",
    "# Check if unpacked tuples are equivalent to original tuples\n",
    "print(list(result1) == mutants)\n",
    "print(list(result2) == powers)\n",
    "print(\"=========================================\")\n",
    "print(result1)\n",
    "print(mutants)\n"
   ]
  },
  {
   "cell_type": "markdown",
   "metadata": {},
   "source": [
    "#### Exercício 10 - Using iterators to load large files into memory"
   ]
  },
  {
   "cell_type": "code",
   "execution_count": 12,
   "metadata": {},
   "outputs": [],
   "source": [
    "#vídeo\n",
    "#Using iterators to load large files into memory\n",
    "\n",
    "#Load the data in chunks"
   ]
  },
  {
   "cell_type": "markdown",
   "metadata": {},
   "source": [
    "Exercício 11"
   ]
  },
  {
   "cell_type": "code",
   "execution_count": 13,
   "metadata": {},
   "outputs": [
    {
     "name": "stdout",
     "output_type": "stream",
     "text": [
      "{'en': 97, 'et': 1, 'und': 2}\n"
     ]
    }
   ],
   "source": [
    "counts_dict = {}\n",
    "\n",
    "# Iterate over the file chunk by chunk\n",
    "for chunk in pd.read_csv((data_folder + 'tweets.csv'), chunksize=10):\n",
    "\n",
    "    # Iterate over the column in DataFrame\n",
    "    for entry in chunk['lang']:\n",
    "        if entry in counts_dict.keys():\n",
    "            counts_dict[entry] += 1\n",
    "        else:\n",
    "            counts_dict[entry] = 1\n",
    "\n",
    "print(counts_dict)"
   ]
  },
  {
   "cell_type": "markdown",
   "metadata": {},
   "source": [
    "Exercício 12"
   ]
  },
  {
   "cell_type": "code",
   "execution_count": 14,
   "metadata": {},
   "outputs": [
    {
     "name": "stdout",
     "output_type": "stream",
     "text": [
      "{'en': 97, 'et': 1, 'und': 2}\n"
     ]
    }
   ],
   "source": [
    "# Para ficar mais generalizado, podemos definir uma função nossa:\n",
    "\n",
    "def count_entries(csv_file, c_size, colname):\n",
    "    counts_dict = {}\n",
    "    \n",
    "    for chunk in pd.read_csv(csv_file, chunksize=c_size):\n",
    "\n",
    "        for entry in chunk[colname]:\n",
    "            if entry in counts_dict.keys():\n",
    "                counts_dict[entry] += 1\n",
    "            else:\n",
    "                counts_dict[entry] = 1\n",
    "\n",
    "    return counts_dict\n",
    "\n",
    "# Call count_entries(): result_counts\n",
    "result_counts = count_entries((data_folder + 'tweets.csv'), 10, 'lang')\n",
    "\n",
    "print(result_counts)\n"
   ]
  },
  {
   "cell_type": "markdown",
   "metadata": {},
   "source": [
    "Exercício 13"
   ]
  },
  {
   "cell_type": "code",
   "execution_count": 15,
   "metadata": {},
   "outputs": [],
   "source": [
    "#vídeo"
   ]
  },
  {
   "cell_type": "markdown",
   "metadata": {},
   "source": [
    "# CHAPTER 2 - List comprehensions and generators"
   ]
  },
  {
   "cell_type": "markdown",
   "metadata": {},
   "source": [
    "#### Exercício 1 - List comprehensions"
   ]
  },
  {
   "cell_type": "code",
   "execution_count": 16,
   "metadata": {},
   "outputs": [],
   "source": [
    "#vídeo\n",
    "#List comprehensions"
   ]
  },
  {
   "cell_type": "markdown",
   "metadata": {},
   "source": [
    "Exercício 2"
   ]
  },
  {
   "cell_type": "code",
   "execution_count": 17,
   "metadata": {},
   "outputs": [
    {
     "name": "stdout",
     "output_type": "stream",
     "text": [
      "['h', 'c', 'c', 't', 'w']\n"
     ]
    }
   ],
   "source": [
    "doctor = ['house', 'cuddy', 'chase', 'thirteen', 'wilson']\n",
    "\n",
    "#produce a list of the first character of each string in doctor\n",
    "print([i[0] for i in doctor])"
   ]
  },
  {
   "cell_type": "markdown",
   "metadata": {},
   "source": [
    "Exercício 3"
   ]
  },
  {
   "cell_type": "code",
   "execution_count": 18,
   "metadata": {},
   "outputs": [],
   "source": [
    "# which of these can we build list comprehensions over?\n",
    "\n",
    "doctor = ['house', 'cuddy', 'chase', 'thirteen', 'wilson']\n",
    "\n",
    "range(50)\n",
    "\n",
    "underwood = 'After all, we are nothing more or less than what we choose to reveal.'\n",
    "\n",
    "jean = '24601'\n",
    "\n",
    "flash = ['jay garrick', 'barry allen', 'wally west', 'bart allen']\n",
    "\n",
    "valjean = 24601\n",
    "\n",
    "# Resposta: todos menos valjean"
   ]
  },
  {
   "cell_type": "markdown",
   "metadata": {},
   "source": [
    "Exercício 4"
   ]
  },
  {
   "cell_type": "code",
   "execution_count": 19,
   "metadata": {},
   "outputs": [
    {
     "name": "stdout",
     "output_type": "stream",
     "text": [
      "[0, 1, 4, 9, 16, 25, 36, 49, 64, 81]\n"
     ]
    }
   ],
   "source": [
    "# Write a list comprehension that produces a list of the squares of the numbers ranging from 0 to 9\n",
    "\n",
    "squares = [i ** 2 for i in range(10)]\n",
    "print(squares)"
   ]
  },
  {
   "cell_type": "markdown",
   "metadata": {},
   "source": [
    "Exercício 5"
   ]
  },
  {
   "cell_type": "code",
   "execution_count": 20,
   "metadata": {},
   "outputs": [
    {
     "name": "stdout",
     "output_type": "stream",
     "text": [
      "[[0, 1, 2, 3, 4], [0, 1, 2, 3, 4], [0, 1, 2, 3, 4], [0, 1, 2, 3, 4], [0, 1, 2, 3, 4]]\n",
      "============================================================================================\n",
      "[0, 1, 2, 3, 4]\n",
      "[0, 1, 2, 3, 4]\n",
      "[0, 1, 2, 3, 4]\n",
      "[0, 1, 2, 3, 4]\n",
      "[0, 1, 2, 3, 4]\n"
     ]
    }
   ],
   "source": [
    "#Nested List comprehensions\n",
    "\n",
    "matrix_1 = [[col for col in range(5)] for row in range(5)]\n",
    "# [col for col in range(5)]\n",
    "\n",
    "print(matrix_1)    #aqui é uma lista com as 'colunas' da matrix dentro\n",
    "print(\"============================================================================================\")\n",
    "\n",
    "for row in matrix_1:\n",
    "    print(row)        #aqui imprime a matriz, linha a linha\n"
   ]
  },
  {
   "cell_type": "markdown",
   "metadata": {},
   "source": [
    "#### Exercício 6 - Advanced comprehensions"
   ]
  },
  {
   "cell_type": "code",
   "execution_count": 21,
   "metadata": {},
   "outputs": [],
   "source": [
    "#vídeo\n",
    "#Advanced comprehensions"
   ]
  },
  {
   "cell_type": "markdown",
   "metadata": {},
   "source": [
    "Exercício 7"
   ]
  },
  {
   "cell_type": "code",
   "execution_count": 22,
   "metadata": {},
   "outputs": [
    {
     "name": "stdout",
     "output_type": "stream",
     "text": [
      "['samwise', 'aragorn', 'legolas', 'boromir']\n"
     ]
    }
   ],
   "source": [
    "# Using a list comprehension, create a list that only includes the members of fellowship that have 7 characters or more.\n",
    "fellowship = ['frodo', 'samwise', 'merry', 'aragorn', 'legolas', 'boromir', 'gimli']\n",
    "\n",
    "fellowship_seven = [member for member in fellowship if len(member) >= 7]\n",
    "\n",
    "print(fellowship_seven)\n"
   ]
  },
  {
   "cell_type": "markdown",
   "metadata": {},
   "source": [
    "Exercício 8"
   ]
  },
  {
   "cell_type": "code",
   "execution_count": 23,
   "metadata": {},
   "outputs": [
    {
     "name": "stdout",
     "output_type": "stream",
     "text": [
      "['', 'samwise', '', 'aragorn', 'legolas', 'boromir', '']\n"
     ]
    }
   ],
   "source": [
    "# If-else --> list that keeps members of fellowship with >= 7 characters and replaces others with an empty string\n",
    "fellowship = ['frodo', 'samwise', 'merry', 'aragorn', 'legolas', 'boromir', 'gimli']\n",
    "\n",
    "new_fellowship = [member if len(member) >= 7 else \"\" for member in fellowship]\n",
    "\n",
    "print(new_fellowship)\n"
   ]
  },
  {
   "cell_type": "markdown",
   "metadata": {},
   "source": [
    "Exercício 9"
   ]
  },
  {
   "cell_type": "code",
   "execution_count": 24,
   "metadata": {},
   "outputs": [
    {
     "name": "stdout",
     "output_type": "stream",
     "text": [
      "{'frodo': 5, 'samwise': 7, 'merry': 5, 'aragorn': 7, 'legolas': 7, 'boromir': 7, 'gimli': 5}\n"
     ]
    }
   ],
   "source": [
    "#Dictionary comprehensions\n",
    "#  Dictionary with the members of the list as the keys and the length of each string as the corresponding values\n",
    "fellowship = ['frodo', 'samwise', 'merry', 'aragorn', 'legolas', 'boromir', 'gimli']\n",
    "\n",
    "new_fellowship = {member: len(member) for member in fellowship}\n",
    "\n",
    "print(new_fellowship)\n",
    "\n",
    "\n",
    "# for member in fellowship:\n",
    "#     new_fellowship[member] = len(member)\n",
    "    \n",
    "# print(new_fellowship)"
   ]
  },
  {
   "cell_type": "markdown",
   "metadata": {},
   "source": [
    "#### Exercício 10 - Introduction to generator expressions"
   ]
  },
  {
   "cell_type": "code",
   "execution_count": 25,
   "metadata": {},
   "outputs": [],
   "source": [
    "#vídeo \n",
    "#generator expressions () ---> conhecido como \"Lazy evaluation\"\n",
    "#generator functions"
   ]
  },
  {
   "cell_type": "markdown",
   "metadata": {},
   "source": [
    "Exercício 11"
   ]
  },
  {
   "cell_type": "code",
   "execution_count": 26,
   "metadata": {},
   "outputs": [
    {
     "name": "stdout",
     "output_type": "stream",
     "text": [
      "['samwise', 'aragorn', 'legolas', 'boromir']\n",
      "===================================================\n",
      "<generator object <genexpr> at 0x000002DF5CD0C840>\n"
     ]
    }
   ],
   "source": [
    "# List\n",
    "fellowship = ['frodo', 'samwise', 'merry', 'aragorn', 'legolas', 'boromir', 'gimli']\n",
    "\n",
    "# List comprehension\n",
    "fellow1 = [member for member in fellowship if len(member) >= 7]\n",
    "\n",
    "# Generator expression\n",
    "fellow2 = (member for member in fellowship if len(member) >= 7)\n",
    "\n",
    "print(fellow1)\n",
    "print(\"===================================================\")\n",
    "print(fellow2)"
   ]
  },
  {
   "cell_type": "markdown",
   "metadata": {},
   "source": [
    "Exercício 12"
   ]
  },
  {
   "cell_type": "code",
   "execution_count": 27,
   "metadata": {},
   "outputs": [
    {
     "name": "stdout",
     "output_type": "stream",
     "text": [
      "0\n",
      "1\n",
      "2\n",
      "3\n",
      "4\n",
      "==============================================\n",
      "5\n",
      "6\n",
      "7\n",
      "8\n",
      "9\n",
      "10\n",
      "11\n",
      "12\n",
      "13\n",
      "14\n"
     ]
    }
   ],
   "source": [
    "result = (num for num in range(15))   #Generator\n",
    "\n",
    "# First 5 values\n",
    "print(next(result))\n",
    "print(next(result))\n",
    "print(next(result))\n",
    "print(next(result))\n",
    "print(next(result))\n",
    "print(\"==============================================\")\n",
    "# Print the rest of the values\n",
    "for value in result:\n",
    "    print(value)"
   ]
  },
  {
   "cell_type": "markdown",
   "metadata": {},
   "source": [
    "Exercício 13"
   ]
  },
  {
   "cell_type": "code",
   "execution_count": 28,
   "metadata": {},
   "outputs": [
    {
     "name": "stdout",
     "output_type": "stream",
     "text": [
      "6\n",
      "5\n",
      "5\n",
      "6\n",
      "7\n"
     ]
    }
   ],
   "source": [
    "lannister = ['cersei', 'jaime', 'tywin', 'tyrion', 'joffrey']\n",
    "\n",
    "# Create a generator object: lengths\n",
    "lengths = (len(person) for person in lannister)\n",
    "\n",
    "# Iterate over and print the values in lengths\n",
    "for value in lengths:\n",
    "    print(value)"
   ]
  },
  {
   "cell_type": "markdown",
   "metadata": {},
   "source": [
    "Exercício 14"
   ]
  },
  {
   "cell_type": "code",
   "execution_count": 29,
   "metadata": {},
   "outputs": [
    {
     "name": "stdout",
     "output_type": "stream",
     "text": [
      "6\n",
      "5\n",
      "5\n",
      "6\n",
      "7\n"
     ]
    }
   ],
   "source": [
    "# Generator functions - yield\n",
    "\n",
    "#Goal:\n",
    "lengths = (len(person) for person in lannister)\n",
    "\n",
    "lannister = ['cersei', 'jaime', 'tywin', 'tyrion', 'joffrey']\n",
    "\n",
    "# \"\"\"Generator function that yields the length of the strings in input_list.\"\"\"\n",
    "def get_lengths(input_list):\n",
    "    for person in input_list:\n",
    "        yield len(person)\n",
    "\n",
    "for value in get_lengths(lannister):\n",
    "    print(value)\n"
   ]
  },
  {
   "cell_type": "markdown",
   "metadata": {},
   "source": [
    "#### Exercício 15 - Wrapping up comprehensions and generators"
   ]
  },
  {
   "cell_type": "code",
   "execution_count": 30,
   "metadata": {},
   "outputs": [],
   "source": [
    "#vídeo\n",
    "#Wrapping up comprehensions and generators"
   ]
  },
  {
   "cell_type": "markdown",
   "metadata": {},
   "source": [
    "Exercício 16"
   ]
  },
  {
   "cell_type": "code",
   "execution_count": 31,
   "metadata": {},
   "outputs": [
    {
     "name": "stdout",
     "output_type": "stream",
     "text": [
      "['23:40:17', '23:40:17', '23:40:17', '23:40:17', '23:40:17', '23:40:17', '23:40:18', '23:40:17', '23:40:18', '23:40:18', '23:40:18', '23:40:17', '23:40:18', '23:40:18', '23:40:17', '23:40:18', '23:40:18', '23:40:17', '23:40:18', '23:40:17', '23:40:18', '23:40:18', '23:40:18', '23:40:18', '23:40:17', '23:40:18', '23:40:18', '23:40:17', '23:40:18', '23:40:18', '23:40:18', '23:40:18', '23:40:18', '23:40:18', '23:40:18', '23:40:18', '23:40:18', '23:40:18', '23:40:18', '23:40:18']\n"
     ]
    }
   ],
   "source": [
    "df = pd.read_csv(data_folder + 'tweets.csv')\n",
    "\n",
    "# Extract the column 'created_at' from df\n",
    "tweet_time = df[\"created_at\"]\n",
    "\n",
    "#Each row in df[\"created_at\"] is a string that represents a timestamp. Access the 12th to 19th characters to extract the time\n",
    "tweet_clock_time = [entry[11:19] for entry in tweet_time]\n",
    "\n",
    "# Print the extracted times\n",
    "print(tweet_clock_time[0:40])"
   ]
  },
  {
   "cell_type": "markdown",
   "metadata": {},
   "source": [
    "Exercício 17"
   ]
  },
  {
   "cell_type": "code",
   "execution_count": 32,
   "metadata": {},
   "outputs": [
    {
     "name": "stdout",
     "output_type": "stream",
     "text": [
      "['23:40:19', '23:40:19', '23:40:19', '23:40:19', '23:40:19', '23:40:19', '23:40:19', '23:40:19', '23:40:19', '23:40:19', '23:40:19', '23:40:19', '23:40:19', '23:40:19', '23:40:19', '23:40:19', '23:40:19', '23:40:19', '23:40:19', '23:40:19', '23:40:19', '23:40:19', '23:40:19', '23:40:19', '23:40:19', '23:40:19', '23:40:19', '23:40:19', '23:40:19', '23:40:19', '23:40:19', '23:40:19', '23:40:19', '23:40:19']\n"
     ]
    }
   ],
   "source": [
    "# add a conditional expression that checks whether entry[17:19] is equal to '19'\n",
    "\n",
    "tweet_clock_time = [entry[11:19] for entry in df[\"created_at\"] if entry[17:19] == '19']\n",
    "\n",
    "# Print the extracted times\n",
    "print(tweet_clock_time)"
   ]
  },
  {
   "cell_type": "markdown",
   "metadata": {},
   "source": [
    "# Chapter 3 - Bringing it all together"
   ]
  },
  {
   "cell_type": "markdown",
   "metadata": {},
   "source": [
    "Exercício 1 - welcome to the case study"
   ]
  },
  {
   "cell_type": "code",
   "execution_count": 33,
   "metadata": {},
   "outputs": [],
   "source": [
    "#vídeo"
   ]
  },
  {
   "cell_type": "markdown",
   "metadata": {},
   "source": [
    "Exercício 2"
   ]
  },
  {
   "cell_type": "code",
   "execution_count": 34,
   "metadata": {},
   "outputs": [
    {
     "name": "stdout",
     "output_type": "stream",
     "text": [
      "{'CountryName': 'Arab World', 'CountryCode': 'ARB', 'IndicatorName': 'Adolescent fertility rate (births per 1,000 women ages 15-19)', 'IndicatorCode': 'SP.ADO.TFRT', 'Year': '1960', 'Value': '133.56090740552298'}\n"
     ]
    }
   ],
   "source": [
    "df_wb = pd.read_csv(data_folder + 'world_ind_pop_data.csv')\n",
    "\n",
    "feature_names = ['CountryName', 'CountryCode', 'IndicatorName', 'IndicatorCode', 'Year', 'Value']\n",
    "row_vals = ['Arab World', 'ARB', 'Adolescent fertility rate (births per 1,000 women ages 15-19)', 'SP.ADO.TFRT', '1960', '133.56090740552298']\n",
    "\n",
    "zipped_lists = zip(feature_names, row_vals)\n",
    "\n",
    "rs_dict = dict(zipped_lists)\n",
    "\n",
    "print(rs_dict)"
   ]
  },
  {
   "cell_type": "markdown",
   "metadata": {},
   "source": [
    "Exercício 3"
   ]
  },
  {
   "cell_type": "code",
   "execution_count": 35,
   "metadata": {},
   "outputs": [
    {
     "name": "stdout",
     "output_type": "stream",
     "text": [
      "{'CountryName': 'Arab World', 'CountryCode': 'ARB', 'IndicatorName': 'Adolescent fertility rate (births per 1,000 women ages 15-19)', 'IndicatorCode': 'SP.ADO.TFRT', 'Year': '1960', 'Value': '133.56090740552298'}\n"
     ]
    }
   ],
   "source": [
    "# repeat the process above for all the rows in the data\n",
    "\n",
    "def lists2dict(list1, list2):\n",
    "    \"\"\"Return a dictionary where list1 provides the keys and list2 provides the values.\"\"\"\n",
    "\n",
    "    zipped_lists = zip(list1, list2)\n",
    "\n",
    "    rs_dict = dict(zipped_lists)\n",
    "\n",
    "    return rs_dict\n",
    "\n",
    "# Call lists2dict: rs_fxn\n",
    "rs_fxn = lists2dict(feature_names, row_vals)\n",
    "\n",
    "print(rs_fxn)"
   ]
  },
  {
   "cell_type": "markdown",
   "metadata": {},
   "source": [
    "Exercício 4"
   ]
  },
  {
   "cell_type": "code",
   "execution_count": 36,
   "metadata": {},
   "outputs": [
    {
     "name": "stdout",
     "output_type": "stream",
     "text": [
      "['Arab World', 'ARB', 'Adolescent fertility rate (births per 1,000 women ages 15-19)', 'SP.ADO.TFRT', '1960', '133.56090740552298']\n",
      "['Arab World', 'ARB', 'Age dependency ratio (% of working-age population)', 'SP.POP.DPND', '1960', '87.7976011532547']\n",
      "===========================================================================================================================\n",
      "===========================================================================================================================\n",
      "{'CountryName': 'Arab World', 'CountryCode': 'ARB', 'IndicatorName': 'Adolescent fertility rate (births per 1,000 women ages 15-19)', 'IndicatorCode': 'SP.ADO.TFRT', 'Year': '1960', 'Value': '133.56090740552298'}\n",
      "===========================================================================================================================\n",
      "{'CountryName': 'Arab World', 'CountryCode': 'ARB', 'IndicatorName': 'Age dependency ratio (% of working-age population)', 'IndicatorCode': 'SP.POP.DPND', 'Year': '1960', 'Value': '87.7976011532547'}\n"
     ]
    }
   ],
   "source": [
    "#apply to a list of lists (row_lists), a segment of the dataframe\n",
    "\n",
    "feature_names = ['CountryName', 'CountryCode', 'IndicatorName', 'IndicatorCode', 'Year', 'Value']\n",
    "row_lists = [['Arab World', 'ARB', 'Adolescent fertility rate (births per 1,000 women ages 15-19)', 'SP.ADO.TFRT', '1960', '133.56090740552298'],['Arab World', 'ARB', 'Age dependency ratio (% of working-age population)', 'SP.POP.DPND', '1960', '87.7976011532547'],['Arab World', 'ARB', 'Age dependency ratio, old (% of working-age population)', 'SP.POP.DPND.OL', '1960', '6.634579191565161'],['Arab World', 'ARB', 'Age dependency ratio, young (% of working-age population)', 'SP.POP.DPND.YG', '1960', '81.02332950839141'],['Arab World', 'ARB', 'Arms exports (SIPRI trend indicator values)', 'MS.MIL.XPRT.KD', '1960', '3000000.0'],['Arab World', 'ARB', 'Arms imports (SIPRI trend indicator values)', 'MS.MIL.MPRT.KD', '1960', '538000000.0'],['Arab World', 'ARB', 'Birth rate, crude (per 1,000 people)', 'SP.DYN.CBRT.IN', '1960', '47.697888095096395'],['Arab World', 'ARB', 'CO2 emissions (kt)', 'EN.ATM.CO2E.KT', '1960', '59563.9892169935'],['Arab World', 'ARB', 'CO2 emissions (metric tons per capita)', 'EN.ATM.CO2E.PC', '1960', '0.6439635478877049'],['Arab World', 'ARB', 'CO2 emissions from gaseous fuel consumption (% of total)', 'EN.ATM.CO2E.GF.ZS', '1960', '5.041291753975099'],['Arab World', 'ARB', 'CO2 emissions from liquid fuel consumption (% of total)', 'EN.ATM.CO2E.LF.ZS', '1960', '84.8514729446567'],['Arab World', 'ARB', 'CO2 emissions from liquid fuel consumption (kt)', 'EN.ATM.CO2E.LF.KT', '1960', '49541.707291032304'],['Arab World', 'ARB', 'CO2 emissions from solid fuel consumption (% of total)', 'EN.ATM.CO2E.SF.ZS', '1960', '4.72698138789597'],['Arab World', 'ARB', 'Death rate, crude (per 1,000 people)', 'SP.DYN.CDRT.IN', '1960', '19.7544519237187'],['Arab World', 'ARB', 'Fertility rate, total (births per woman)', 'SP.DYN.TFRT.IN', '1960', '6.92402738655897'],['Arab World', 'ARB', 'Fixed telephone subscriptions',  'IT.MLT.MAIN', '1960', '406833.0'],['Arab World', 'ARB', 'Fixed telephone subscriptions (per 100 people)', 'IT.MLT.MAIN.P2', '1960', '0.6167005703199'],['Arab World', 'ARB', 'Hospital beds (per 1,000 people)', 'SH.MED.BEDS.ZS', '1960', '1.9296220724398703'],['Arab World', 'ARB', 'International migrant stock (% of population)', 'SM.POP.TOTL.ZS', '1960', '2.9906371279862403'],['Arab World', 'ARB', 'International migrant stock, total', 'SM.POP.TOTL', '1960', '3324685.0']]\n",
    "\n",
    "print(row_lists[0])\n",
    "print(row_lists[1])\n",
    "print(\"===========================================================================================================================\")\n",
    "print(\"===========================================================================================================================\")\n",
    "\n",
    "# criar uma lista de dicionários tendo em conta a lista row_lists disponível\n",
    "list_of_dicts = [lists2dict(feature_names, sublist) for sublist in row_lists]\n",
    "\n",
    "\n",
    "print(list_of_dicts[0])\n",
    "print(\"===========================================================================================================================\")\n",
    "print(list_of_dicts[1])"
   ]
  },
  {
   "cell_type": "markdown",
   "metadata": {},
   "source": [
    "Exercício 5"
   ]
  },
  {
   "cell_type": "code",
   "execution_count": 37,
   "metadata": {},
   "outputs": [
    {
     "data": {
      "text/html": [
       "<div>\n",
       "<style scoped>\n",
       "    .dataframe tbody tr th:only-of-type {\n",
       "        vertical-align: middle;\n",
       "    }\n",
       "\n",
       "    .dataframe tbody tr th {\n",
       "        vertical-align: top;\n",
       "    }\n",
       "\n",
       "    .dataframe thead th {\n",
       "        text-align: right;\n",
       "    }\n",
       "</style>\n",
       "<table border=\"1\" class=\"dataframe\">\n",
       "  <thead>\n",
       "    <tr style=\"text-align: right;\">\n",
       "      <th></th>\n",
       "      <th>CountryCode</th>\n",
       "      <th>CountryName</th>\n",
       "      <th>IndicatorCode</th>\n",
       "      <th>IndicatorName</th>\n",
       "      <th>Value</th>\n",
       "      <th>Year</th>\n",
       "    </tr>\n",
       "  </thead>\n",
       "  <tbody>\n",
       "    <tr>\n",
       "      <th>0</th>\n",
       "      <td>ARB</td>\n",
       "      <td>Arab World</td>\n",
       "      <td>SP.ADO.TFRT</td>\n",
       "      <td>Adolescent fertility rate (births per 1,000 wo...</td>\n",
       "      <td>133.56090740552298</td>\n",
       "      <td>1960</td>\n",
       "    </tr>\n",
       "    <tr>\n",
       "      <th>1</th>\n",
       "      <td>ARB</td>\n",
       "      <td>Arab World</td>\n",
       "      <td>SP.POP.DPND</td>\n",
       "      <td>Age dependency ratio (% of working-age populat...</td>\n",
       "      <td>87.7976011532547</td>\n",
       "      <td>1960</td>\n",
       "    </tr>\n",
       "    <tr>\n",
       "      <th>2</th>\n",
       "      <td>ARB</td>\n",
       "      <td>Arab World</td>\n",
       "      <td>SP.POP.DPND.OL</td>\n",
       "      <td>Age dependency ratio, old (% of working-age po...</td>\n",
       "      <td>6.634579191565161</td>\n",
       "      <td>1960</td>\n",
       "    </tr>\n",
       "    <tr>\n",
       "      <th>3</th>\n",
       "      <td>ARB</td>\n",
       "      <td>Arab World</td>\n",
       "      <td>SP.POP.DPND.YG</td>\n",
       "      <td>Age dependency ratio, young (% of working-age ...</td>\n",
       "      <td>81.02332950839141</td>\n",
       "      <td>1960</td>\n",
       "    </tr>\n",
       "    <tr>\n",
       "      <th>4</th>\n",
       "      <td>ARB</td>\n",
       "      <td>Arab World</td>\n",
       "      <td>MS.MIL.XPRT.KD</td>\n",
       "      <td>Arms exports (SIPRI trend indicator values)</td>\n",
       "      <td>3000000.0</td>\n",
       "      <td>1960</td>\n",
       "    </tr>\n",
       "  </tbody>\n",
       "</table>\n",
       "</div>"
      ],
      "text/plain": [
       "  CountryCode CountryName   IndicatorCode  \\\n",
       "0         ARB  Arab World     SP.ADO.TFRT   \n",
       "1         ARB  Arab World     SP.POP.DPND   \n",
       "2         ARB  Arab World  SP.POP.DPND.OL   \n",
       "3         ARB  Arab World  SP.POP.DPND.YG   \n",
       "4         ARB  Arab World  MS.MIL.XPRT.KD   \n",
       "\n",
       "                                       IndicatorName               Value  Year  \n",
       "0  Adolescent fertility rate (births per 1,000 wo...  133.56090740552298  1960  \n",
       "1  Age dependency ratio (% of working-age populat...    87.7976011532547  1960  \n",
       "2  Age dependency ratio, old (% of working-age po...   6.634579191565161  1960  \n",
       "3  Age dependency ratio, young (% of working-age ...   81.02332950839141  1960  \n",
       "4        Arms exports (SIPRI trend indicator values)           3000000.0  1960  "
      ]
     },
     "execution_count": 37,
     "metadata": {},
     "output_type": "execute_result"
    }
   ],
   "source": [
    "# passar tudo isto para uma dataframe\n",
    "\n",
    "list_of_dicts = [lists2dict(feature_names, sublist) for sublist in row_lists]\n",
    "\n",
    "df = pd.DataFrame(list_of_dicts)\n",
    "\n",
    "df.head()\n"
   ]
  },
  {
   "cell_type": "markdown",
   "metadata": {},
   "source": [
    "#### Exercício 6 - Using Python generators for streaming data"
   ]
  },
  {
   "cell_type": "code",
   "execution_count": 38,
   "metadata": {},
   "outputs": [],
   "source": [
    "#vídeo"
   ]
  },
  {
   "cell_type": "markdown",
   "metadata": {},
   "source": [
    "Exercício 7"
   ]
  },
  {
   "cell_type": "code",
   "execution_count": 39,
   "metadata": {},
   "outputs": [
    {
     "name": "stdout",
     "output_type": "stream",
     "text": [
      "{'Arab World': 5, 'Caribbean small states': 5, 'Central Europe and the Baltics': 5, 'East Asia & Pacific (all income levels)': 5, 'East Asia & Pacific (developing only)': 5, 'Euro area': 5, 'Europe & Central Asia (all income levels)': 5, 'Europe & Central Asia (developing only)': 5, 'European Union': 5, 'Fragile and conflict affected situations': 5, 'Heavily indebted poor countries (HIPC)': 5, 'High income': 5, 'High income: nonOECD': 5, 'High income: OECD': 5, 'Latin America & Caribbean (all income levels)': 5, 'Latin America & Caribbean (developing only)': 5, 'Least developed countries: UN classification': 5, 'Low & middle income': 5, 'Low income': 5, 'Lower middle income': 5, 'Middle East & North Africa (all income levels)': 5, 'Middle East & North Africa (developing only)': 5, 'Middle income': 5, 'North America': 5, 'OECD members': 5, 'Other small states': 5, 'Pacific island small states': 5, 'Small states': 5, 'South Asia': 5, 'Sub-Saharan Africa (all income levels)': 5, 'Sub-Saharan Africa (developing only)': 5, 'Upper middle income': 5, 'World': 4, 'Afghanistan': 4, 'Albania': 4, 'Algeria': 4, 'American Samoa': 4, 'Andorra': 4, 'Angola': 4, 'Antigua and Barbuda': 4, 'Argentina': 4, 'Armenia': 4, 'Aruba': 4, 'Australia': 4, 'Austria': 4, 'Azerbaijan': 4, '\"Bahamas': 4, 'Bahrain': 4, 'Bangladesh': 4, 'Barbados': 4, 'Belarus': 4, 'Belgium': 4, 'Belize': 4, 'Benin': 4, 'Bermuda': 4, 'Bhutan': 4, 'Bolivia': 4, 'Bosnia and Herzegovina': 4, 'Botswana': 4, 'Brazil': 4, 'Brunei Darussalam': 4, 'Bulgaria': 4, 'Burkina Faso': 4, 'Burundi': 4, 'Cabo Verde': 4, 'Cambodia': 4, 'Cameroon': 4, 'Canada': 4, 'Cayman Islands': 4, 'Central African Republic': 4, 'Chad': 4, 'Channel Islands': 4, 'Chile': 4, 'China': 4, 'Colombia': 4, 'Comoros': 4, '\"Congo': 8, 'Costa Rica': 4, \"Cote d'Ivoire\": 4, 'Croatia': 4, 'Cuba': 4, 'Curacao': 4, 'Cyprus': 4, 'Czech Republic': 4, 'Denmark': 4, 'Djibouti': 4, 'Dominica': 4, 'Dominican Republic': 4, 'Ecuador': 4, '\"Egypt': 4, 'El Salvador': 4, 'Equatorial Guinea': 4, 'Eritrea': 4, 'Estonia': 4, 'Ethiopia': 4, 'Faeroe Islands': 4, 'Fiji': 4, 'Finland': 4, 'France': 4, 'French Polynesia': 4, 'Gabon': 4, '\"Gambia': 4, 'Georgia': 4, 'Germany': 4, 'Ghana': 4, 'Greece': 4, 'Greenland': 4, 'Grenada': 4, 'Guam': 4, 'Guatemala': 4, 'Guinea': 4, 'Guinea-Bissau': 4, 'Guyana': 4, 'Haiti': 4, 'Honduras': 4, '\"Hong Kong SAR': 4, 'Hungary': 4, 'Iceland': 4, 'India': 4, 'Indonesia': 4, '\"Iran': 4, 'Iraq': 4, 'Ireland': 4, 'Isle of Man': 4, 'Israel': 4, 'Italy': 4, 'Jamaica': 4, 'Japan': 4, 'Jordan': 4, 'Kazakhstan': 4, 'Kenya': 4, 'Kiribati': 4, '\"Korea': 8, 'Kuwait': 4, 'Kyrgyz Republic': 4, 'Lao PDR': 4, 'Latvia': 4, 'Lebanon': 4, 'Lesotho': 4, 'Liberia': 4, 'Libya': 4, 'Liechtenstein': 4, 'Lithuania': 4, 'Luxembourg': 4, '\"Macao SAR': 4, '\"Macedonia': 4, 'Madagascar': 4, 'Malawi': 4, 'Malaysia': 4, 'Maldives': 4, 'Mali': 4, 'Malta': 4, 'Marshall Islands': 4, 'Mauritania': 4, 'Mauritius': 4, 'Mexico': 4, '\"Micronesia': 4, 'Moldova': 4, 'Monaco': 4, 'Mongolia': 4, 'Montenegro': 4, 'Morocco': 4, 'Mozambique': 4, 'Myanmar': 4, 'Namibia': 4, 'Nepal': 4, 'Netherlands': 4, 'New Caledonia': 4, 'New Zealand': 4, 'Nicaragua': 4, 'Niger': 4, 'Nigeria': 4, 'Northern Mariana Islands': 4, 'Norway': 4, 'Oman': 4, 'Pakistan': 4, 'Palau': 4, 'Panama': 4, 'Papua New Guinea': 4, 'Paraguay': 4, 'Peru': 4, 'Philippines': 4, 'Poland': 4, 'Portugal': 4, 'Puerto Rico': 4, 'Qatar': 4, 'Romania': 4, 'Russian Federation': 4, 'Rwanda': 4, 'Samoa': 4, 'San Marino': 4, 'Sao Tome and Principe': 4, 'Saudi Arabia': 4, 'Senegal': 4, 'Seychelles': 4, 'Sierra Leone': 4, 'Singapore': 4, 'Slovak Republic': 4, 'Slovenia': 4, 'Solomon Islands': 4, 'Somalia': 4, 'South Africa': 4, 'South Sudan': 4, 'Spain': 4, 'Sri Lanka': 4, 'St. Kitts and Nevis': 4, 'St. Lucia': 4, 'St. Vincent and the Grenadines': 4, 'Sudan': 4, 'Suriname': 4, 'Swaziland': 4, 'Sweden': 4, 'Switzerland': 4, 'Syrian Arab Republic': 4, 'Tajikistan': 4, 'Tanzania': 4, 'Thailand': 4, 'Timor-Leste': 4, 'Togo': 4, 'Tonga': 4, 'Trinidad and Tobago': 4, 'Tunisia': 4, 'Turkey': 4, 'Turkmenistan': 4, 'Turks and Caicos Islands': 4, 'Tuvalu': 4, 'Uganda': 4, 'Ukraine': 4, 'United Arab Emirates': 4, 'United Kingdom': 4, 'United States': 4, 'Uruguay': 4, 'Uzbekistan': 4, 'Vanuatu': 4, '\"Venezuela': 4, 'Vietnam': 4, 'Virgin Islands (U.S.)': 4, '\"Yemen': 4, 'Zambia': 4, 'Zimbabwe': 4}\n"
     ]
    },
    {
     "data": {
      "text/plain": [
       "4"
      ]
     },
     "execution_count": 39,
     "metadata": {},
     "output_type": "execute_result"
    }
   ],
   "source": [
    "#Processing data in chunks (1)\n",
    "\n",
    "df_wb = pd.read_csv(data_folder + 'world_ind_pop_data.csv')\n",
    "\n",
    "with open(data_folder + 'world_ind_pop_data.csv') as file:        #------> with is the 'context manager'\n",
    "\n",
    "    # Skip the column names\n",
    "    file.readline()             #The method readline() reads one entire line from the file.\n",
    "\n",
    "    counts_dict = {}\n",
    "\n",
    "    # Process only the first 1000 rows\n",
    "    for j in range(0, 1000):\n",
    "\n",
    "        # Split the current line into a list: line\n",
    "        line = file.readline().split(',')\n",
    "\n",
    "        first_col = line[0]    # (onde estão os nomes)\n",
    "\n",
    "        if first_col in counts_dict.keys():\n",
    "            counts_dict[first_col] += 1\n",
    "        else:\n",
    "            counts_dict[first_col] = 1\n",
    "\n",
    "print(counts_dict)   # quantas vezes cada país aparece nas 1000 linhas\n",
    "\n",
    "counts_dict['Portugal']\n",
    "# vvv = list(counts_dict.values())[-5:]\n",
    "# kkk = list(counts_dict.keys())[-5:]\n",
    "# plt.bar(kkk, vvv)"
   ]
  },
  {
   "cell_type": "markdown",
   "metadata": {},
   "source": [
    "Exercício 8"
   ]
  },
  {
   "cell_type": "code",
   "execution_count": 40,
   "metadata": {},
   "outputs": [
    {
     "name": "stdout",
     "output_type": "stream",
     "text": [
      "CountryName,CountryCode,Year,Total Population,Urban population (% of total)\n",
      "\n",
      "Arab World,ARB,1960,92495902.0,31.285384211605397\n",
      "\n",
      "Caribbean small states,CSS,1960,4190810.0,31.5974898513652\n",
      "\n"
     ]
    }
   ],
   "source": [
    "# Writing a generator to load data in chunks (2)\n",
    "\n",
    "def read_large_file(file_object):\n",
    "    \"\"\"A generator function to read a large file lazily.\"\"\"\n",
    "\n",
    "    while True:\n",
    "\n",
    "        data = file_object.readline()        #lê uma linha do file_object\n",
    "\n",
    "        # Break if this is the end of the file\n",
    "        if not data:\n",
    "            break\n",
    "            \n",
    "        yield data\n",
    "\n",
    "  ###########################################################################################\n",
    "      \n",
    "# Open a connection to the file\n",
    "with open(data_folder + 'world_ind_pop_data.csv') as file:\n",
    "\n",
    "    # Create a generator object for the file: gen_file\n",
    "    gen_file = (read_large_file(file))\n",
    "\n",
    "    # Print the first three lines of the file\n",
    "    print(next(gen_file))\n",
    "    print(next(gen_file))\n",
    "    print(next(gen_file))\n",
    "    \n",
    "# Since a file object is already a generator, you don't have to explicitly create a generator object with your \n",
    "# read_large_file() function."
   ]
  },
  {
   "cell_type": "markdown",
   "metadata": {},
   "source": [
    "Exercício 9"
   ]
  },
  {
   "cell_type": "code",
   "execution_count": 41,
   "metadata": {},
   "outputs": [
    {
     "name": "stdout",
     "output_type": "stream",
     "text": [
      "<generator object read_large_file at 0x000002DF5CD5C4F8>\n",
      "===================================================================================================\n"
     ]
    },
    {
     "data": {
      "text/plain": [
       "{'CountryName': 1,\n",
       " 'Arab World': 55,\n",
       " 'Caribbean small states': 55,\n",
       " 'Central Europe and the Baltics': 55,\n",
       " 'East Asia & Pacific (all income levels)': 55,\n",
       " 'East Asia & Pacific (developing only)': 55,\n",
       " 'Euro area': 55,\n",
       " 'Europe & Central Asia (all income levels)': 55,\n",
       " 'Europe & Central Asia (developing only)': 55,\n",
       " 'European Union': 55,\n",
       " 'Fragile and conflict affected situations': 55,\n",
       " 'Heavily indebted poor countries (HIPC)': 55,\n",
       " 'High income': 55,\n",
       " 'High income: nonOECD': 55,\n",
       " 'High income: OECD': 55,\n",
       " 'Latin America & Caribbean (all income levels)': 55,\n",
       " 'Latin America & Caribbean (developing only)': 55,\n",
       " 'Least developed countries: UN classification': 55,\n",
       " 'Low & middle income': 55,\n",
       " 'Low income': 55,\n",
       " 'Lower middle income': 55,\n",
       " 'Middle East & North Africa (all income levels)': 55,\n",
       " 'Middle East & North Africa (developing only)': 55,\n",
       " 'Middle income': 55,\n",
       " 'North America': 55,\n",
       " 'OECD members': 55,\n",
       " 'Other small states': 55,\n",
       " 'Pacific island small states': 55,\n",
       " 'Small states': 55,\n",
       " 'South Asia': 55,\n",
       " 'Sub-Saharan Africa (all income levels)': 55,\n",
       " 'Sub-Saharan Africa (developing only)': 55,\n",
       " 'Upper middle income': 55,\n",
       " 'World': 55,\n",
       " 'Afghanistan': 55,\n",
       " 'Albania': 55,\n",
       " 'Algeria': 55,\n",
       " 'American Samoa': 55,\n",
       " 'Andorra': 55,\n",
       " 'Angola': 55,\n",
       " 'Antigua and Barbuda': 55,\n",
       " 'Argentina': 55,\n",
       " 'Armenia': 55,\n",
       " 'Aruba': 55,\n",
       " 'Australia': 55,\n",
       " 'Austria': 55,\n",
       " 'Azerbaijan': 55,\n",
       " '\"Bahamas': 55,\n",
       " 'Bahrain': 55,\n",
       " 'Bangladesh': 55,\n",
       " 'Barbados': 55,\n",
       " 'Belarus': 55,\n",
       " 'Belgium': 55,\n",
       " 'Belize': 55,\n",
       " 'Benin': 55,\n",
       " 'Bermuda': 55,\n",
       " 'Bhutan': 55,\n",
       " 'Bolivia': 55,\n",
       " 'Bosnia and Herzegovina': 55,\n",
       " 'Botswana': 55,\n",
       " 'Brazil': 55,\n",
       " 'Brunei Darussalam': 55,\n",
       " 'Bulgaria': 55,\n",
       " 'Burkina Faso': 55,\n",
       " 'Burundi': 55,\n",
       " 'Cabo Verde': 55,\n",
       " 'Cambodia': 55,\n",
       " 'Cameroon': 55,\n",
       " 'Canada': 55,\n",
       " 'Cayman Islands': 55,\n",
       " 'Central African Republic': 55,\n",
       " 'Chad': 55,\n",
       " 'Channel Islands': 55,\n",
       " 'Chile': 55,\n",
       " 'China': 55,\n",
       " 'Colombia': 55,\n",
       " 'Comoros': 55,\n",
       " '\"Congo': 110,\n",
       " 'Costa Rica': 55,\n",
       " \"Cote d'Ivoire\": 55,\n",
       " 'Croatia': 55,\n",
       " 'Cuba': 55,\n",
       " 'Curacao': 55,\n",
       " 'Cyprus': 55,\n",
       " 'Czech Republic': 55,\n",
       " 'Denmark': 55,\n",
       " 'Djibouti': 55,\n",
       " 'Dominica': 55,\n",
       " 'Dominican Republic': 55,\n",
       " 'Ecuador': 55,\n",
       " '\"Egypt': 55,\n",
       " 'El Salvador': 55,\n",
       " 'Equatorial Guinea': 55,\n",
       " 'Eritrea': 55,\n",
       " 'Estonia': 55,\n",
       " 'Ethiopia': 55,\n",
       " 'Faeroe Islands': 55,\n",
       " 'Fiji': 55,\n",
       " 'Finland': 55,\n",
       " 'France': 55,\n",
       " 'French Polynesia': 55,\n",
       " 'Gabon': 55,\n",
       " '\"Gambia': 55,\n",
       " 'Georgia': 55,\n",
       " 'Germany': 55,\n",
       " 'Ghana': 55,\n",
       " 'Greece': 55,\n",
       " 'Greenland': 55,\n",
       " 'Grenada': 55,\n",
       " 'Guam': 55,\n",
       " 'Guatemala': 55,\n",
       " 'Guinea': 55,\n",
       " 'Guinea-Bissau': 55,\n",
       " 'Guyana': 55,\n",
       " 'Haiti': 55,\n",
       " 'Honduras': 55,\n",
       " '\"Hong Kong SAR': 55,\n",
       " 'Hungary': 55,\n",
       " 'Iceland': 55,\n",
       " 'India': 55,\n",
       " 'Indonesia': 55,\n",
       " '\"Iran': 55,\n",
       " 'Iraq': 55,\n",
       " 'Ireland': 55,\n",
       " 'Isle of Man': 55,\n",
       " 'Israel': 55,\n",
       " 'Italy': 55,\n",
       " 'Jamaica': 55,\n",
       " 'Japan': 55,\n",
       " 'Jordan': 55,\n",
       " 'Kazakhstan': 55,\n",
       " 'Kenya': 55,\n",
       " 'Kiribati': 55,\n",
       " '\"Korea': 110,\n",
       " 'Kuwait': 52,\n",
       " 'Kyrgyz Republic': 55,\n",
       " 'Lao PDR': 55,\n",
       " 'Latvia': 55,\n",
       " 'Lebanon': 55,\n",
       " 'Lesotho': 55,\n",
       " 'Liberia': 55,\n",
       " 'Libya': 55,\n",
       " 'Liechtenstein': 55,\n",
       " 'Lithuania': 55,\n",
       " 'Luxembourg': 55,\n",
       " '\"Macao SAR': 55,\n",
       " '\"Macedonia': 55,\n",
       " 'Madagascar': 55,\n",
       " 'Malawi': 55,\n",
       " 'Malaysia': 55,\n",
       " 'Maldives': 55,\n",
       " 'Mali': 55,\n",
       " 'Malta': 55,\n",
       " 'Marshall Islands': 55,\n",
       " 'Mauritania': 55,\n",
       " 'Mauritius': 55,\n",
       " 'Mexico': 55,\n",
       " '\"Micronesia': 55,\n",
       " 'Moldova': 55,\n",
       " 'Monaco': 55,\n",
       " 'Mongolia': 55,\n",
       " 'Montenegro': 55,\n",
       " 'Morocco': 55,\n",
       " 'Mozambique': 55,\n",
       " 'Myanmar': 55,\n",
       " 'Namibia': 55,\n",
       " 'Nepal': 55,\n",
       " 'Netherlands': 55,\n",
       " 'New Caledonia': 55,\n",
       " 'New Zealand': 55,\n",
       " 'Nicaragua': 55,\n",
       " 'Niger': 55,\n",
       " 'Nigeria': 55,\n",
       " 'Northern Mariana Islands': 55,\n",
       " 'Norway': 55,\n",
       " 'Oman': 55,\n",
       " 'Pakistan': 55,\n",
       " 'Palau': 55,\n",
       " 'Panama': 55,\n",
       " 'Papua New Guinea': 55,\n",
       " 'Paraguay': 55,\n",
       " 'Peru': 55,\n",
       " 'Philippines': 55,\n",
       " 'Poland': 55,\n",
       " 'Portugal': 55,\n",
       " 'Puerto Rico': 55,\n",
       " 'Qatar': 55,\n",
       " 'Romania': 55,\n",
       " 'Russian Federation': 55,\n",
       " 'Rwanda': 55,\n",
       " 'Samoa': 55,\n",
       " 'San Marino': 55,\n",
       " 'Sao Tome and Principe': 55,\n",
       " 'Saudi Arabia': 55,\n",
       " 'Senegal': 55,\n",
       " 'Seychelles': 55,\n",
       " 'Sierra Leone': 55,\n",
       " 'Singapore': 55,\n",
       " 'Slovak Republic': 55,\n",
       " 'Slovenia': 55,\n",
       " 'Solomon Islands': 55,\n",
       " 'Somalia': 55,\n",
       " 'South Africa': 55,\n",
       " 'South Sudan': 55,\n",
       " 'Spain': 55,\n",
       " 'Sri Lanka': 55,\n",
       " 'St. Kitts and Nevis': 55,\n",
       " 'St. Lucia': 55,\n",
       " 'St. Vincent and the Grenadines': 55,\n",
       " 'Sudan': 55,\n",
       " 'Suriname': 55,\n",
       " 'Swaziland': 55,\n",
       " 'Sweden': 55,\n",
       " 'Switzerland': 55,\n",
       " 'Syrian Arab Republic': 55,\n",
       " 'Tajikistan': 55,\n",
       " 'Tanzania': 55,\n",
       " 'Thailand': 55,\n",
       " 'Timor-Leste': 55,\n",
       " 'Togo': 55,\n",
       " 'Tonga': 55,\n",
       " 'Trinidad and Tobago': 55,\n",
       " 'Tunisia': 55,\n",
       " 'Turkey': 55,\n",
       " 'Turkmenistan': 55,\n",
       " 'Turks and Caicos Islands': 55,\n",
       " 'Tuvalu': 55,\n",
       " 'Uganda': 55,\n",
       " 'Ukraine': 55,\n",
       " 'United Arab Emirates': 55,\n",
       " 'United Kingdom': 55,\n",
       " 'United States': 55,\n",
       " 'Uruguay': 55,\n",
       " 'Uzbekistan': 55,\n",
       " 'Vanuatu': 55,\n",
       " '\"Venezuela': 55,\n",
       " 'Vietnam': 55,\n",
       " 'Virgin Islands (U.S.)': 55,\n",
       " '\"Yemen': 55,\n",
       " 'Zambia': 55,\n",
       " 'Zimbabwe': 55,\n",
       " 'Serbia': 25,\n",
       " 'West Bank and Gaza': 25,\n",
       " 'Sint Maarten (Dutch part)': 17}"
      ]
     },
     "execution_count": 41,
     "metadata": {},
     "output_type": "execute_result"
    }
   ],
   "source": [
    "# Writing a generator to load data in chunks (3)\n",
    "\n",
    "def read_large_file(file_object):\n",
    "    while True:\n",
    "        data = file_object.readline()        \n",
    "        if not data:\n",
    "            break\n",
    "        \n",
    "        yield data\n",
    "\n",
    "print(read_large_file(data_folder + 'world_ind_pop_data.csv'))\n",
    "print(\"===================================================================================================\")\n",
    "#############################################################################################################\n",
    "\n",
    "#Process the file line by line, to create a dictionary of the counts of how many times each country appears in a column in the df\n",
    "# For this exercise, however, you won't process just 1000 rows of data, but the entire dataset\n",
    "\n",
    "############################################################################################################\n",
    "\n",
    "counts_dict = {}\n",
    "\n",
    "with open(data_folder + 'world_ind_pop_data.csv') as file:\n",
    "\n",
    "    for line in read_large_file(file):\n",
    "\n",
    "        row = line.split(',')\n",
    "        first_col = row[0]\n",
    "\n",
    "        if first_col in counts_dict.keys():\n",
    "            counts_dict[first_col] += 1\n",
    "        else:\n",
    "            counts_dict[first_col] = 1\n",
    "\n",
    "            \n",
    "counts_dict"
   ]
  },
  {
   "cell_type": "markdown",
   "metadata": {},
   "source": [
    "#### Exercício 10 - Using pandas read_csv iterator for streaming data"
   ]
  },
  {
   "cell_type": "code",
   "execution_count": 42,
   "metadata": {},
   "outputs": [],
   "source": [
    "#vídeo"
   ]
  },
  {
   "cell_type": "markdown",
   "metadata": {},
   "source": [
    "Exercício 11"
   ]
  },
  {
   "cell_type": "code",
   "execution_count": 43,
   "metadata": {},
   "outputs": [
    {
     "data": {
      "text/html": [
       "<div>\n",
       "<style scoped>\n",
       "    .dataframe tbody tr th:only-of-type {\n",
       "        vertical-align: middle;\n",
       "    }\n",
       "\n",
       "    .dataframe tbody tr th {\n",
       "        vertical-align: top;\n",
       "    }\n",
       "\n",
       "    .dataframe thead th {\n",
       "        text-align: right;\n",
       "    }\n",
       "</style>\n",
       "<table border=\"1\" class=\"dataframe\">\n",
       "  <thead>\n",
       "    <tr style=\"text-align: right;\">\n",
       "      <th></th>\n",
       "      <th>CountryName</th>\n",
       "      <th>CountryCode</th>\n",
       "      <th>Year</th>\n",
       "      <th>Total Population</th>\n",
       "      <th>Urban population (% of total)</th>\n",
       "    </tr>\n",
       "  </thead>\n",
       "  <tbody>\n",
       "    <tr>\n",
       "      <th>0</th>\n",
       "      <td>Arab World</td>\n",
       "      <td>ARB</td>\n",
       "      <td>1960</td>\n",
       "      <td>9.249590e+07</td>\n",
       "      <td>31.285384</td>\n",
       "    </tr>\n",
       "    <tr>\n",
       "      <th>1</th>\n",
       "      <td>Caribbean small states</td>\n",
       "      <td>CSS</td>\n",
       "      <td>1960</td>\n",
       "      <td>4.190810e+06</td>\n",
       "      <td>31.597490</td>\n",
       "    </tr>\n",
       "    <tr>\n",
       "      <th>2</th>\n",
       "      <td>Central Europe and the Baltics</td>\n",
       "      <td>CEB</td>\n",
       "      <td>1960</td>\n",
       "      <td>9.140158e+07</td>\n",
       "      <td>44.507921</td>\n",
       "    </tr>\n",
       "    <tr>\n",
       "      <th>3</th>\n",
       "      <td>East Asia &amp; Pacific (all income levels)</td>\n",
       "      <td>EAS</td>\n",
       "      <td>1960</td>\n",
       "      <td>1.042475e+09</td>\n",
       "      <td>22.471132</td>\n",
       "    </tr>\n",
       "    <tr>\n",
       "      <th>4</th>\n",
       "      <td>East Asia &amp; Pacific (developing only)</td>\n",
       "      <td>EAP</td>\n",
       "      <td>1960</td>\n",
       "      <td>8.964930e+08</td>\n",
       "      <td>16.917679</td>\n",
       "    </tr>\n",
       "    <tr>\n",
       "      <th>5</th>\n",
       "      <td>Euro area</td>\n",
       "      <td>EMU</td>\n",
       "      <td>1960</td>\n",
       "      <td>2.653965e+08</td>\n",
       "      <td>62.096947</td>\n",
       "    </tr>\n",
       "    <tr>\n",
       "      <th>6</th>\n",
       "      <td>Europe &amp; Central Asia (all income levels)</td>\n",
       "      <td>ECS</td>\n",
       "      <td>1960</td>\n",
       "      <td>6.674890e+08</td>\n",
       "      <td>55.378977</td>\n",
       "    </tr>\n",
       "    <tr>\n",
       "      <th>7</th>\n",
       "      <td>Europe &amp; Central Asia (developing only)</td>\n",
       "      <td>ECA</td>\n",
       "      <td>1960</td>\n",
       "      <td>1.553174e+08</td>\n",
       "      <td>38.066129</td>\n",
       "    </tr>\n",
       "    <tr>\n",
       "      <th>8</th>\n",
       "      <td>European Union</td>\n",
       "      <td>EUU</td>\n",
       "      <td>1960</td>\n",
       "      <td>4.094985e+08</td>\n",
       "      <td>61.212898</td>\n",
       "    </tr>\n",
       "    <tr>\n",
       "      <th>9</th>\n",
       "      <td>Fragile and conflict affected situations</td>\n",
       "      <td>FCS</td>\n",
       "      <td>1960</td>\n",
       "      <td>1.203546e+08</td>\n",
       "      <td>17.891972</td>\n",
       "    </tr>\n",
       "  </tbody>\n",
       "</table>\n",
       "</div>"
      ],
      "text/plain": [
       "                                 CountryName CountryCode  Year  \\\n",
       "0                                 Arab World         ARB  1960   \n",
       "1                     Caribbean small states         CSS  1960   \n",
       "2             Central Europe and the Baltics         CEB  1960   \n",
       "3    East Asia & Pacific (all income levels)         EAS  1960   \n",
       "4      East Asia & Pacific (developing only)         EAP  1960   \n",
       "5                                  Euro area         EMU  1960   \n",
       "6  Europe & Central Asia (all income levels)         ECS  1960   \n",
       "7    Europe & Central Asia (developing only)         ECA  1960   \n",
       "8                             European Union         EUU  1960   \n",
       "9   Fragile and conflict affected situations         FCS  1960   \n",
       "\n",
       "   Total Population  Urban population (% of total)  \n",
       "0      9.249590e+07                      31.285384  \n",
       "1      4.190810e+06                      31.597490  \n",
       "2      9.140158e+07                      44.507921  \n",
       "3      1.042475e+09                      22.471132  \n",
       "4      8.964930e+08                      16.917679  \n",
       "5      2.653965e+08                      62.096947  \n",
       "6      6.674890e+08                      55.378977  \n",
       "7      1.553174e+08                      38.066129  \n",
       "8      4.094985e+08                      61.212898  \n",
       "9      1.203546e+08                      17.891972  "
      ]
     },
     "execution_count": 43,
     "metadata": {},
     "output_type": "execute_result"
    }
   ],
   "source": [
    "df_wb = pd.read_csv(data_folder + 'world_ind_pop_data.csv')\n",
    "\n",
    "import pandas as pd\n",
    "\n",
    "df_reader = pd.read_csv(data_folder + 'world_ind_pop_data.csv', chunksize=10)\n",
    "\n",
    "next(df_reader)  #vem em chunks de 10\n"
   ]
  },
  {
   "cell_type": "markdown",
   "metadata": {},
   "source": [
    "Exercício 12"
   ]
  },
  {
   "cell_type": "code",
   "execution_count": 44,
   "metadata": {},
   "outputs": [
    {
     "name": "stdout",
     "output_type": "stream",
     "text": [
      "[(91401583.0, 44.5079211390026), (92237118.0, 45.206665319194), (93014890.0, 45.866564696018), (93845749.0, 46.5340927663649), (94722599.0, 47.2087429803526)]\n"
     ]
    },
    {
     "data": {
      "text/html": [
       "<div>\n",
       "<style scoped>\n",
       "    .dataframe tbody tr th:only-of-type {\n",
       "        vertical-align: middle;\n",
       "    }\n",
       "\n",
       "    .dataframe tbody tr th {\n",
       "        vertical-align: top;\n",
       "    }\n",
       "\n",
       "    .dataframe thead th {\n",
       "        text-align: right;\n",
       "    }\n",
       "</style>\n",
       "<table border=\"1\" class=\"dataframe\">\n",
       "  <thead>\n",
       "    <tr style=\"text-align: right;\">\n",
       "      <th></th>\n",
       "      <th>CountryName</th>\n",
       "      <th>CountryCode</th>\n",
       "      <th>Year</th>\n",
       "      <th>Total Population</th>\n",
       "      <th>Urban population (% of total)</th>\n",
       "    </tr>\n",
       "  </thead>\n",
       "  <tbody>\n",
       "    <tr>\n",
       "      <th>2</th>\n",
       "      <td>Central Europe and the Baltics</td>\n",
       "      <td>CEB</td>\n",
       "      <td>1960</td>\n",
       "      <td>91401583.0</td>\n",
       "      <td>44.507921</td>\n",
       "    </tr>\n",
       "    <tr>\n",
       "      <th>244</th>\n",
       "      <td>Central Europe and the Baltics</td>\n",
       "      <td>CEB</td>\n",
       "      <td>1961</td>\n",
       "      <td>92237118.0</td>\n",
       "      <td>45.206665</td>\n",
       "    </tr>\n",
       "    <tr>\n",
       "      <th>486</th>\n",
       "      <td>Central Europe and the Baltics</td>\n",
       "      <td>CEB</td>\n",
       "      <td>1962</td>\n",
       "      <td>93014890.0</td>\n",
       "      <td>45.866565</td>\n",
       "    </tr>\n",
       "    <tr>\n",
       "      <th>728</th>\n",
       "      <td>Central Europe and the Baltics</td>\n",
       "      <td>CEB</td>\n",
       "      <td>1963</td>\n",
       "      <td>93845749.0</td>\n",
       "      <td>46.534093</td>\n",
       "    </tr>\n",
       "    <tr>\n",
       "      <th>970</th>\n",
       "      <td>Central Europe and the Baltics</td>\n",
       "      <td>CEB</td>\n",
       "      <td>1964</td>\n",
       "      <td>94722599.0</td>\n",
       "      <td>47.208743</td>\n",
       "    </tr>\n",
       "  </tbody>\n",
       "</table>\n",
       "</div>"
      ],
      "text/plain": [
       "                        CountryName CountryCode  Year  Total Population  \\\n",
       "2    Central Europe and the Baltics         CEB  1960        91401583.0   \n",
       "244  Central Europe and the Baltics         CEB  1961        92237118.0   \n",
       "486  Central Europe and the Baltics         CEB  1962        93014890.0   \n",
       "728  Central Europe and the Baltics         CEB  1963        93845749.0   \n",
       "970  Central Europe and the Baltics         CEB  1964        94722599.0   \n",
       "\n",
       "     Urban population (% of total)  \n",
       "2                        44.507921  \n",
       "244                      45.206665  \n",
       "486                      45.866565  \n",
       "728                      46.534093  \n",
       "970                      47.208743  "
      ]
     },
     "execution_count": 44,
     "metadata": {},
     "output_type": "execute_result"
    }
   ],
   "source": [
    "# Initialize reader object: urb_pop_reader\n",
    "df_reader_2 = pd.read_csv(data_folder + 'world_ind_pop_data.csv', chunksize=1000)\n",
    "\n",
    "# Get the first DataFrame chunk: df_urb_pop\n",
    "df_urb_pop = next(df_reader_2)\n",
    "\n",
    "# Check out the head of df_urb_pop\n",
    "\n",
    "# Check out specific country: df_pop_ceb\n",
    "df_pop_ceb = df_urb_pop[df_urb_pop['CountryCode'] == 'CEB']\n",
    "\n",
    "# Zip DataFrame columns of interest: pops\n",
    "pops = zip(df_pop_ceb['Total Population'], df_pop_ceb['Urban population (% of total)'])\n",
    "\n",
    "# Turn zip object into list: pops_list\n",
    "pops_list = list(pops)\n",
    "\n",
    "# Print pops_list\n",
    "print(pops_list)\n",
    "\n",
    "# df_urb_pop.head()\n",
    "df_pop_ceb.head()"
   ]
  },
  {
   "cell_type": "markdown",
   "metadata": {},
   "source": [
    "Exercício 13"
   ]
  },
  {
   "cell_type": "code",
   "execution_count": 45,
   "metadata": {},
   "outputs": [
    {
     "name": "stdout",
     "output_type": "stream",
     "text": [
      "[(91401583.0, 44.5079211390026), (92237118.0, 45.206665319194), (93014890.0, 45.866564696018), (93845749.0, 46.5340927663649), (94722599.0, 47.2087429803526)]\n"
     ]
    },
    {
     "name": "stderr",
     "output_type": "stream",
     "text": [
      "C:\\Users\\Utilizador\\Anaconda3\\lib\\site-packages\\ipykernel_launcher.py:12: SettingWithCopyWarning: \n",
      "A value is trying to be set on a copy of a slice from a DataFrame.\n",
      "Try using .loc[row_indexer,col_indexer] = value instead\n",
      "\n",
      "See the caveats in the documentation: http://pandas.pydata.org/pandas-docs/stable/indexing.html#indexing-view-versus-copy\n",
      "  if sys.path[0] == '':\n"
     ]
    },
    {
     "data": {
      "image/png": "[encoded data removed]",
      "text/plain": [
       "<Figure size 432x288 with 1 Axes>"
      ]
     },
     "metadata": {
      "needs_background": "light"
     },
     "output_type": "display_data"
    }
   ],
   "source": [
    "# using a list comprehension, create the values for a NEW COLUMN 'Total Urban Population'\n",
    "\n",
    "df_reader_2 = pd.read_csv(data_folder + 'world_ind_pop_data.csv', chunksize=1000)  #load the data\n",
    "df_urb_pop = next(df_reader_2)  # pick the first chunk of 1000\n",
    "df_pop_ceb = df_urb_pop[df_urb_pop['CountryCode'] == 'CEB']  # filter the countries with country code == 'CEB' on that chunk\n",
    "pops = zip(df_pop_ceb['Total Population'], df_pop_ceb['Urban population (% of total)'])  #zip the total pop and urban pop of that\n",
    "pops_list = list(pops)  #unpack it, so that it can be analyzed\n",
    "\n",
    "print(pops_list)\n",
    "######################################################################################################################\n",
    "\n",
    "df_pop_ceb['Total Urban Population'] = [int(entry[0]*entry[1]/100) for entry in pops_list]   #create a new column with the urbpop\n",
    "\n",
    "\n",
    "import matplotlib.pyplot as plt\n",
    "#plot\n",
    "df_pop_ceb.plot(kind='line', x='Year', y='Total Urban Population')\n",
    "plt.show()"
   ]
  },
  {
   "cell_type": "markdown",
   "metadata": {},
   "source": [
    "Exercício 14"
   ]
  },
  {
   "cell_type": "code",
   "execution_count": 46,
   "metadata": {},
   "outputs": [
    {
     "name": "stderr",
     "output_type": "stream",
     "text": [
      "C:\\Users\\Utilizador\\Anaconda3\\lib\\site-packages\\ipykernel_launcher.py:23: SettingWithCopyWarning: \n",
      "A value is trying to be set on a copy of a slice from a DataFrame.\n",
      "Try using .loc[row_indexer,col_indexer] = value instead\n",
      "\n",
      "See the caveats in the documentation: http://pandas.pydata.org/pandas-docs/stable/indexing.html#indexing-view-versus-copy\n"
     ]
    },
    {
     "data": {
      "image/png": "[encoded data removed]",
      "text/plain": [
       "<Figure size 432x288 with 1 Axes>"
      ]
     },
     "metadata": {
      "needs_background": "light"
     },
     "output_type": "display_data"
    }
   ],
   "source": [
    "# Agora usando o ficheiro todo, criando um dataFrame com os dados para esse countrycode, 'CEB'\n",
    "\n",
    "\n",
    "df_reader_2 = pd.read_csv(data_folder + 'world_ind_pop_data.csv', chunksize=1000)\n",
    "df_urb_pop = next(df_reader_2)\n",
    "\n",
    "# Initialize empty DataFrame: data\n",
    "data = pd.DataFrame()\n",
    "\n",
    "# Iterate over each DataFrame chunk\n",
    "for df_urb_pop in df_reader_2:   #para cada chunk de 1000 no ficheiro,\n",
    "\n",
    "    # Check out specific country: df_pop_ceb\n",
    "    df_pop_ceb = df_urb_pop[df_urb_pop['CountryCode'] == 'CEB']  #filtrar os CountryCode que são 'CEB'\n",
    "\n",
    "    # Zip DataFrame columns of interest: pops\n",
    "    pops = zip(df_pop_ceb['Total Population'], df_pop_ceb['Urban population (% of total)'])  #zipá-los\n",
    "\n",
    "    # Turn zip object into list: pops_list\n",
    "    pops_list = list(pops)   #unpack\n",
    "\n",
    "    # Use list comprehension to create new DataFrame column 'Total Urban Population'\n",
    "    df_pop_ceb['Total Urban Population'] = [int(tup[0] * tup[1] * 0.01) for tup in pops_list]  #adicionar nova coluna, urbpop\n",
    "    \n",
    "    # Append DataFrame chunk to data: data\n",
    "    data = data.append(df_pop_ceb)\n",
    "\n",
    "# Plot urban population data\n",
    "data.plot(kind='scatter', x='Year', y='Total Urban Population')\n",
    "plt.title(\"Evolution of the Total Urban Population in CEB\")\n",
    "plt.show()\n"
   ]
  },
  {
   "cell_type": "markdown",
   "metadata": {},
   "source": [
    "Exercício 15"
   ]
  },
  {
   "cell_type": "code",
   "execution_count": 47,
   "metadata": {},
   "outputs": [
    {
     "name": "stderr",
     "output_type": "stream",
     "text": [
      "C:\\Users\\Utilizador\\Anaconda3\\lib\\site-packages\\ipykernel_launcher.py:22: SettingWithCopyWarning: \n",
      "A value is trying to be set on a copy of a slice from a DataFrame.\n",
      "Try using .loc[row_indexer,col_indexer] = value instead\n",
      "\n",
      "See the caveats in the documentation: http://pandas.pydata.org/pandas-docs/stable/indexing.html#indexing-view-versus-copy\n"
     ]
    },
    {
     "data": {
      "image/png": "[encoded data removed]",
      "text/plain": [
       "<Figure size 432x288 with 1 Axes>"
      ]
     },
     "metadata": {
      "needs_background": "light"
     },
     "output_type": "display_data"
    },
    {
     "data": {
      "image/png": "[encoded data removed]",
      "text/plain": [
       "<Figure size 432x288 with 1 Axes>"
      ]
     },
     "metadata": {
      "needs_background": "light"
     },
     "output_type": "display_data"
    }
   ],
   "source": [
    "# construir uma função geral(ficheiro, countrycode)\n",
    "\n",
    "def plot_pop(filename, country_code):\n",
    "\n",
    "    df_reader_x = pd.read_csv(filename, chunksize=1000)\n",
    "    df_urb_pop = next(df_reader_x)\n",
    "    \n",
    "    data = pd.DataFrame()\n",
    "    \n",
    "    # Iterate over each DataFrame chunk\n",
    "    for df_urb_pop in df_reader_x:\n",
    "        # Check out specific country: df_pop_ceb\n",
    "        df_pop_ceb = df_urb_pop[df_urb_pop['CountryCode'] == country_code]\n",
    "\n",
    "        # Zip DataFrame columns of interest: pops\n",
    "        pops = zip(df_pop_ceb['Total Population'], df_pop_ceb['Urban population (% of total)'])\n",
    "\n",
    "        # Turn zip object into list: pops_list\n",
    "        pops_list = list(pops)\n",
    "\n",
    "        # Use list comprehension to create new DataFrame column 'Total Urban Population'\n",
    "        df_pop_ceb['Total Urban Population'] = [int(tup[0] * tup[1] * 0.01) for tup in pops_list]\n",
    "    \n",
    "        # Append DataFrame chunk to data: data\n",
    "        data = data.append(df_pop_ceb)  #vai adicionando o filtro definido chunk a chunk\n",
    "\n",
    "    # Plot urban population data\n",
    "    data.plot(kind='scatter', x='Year', y='Total Urban Population')\n",
    "    plt.show()\n",
    "\n",
    "\n",
    "# Call plot_pop for country code 'CEB'\n",
    "plot_pop((data_folder + 'world_ind_pop_data.csv'), 'CEB')\n",
    "\n",
    "# Call plot_pop for country code 'ARB'\n",
    "plot_pop((data_folder + 'world_ind_pop_data.csv'), 'ARB')\n"
   ]
  },
  {
   "cell_type": "markdown",
   "metadata": {},
   "source": [
    "Exercício 16"
   ]
  },
  {
   "cell_type": "code",
   "execution_count": 48,
   "metadata": {},
   "outputs": [],
   "source": [
    "#vídeo"
   ]
  },
  {
   "cell_type": "markdown",
   "metadata": {},
   "source": [
    "# Fim"
   ]
  }
 ],
 "metadata": {
  "kernelspec": {
   "display_name": "Python 3",
   "language": "python",
   "name": "python3"
  },
  "language_info": {
   "codemirror_mode": {
    "name": "ipython",
    "version": 3
   },
   "file_extension": ".py",
   "mimetype": "text/x-python",
   "name": "python",
   "nbconvert_exporter": "python",
   "pygments_lexer": "ipython3",
   "version": "3.7.0"
  }
 },
 "nbformat": 4,
 "nbformat_minor": 2
}
